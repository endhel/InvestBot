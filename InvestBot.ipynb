{
 "cells": [
  {
   "cell_type": "markdown",
   "metadata": {
    "heading_collapsed": true
   },
   "source": [
    "# InvestBot: a bot for stock classification using fundamentalist analysis\n",
    "\n",
    "InvestBot is a decision support tool for investors. It consists of classifying stocks on the stock exchange as a reliable investment or not to buy at that particular time, based on the following criteria:\n",
    "\n",
    "- if the stock price will yield 3% or more until the next quarter\n",
    "\n",
    "That is, a stock will be classified as reliable if it yields 3% or more. If the stock depreciates, or yield less than 3%, it will be classified as unreliable. \n",
    "\n",
    "**An important question is: how will we predict if a stock will appreciate until the next quarter?**\n",
    "\n",
    "Basically, we will use a very famous approach in the investment world: fundamental analysis. This technique aims to determine the intrinsic value of a company, and its growth potential. For this, it uses some data that are called fundamental indicators, and these can be found from the balance sheet and income statement of companies.\n",
    "\n",
    "With the data from the indicators collected, and the classes of stocks already defined, following the criteria explained above, some classification models will be trained, in order that they can predict whether a stock will appreciate more than 3% until the next quarter.\n",
    "\n",
    "However, a doubt may arise: **fundamental analysis is used for medium and long-term investments, so is it possible to analyze the data of fundamental indicators to determine if a stock will appreciate until the next quarter? Well, that's what we'll find out at the end of this work.** As the fundamental analysis makes it possible to discover the real value of a stock, it may be possible from it to determine whether a stock will appreciate in value until the next quarter.\n",
    "\n",
    "**The main objective here is to build a tool that supports investors' decision making for short-term investments, helping him to determine whether an action is reliable to buy at any given time.**\n",
    "\n",
    "In the next sections, each of the steps necessary for us to reach the desired result will be developed.\n",
    "\n",
    "## Solution Proposal\n",
    "\n",
    "To solve the problem, we will follow these steps:\n",
    "\n",
    "- **0.0.** Data Collection.\n",
    "- **1.0.** Data Description.\n",
    "- **2.0.** Feature Engineering\n",
    "- **3.0.** Data Filtering\n",
    "- **4.0.** Exploratory Data Analysis\n",
    "- **5.0.** Data Preparation\n",
    "- **6.0.** Feature Selection\n",
    "- **7.0.** Machine Learning Modelling\n",
    "- **8.0.** Hyperparameter Fine Tuning\n",
    "- **9.0.** Machine Learning Performance\n",
    "- **10.0.** Deploy Model to Production"
   ]
  },
  {
   "cell_type": "markdown",
   "metadata": {
    "hidden": true
   },
   "source": [
    "<p align='center'>\n",
    "    <img src='img/bot.jpg'>\n",
    "</p>"
   ]
  },
  {
   "cell_type": "markdown",
   "metadata": {
    "heading_collapsed": true
   },
   "source": [
    "# 0.0 Imports\n",
    "\n",
    "In this section we will import the libraries needed to get the solution."
   ]
  },
  {
   "cell_type": "code",
   "execution_count": 90,
   "metadata": {
    "ExecuteTime": {
     "end_time": "2022-03-25T19:41:24.634272Z",
     "start_time": "2022-03-25T19:41:24.609261Z"
    },
    "hidden": true
   },
   "outputs": [],
   "source": [
    "import pandas                      as pd\n",
    "import numpy                       as np\n",
    "import matplotlib.pyplot           as plt\n",
    "import seaborn                     as sns\n",
    "import plotly.express              as px\n",
    "import os\n",
    "import pickle\n",
    "from sklearn.preprocessing         import StandardScaler, RobustScaler\n",
    "from sklearn.ensemble              import ExtraTreesClassifier\n",
    "from sklearn.model_selection       import train_test_split, cross_val_score, RandomizedSearchCV\n",
    "from sklearn.dummy                 import DummyClassifier\n",
    "from sklearn.metrics               import classification_report, confusion_matrix, make_scorer, precision_score\n",
    "from sklearn.metrics               import recall_score, accuracy_score, f1_score\n",
    "from sklearn.linear_model          import LogisticRegression\n",
    "from sklearn.tree                  import DecisionTreeClassifier\n",
    "from sklearn.neighbors             import KNeighborsClassifier\n",
    "from sklearn.naive_bayes           import GaussianNB\n",
    "from sklearn.neural_network        import MLPClassifier\n",
    "from sklearn.ensemble              import RandomForestClassifier\n",
    "from pandas_datareader             import data as web\n",
    "\n",
    "import warnings\n",
    "warnings.filterwarnings(\"ignore\")"
   ]
  },
  {
   "cell_type": "markdown",
   "metadata": {
    "heading_collapsed": true,
    "hidden": true
   },
   "source": [
    "## 0.1. Helper Functions\n",
    "\n",
    "in this step, we'll document all the functions that will be used to solve the problem."
   ]
  },
  {
   "cell_type": "code",
   "execution_count": 91,
   "metadata": {
    "ExecuteTime": {
     "end_time": "2022-03-25T19:42:26.636200Z",
     "start_time": "2022-03-25T19:42:26.423711Z"
    },
    "code_folding": [
     0,
     15,
     57,
     66,
     83,
     113,
     122,
     132
    ],
    "hidden": true
   },
   "outputs": [],
   "source": [
    "def jupyter_settings():\n",
    "    %matplotlib inline\n",
    "    %pylab inline\n",
    "    \n",
    "    plt.style.use( 'bmh' )\n",
    "    #plt.rcParams['figure.figsize'] = [25, 12]\n",
    "    plt.rcParams['font.size'] = 24\n",
    "    \n",
    "    pd.options.display.max_columns = None\n",
    "    pd.options.display.max_rows = None\n",
    "    pd.set_option( 'display.expand_frame_repr', False )\n",
    "#     pd.set_option('display.float_format', lambda x: '%.2f' % x)\n",
    "    \n",
    "    sns.set()\n",
    "    \n",
    "def collect_balances( fundamentals, files, companies ):\n",
    "    \n",
    "    for file in files:\n",
    "        # collecting only the company name\n",
    "        name = file[:-4]\n",
    "\n",
    "        # Balance Sheet\n",
    "        balance = pd.read_excel( f'Balances/{file}', sheet_name=0 )\n",
    "\n",
    "        # Name of the company as a title in the first column\n",
    "        balance.iloc[0, 0] = name\n",
    "\n",
    "        # Make the first line a header\n",
    "        balance.columns = balance.iloc[0]\n",
    "        balance = balance.iloc[1:]\n",
    "\n",
    "        # Make the first column an index\n",
    "        balance = balance.set_index( name )\n",
    "\n",
    "        # Cash Flow Statement\n",
    "        cfs = pd.read_excel( f'Balances/{file}', sheet_name=1 )\n",
    "\n",
    "        # Name of the company as a title in the first column\n",
    "        cfs.iloc[0, 0] = name\n",
    "\n",
    "        # Make the first line a header\n",
    "        cfs.columns = cfs.iloc[0]\n",
    "        cfs = cfs.iloc[1:]\n",
    "\n",
    "        # Make the first column an index\n",
    "        cfs = cfs.set_index( name )\n",
    "\n",
    "        try:\n",
    "            fundamentals[name] = balance.append( cfs )\n",
    "            companies.append( name )\n",
    "        except:\n",
    "            cfs.columns = balance.columns\n",
    "            fundamentals[name] = balance.append( cfs )\n",
    "            companies.append( name )\n",
    "        else:\n",
    "            pass\n",
    "        \n",
    "def read_quotes( quotes ):\n",
    "    \n",
    "    # getting the file name\n",
    "    files = os.listdir( \"Quotes\" )\n",
    "    \n",
    "    for file in files:\n",
    "        name = file[:-4]\n",
    "        quotes[name] = pd.read_csv( f'Quotes/{file}' ) \n",
    "        \n",
    "def show_missing_values( columns ):\n",
    "    # Start dictionary with all keys equal to zero\n",
    "    nan_values = dict.fromkeys( columns, 0 )\n",
    "    total_lines = 0\n",
    "\n",
    "    for company in fundamentals:\n",
    "        tabel = fundamentals[company]\n",
    "        # Total rows to know the proportion of missing values in each column\n",
    "        total_lines += tabel.shape[0]\n",
    "\n",
    "        for column in columns:\n",
    "            qnt_nan = pd.isnull( tabel[column] ).sum()\n",
    "            # Dictionary with the amount of nan values in each column\n",
    "            nan_values[column] += qnt_nan\n",
    "        \n",
    "    return nan_values, total_lines\n",
    "\n",
    "def transform_to_percentage_changes( df ):\n",
    "    \n",
    "    companies = list( df['Company'].unique() )\n",
    "    \n",
    "    i = 0\n",
    "    \n",
    "    for company in companies:\n",
    "        df_aux = df.loc[df['Company'] == company]\n",
    "        \n",
    "        print( company )\n",
    "        print( i )\n",
    "        i += 1\n",
    "        \n",
    "        for column in df:\n",
    "            if column == 'Company' or column == 'Class':\n",
    "                continue\n",
    "            \n",
    "            conditions = [\n",
    "                ( df_aux[column].shift( 1 ) == 0 ) & ( df_aux[column] > 0 ),\n",
    "                ( df_aux[column].shift( 1 ) == 0 ) & ( df_aux[column] < 0 ),\n",
    "                ( df_aux[column].shift( 1 ) == 0 ) & ( df_aux[column] == 0 )\n",
    "            ]\n",
    "            \n",
    "            values = [1, -1, 0]\n",
    "            \n",
    "            df_aux[column] = np.select( conditions, values, default=df_aux[column].diff() / df_aux[column].abs().shift() )\n",
    "            df.loc[df['Company'] == company, column] = df_aux[column]\n",
    "    \n",
    "    return df\n",
    "\n",
    "def rescaling( data ):\n",
    "#     scaler = StandardScaler()\n",
    "    scaler = RobustScaler()\n",
    "    data_aux = data.drop( ['Class', 'Company', 'Date'], axis=1 )\n",
    "    \n",
    "    data_aux = pd.DataFrame( scaler.fit_transform( data_aux ), data_aux.index, data_aux.columns )\n",
    "    data_aux['Class'] = data['Class']\n",
    "    data_aux['Date'] = data['Date']\n",
    "     \n",
    "    return data_aux\n",
    "\n",
    "def ml_metrics( y_test, y_pred, model_name ):\n",
    "    print( f'Model: {model_name}' )\n",
    "    \n",
    "    report = classification_report( y_test, y_pred, target_names=['Not reliable', 'Reliable'] )\n",
    "    print( report )\n",
    "    \n",
    "    cf_matrix = pd.DataFrame( confusion_matrix( y_test, y_pred ), index=['Not reliable', 'Reliable'], columns=['Not reliable', 'Reliable'] )\n",
    "    sns.heatmap( cf_matrix, annot=True, cmap='Blues', fmt=',' )\n",
    "    plt.show()\n",
    "    \n",
    "def cross_validation( model, X_train, y_train, model_name ):\n",
    "    \n",
    "    precision2_score = make_scorer( precision_score, labels=[1], average='macro' )\n",
    "    recall2_score = make_scorer( recall_score, labels=[1], average='macro' )\n",
    "    f1_2_score = make_scorer( f1_score, labels=[1], average='macro' )\n",
    "    \n",
    "    accuracy = cross_val_score( model, X_train, y_train, cv=5, scoring='accuracy' )\n",
    "    precision = cross_val_score( model, X_train, y_train, cv=5, scoring=precision2_score )\n",
    "    recall = cross_val_score( model, X_train, y_train, cv=5, scoring=recall2_score )\n",
    "    f1 = cross_val_score( model, X_train, y_train, cv=5, scoring=f1_2_score )\n",
    "    \n",
    "    return pd.DataFrame( {\n",
    "      'Model': model_name,\n",
    "      'Accuracy': np.round( np.mean( accuracy ), 2 ).astype( str ) + '+/-' + np.round( np.std( accuracy ), 2 ).astype( str ),\n",
    "      'Precision': np.round( np.mean( precision ), 2 ).astype( str ) + '+/-' + np.round( np.std( precision ), 2 ).astype( str ),\n",
    "      'Recall': np.round( np.mean( recall ), 2 ).astype( str ) + '+/-' + np.round( np.std( recall ), 2 ).astype( str ), \n",
    "      'F1': np.round( np.mean( f1 ), 2 ).astype( str ) + '+/-' + np.round( np.std( f1 ), 2 ).astype( str ) }, index = [0] )"
   ]
  },
  {
   "cell_type": "code",
   "execution_count": 92,
   "metadata": {
    "ExecuteTime": {
     "end_time": "2022-03-25T19:42:28.509498Z",
     "start_time": "2022-03-25T19:42:28.491549Z"
    },
    "hidden": true
   },
   "outputs": [
    {
     "name": "stdout",
     "output_type": "stream",
     "text": [
      "%pylab is deprecated, use %matplotlib inline and import the required libraries.\n",
      "Populating the interactive namespace from numpy and matplotlib\n"
     ]
    }
   ],
   "source": [
    "jupyter_settings()"
   ]
  },
  {
   "cell_type": "markdown",
   "metadata": {
    "heading_collapsed": true,
    "hidden": true
   },
   "source": [
    "## 0.2. Loading Data\n",
    "\n",
    "The data needed to build our InvestBot bot are as follows:\n",
    "\n",
    "- Balance Sheet and Cash Flow Statement\n",
    "- Stock prices\n",
    "\n",
    "**1.** The balance sheets and cash flow statements of the companies will be used to calculate the fundamental indicators of the companies. They were previously collected on the website [Fundamentus](https://www.fundamentus.com.br/resultado.php), and they are in the folder \"/Balances\". From the data found in these spreadsheets, it will be possible to calculate the fundamental indicators of the companies.\n",
    "\n",
    "**2.** The collection of quote data was done through the \"pandas_datareader\" library, where it searches for quotes on the [Yahoo Finances](https://br.financas.yahoo.com/) website. The period analyzed will be from 06/30/2011 to 03/31/2020."
   ]
  },
  {
   "cell_type": "markdown",
   "metadata": {
    "heading_collapsed": true,
    "hidden": true
   },
   "source": [
    "### 0.2.1. Balance Sheet and Cash Flow Statement\n",
    "\n",
    "As stated earlier, the quote data was collected manually and placed in the \"/Balances\" folder. Now, we're going to import the balance sheets from the folder and put them in a dictionary called fundamentals."
   ]
  },
  {
   "cell_type": "code",
   "execution_count": 59,
   "metadata": {
    "hidden": true
   },
   "outputs": [],
   "source": [
    "# # Collect balance sheet and cash flow statement\n",
    "# fundamentals = {}\n",
    "# files = os.listdir( \"Balances\" )\n",
    "# companies = []\n",
    "\n",
    "# collect_balances( fundamentals, files, companies )"
   ]
  },
  {
   "cell_type": "code",
   "execution_count": 60,
   "metadata": {
    "hidden": true
   },
   "outputs": [],
   "source": [
    "# # Saving balances sheets\n",
    "# with open( \"Data/Fundamentals_initial.pkl\", \"wb\" ) as fund:\n",
    "#     pickle.dump( fundamentals, fund )"
   ]
  },
  {
   "cell_type": "code",
   "execution_count": 4,
   "metadata": {
    "ExecuteTime": {
     "end_time": "2022-03-24T14:15:50.145445Z",
     "start_time": "2022-03-24T14:15:49.173071Z"
    },
    "hidden": true
   },
   "outputs": [],
   "source": [
    "# Importing the balances sheets\n",
    "with open( \"Data/Fundamentals_initial.pkl\", \"rb\" ) as fund:\n",
    "    fundamentals = pickle.load( fund )"
   ]
  },
  {
   "cell_type": "markdown",
   "metadata": {
    "heading_collapsed": true,
    "hidden": true
   },
   "source": [
    "### 0.2.2. Stock Quotes\n",
    "\n",
    "The first time, the quotes were collected and placed in the \"/Quotes\" folder as .csv files. With that, the \"read_quotes\" function was created in order to read the quotes from the folder."
   ]
  },
  {
   "cell_type": "code",
   "execution_count": 62,
   "metadata": {
    "hidden": true
   },
   "outputs": [],
   "source": [
    "# # Collect stock quotes\n",
    "# quotes = {}\n",
    "\n",
    "# for company in companies:\n",
    "#     try:\n",
    "#         quotes[company] = web.DataReader( f'{company}.SA', data_source='yahoo', start=\"06/30/2011\", end=\"09/30/2021\" )\n",
    "#     except:\n",
    "#         pass"
   ]
  },
  {
   "cell_type": "code",
   "execution_count": 63,
   "metadata": {
    "hidden": true
   },
   "outputs": [],
   "source": [
    "# # Saving quotes\n",
    "# for company in quotes:\n",
    "#     quotes[company].to_csv( f'Quotes/{company}.csv' )"
   ]
  },
  {
   "cell_type": "code",
   "execution_count": 5,
   "metadata": {
    "ExecuteTime": {
     "end_time": "2022-03-24T14:16:15.805085Z",
     "start_time": "2022-03-24T14:16:00.801685Z"
    },
    "hidden": true
   },
   "outputs": [],
   "source": [
    "# Read stock quotes\n",
    "quotes = {}\n",
    "read_quotes( quotes )"
   ]
  },
  {
   "cell_type": "markdown",
   "metadata": {
    "heading_collapsed": true,
    "hidden": true
   },
   "source": [
    "### 0.2.2. Remove companies from the fundamentals that do not have quotes for the period collected"
   ]
  },
  {
   "cell_type": "code",
   "execution_count": 6,
   "metadata": {
    "ExecuteTime": {
     "end_time": "2022-03-24T14:16:18.020333Z",
     "start_time": "2022-03-24T14:16:17.979443Z"
    },
    "hidden": true
   },
   "outputs": [],
   "source": [
    "companies = list( fundamentals.keys() )\n",
    "\n",
    "for company in companies:\n",
    "    if company not in quotes:\n",
    "        fundamentals.pop( company )\n",
    "\n",
    "companies = list( quotes.keys() )"
   ]
  },
  {
   "cell_type": "markdown",
   "metadata": {
    "heading_collapsed": true,
    "hidden": true
   },
   "source": [
    "### 0.2.3. Remove companies that have empty quotes"
   ]
  },
  {
   "cell_type": "code",
   "execution_count": 7,
   "metadata": {
    "ExecuteTime": {
     "end_time": "2022-03-24T14:16:25.786628Z",
     "start_time": "2022-03-24T14:16:25.186931Z"
    },
    "hidden": true
   },
   "outputs": [],
   "source": [
    "for company in companies:\n",
    "    if quotes[company].isnull().values.any():\n",
    "        quotes.pop( company )\n",
    "        fundamentals.pop( company )\n",
    "\n",
    "companies = list( quotes.keys() )"
   ]
  },
  {
   "cell_type": "markdown",
   "metadata": {
    "heading_collapsed": true,
    "hidden": true
   },
   "source": [
    "### 0.2.4. Adding dates that don't exist in the quotes "
   ]
  },
  {
   "cell_type": "code",
   "execution_count": 8,
   "metadata": {
    "ExecuteTime": {
     "end_time": "2022-03-24T14:17:06.814131Z",
     "start_time": "2022-03-24T14:16:34.172012Z"
    },
    "hidden": true
   },
   "outputs": [],
   "source": [
    "# Adding dates for quarters that do not exist in quote dataframes\n",
    "for company in companies:\n",
    "    # Putting quote date as dataframe index\n",
    "    quotes[company] = quotes[company].set_index( \"Date\" )\n",
    "    first_date = quotes[company].index[0].split( '-' )\n",
    "    last_date = quotes[company].index[-1].split( '-' )\n",
    "    \n",
    "    for date in fundamentals[company].columns:\n",
    "        try:\n",
    "            date_aux = date.split( '/' )\n",
    "        except:\n",
    "            continue\n",
    "        \n",
    "        if datetime.date( int( date_aux[2] ), int( date_aux[1] ), int( date_aux[0] ) ) <= datetime.date( int( last_date[0] ), int( last_date[1] ), int( last_date[2] ) ) and datetime.date( int( date_aux[2] ), int( date_aux[1] ), int( date_aux[0] ) ) >= datetime.date( int( first_date[0] ), int( first_date[1] ), int( first_date[2] ) ):\n",
    "            formatted_date = date_aux[2] + '-' + date_aux[1] + '-' + date_aux[0]\n",
    "            # Inserting new lines with empty fields\n",
    "            if formatted_date not in list( quotes[company].index ):\n",
    "                quotes[company].loc[formatted_date] = np.nan\n",
    "\n",
    "# Sorting the df and filling the created fields\n",
    "for company in quotes:\n",
    "    # sorting by date\n",
    "    quotes[company] = quotes[company].sort_index()\n",
    "    \n",
    "    # filling empty fields with data from the previous row\n",
    "    quotes[company] = quotes[company].ffill()\n"
   ]
  },
  {
   "cell_type": "code",
   "execution_count": 9,
   "metadata": {
    "ExecuteTime": {
     "end_time": "2022-03-24T14:17:37.322434Z",
     "start_time": "2022-03-24T14:17:10.055337Z"
    },
    "hidden": true
   },
   "outputs": [],
   "source": [
    "for company in quotes:\n",
    "    quotes[company] = quotes[company].reset_index()\n",
    "    quotes[company]['Date'] = pd.to_datetime( quotes[company]['Date'] )\n",
    "    quotes[company]['Date'] = quotes[company]['Date'].dt.strftime( \"%d/%m/%Y\" )\n",
    "    quotes[company] = quotes[company].set_index( 'Date' )\n",
    "    quotes[company].index = pd.to_datetime( quotes[company].index, format=\"%d/%m/%Y\" )"
   ]
  },
  {
   "cell_type": "markdown",
   "metadata": {
    "heading_collapsed": true,
    "hidden": true
   },
   "source": [
    "### 0.2.4. Joining the fundamentals and the quotes"
   ]
  },
  {
   "cell_type": "code",
   "execution_count": 10,
   "metadata": {
    "ExecuteTime": {
     "end_time": "2022-03-24T14:17:52.400933Z",
     "start_time": "2022-03-24T14:17:49.165702Z"
    },
    "hidden": true
   },
   "outputs": [],
   "source": [
    "for company in fundamentals:\n",
    "    # Fundamentals\n",
    "    # Turn rows into columns\n",
    "    table = fundamentals[company].T\n",
    "    \n",
    "    # Transform index to date type\n",
    "    table.index = pd.to_datetime( table.index, format=\"%d/%m/%Y\" )\n",
    "    \n",
    "    # Quotes\n",
    "    quote_table = quotes[company]\n",
    "    \n",
    "    # Select only the column Adj Close\n",
    "    quote_table = quote_table[['Adj Close']]\n",
    "    \n",
    "    # Merge\n",
    "    table = table.merge( quote_table, right_index=True, left_index=True )\n",
    "    \n",
    "    # Inserting name in index column\n",
    "    table.index.name = company\n",
    "    \n",
    "    fundamentals[company] = table"
   ]
  },
  {
   "cell_type": "markdown",
   "metadata": {
    "heading_collapsed": true,
    "hidden": true
   },
   "source": [
    "### 0.2.5. Removing empty dataframes"
   ]
  },
  {
   "cell_type": "code",
   "execution_count": 11,
   "metadata": {
    "ExecuteTime": {
     "end_time": "2022-03-24T14:18:10.203593Z",
     "start_time": "2022-03-24T14:18:10.181649Z"
    },
    "hidden": true
   },
   "outputs": [],
   "source": [
    "companies = list( fundamentals.keys() )\n",
    "\n",
    "for company in companies:\n",
    "    if len( fundamentals[company] ) == 0:\n",
    "        fundamentals.pop( company )"
   ]
  },
  {
   "cell_type": "markdown",
   "metadata": {
    "heading_collapsed": true,
    "hidden": true
   },
   "source": [
    "### 0.2.6. Treat columns\n",
    "\n",
    "- Catch only companies that have the same columns\n",
    "- Columns with repeated names\n",
    "- Missing values\n",
    "- Create a column with the name of the companies"
   ]
  },
  {
   "cell_type": "markdown",
   "metadata": {
    "hidden": true
   },
   "source": [
    "**1. Catch only companies that have the same columns**"
   ]
  },
  {
   "cell_type": "code",
   "execution_count": 12,
   "metadata": {
    "ExecuteTime": {
     "end_time": "2022-03-24T14:18:16.213584Z",
     "start_time": "2022-03-24T14:18:16.169695Z"
    },
    "hidden": true
   },
   "outputs": [],
   "source": [
    "columns = list ( fundamentals['PETR4'].columns )\n",
    "companies = list( fundamentals.keys() )\n",
    "\n",
    "for company in companies:\n",
    "    # Checking if the company has the necessary columns\n",
    "    if set( columns ) != set( fundamentals[company].columns ):\n",
    "        fundamentals.pop( company )"
   ]
  },
  {
   "cell_type": "markdown",
   "metadata": {
    "hidden": true
   },
   "source": [
    "**2. Columns with repeated names**"
   ]
  },
  {
   "cell_type": "code",
   "execution_count": 13,
   "metadata": {
    "ExecuteTime": {
     "end_time": "2022-03-24T14:18:25.198431Z",
     "start_time": "2022-03-24T14:18:25.172813Z"
    },
    "hidden": true
   },
   "outputs": [],
   "source": [
    "# Changing the name of columns that have the same names\n",
    "text_columns = \";\".join( columns )\n",
    "\n",
    "modified_columns = []\n",
    "for column in columns:\n",
    "    if columns.count( column ) == 2 and column not in modified_columns:\n",
    "        text_columns = text_columns.replace( \";\" + column + \";\", \";\" + column + \"_1;\", 1 )\n",
    "        modified_columns.append( column )\n",
    "        \n",
    "columns = text_columns.split( ';' )"
   ]
  },
  {
   "cell_type": "code",
   "execution_count": 14,
   "metadata": {
    "ExecuteTime": {
     "end_time": "2022-03-24T14:18:26.672525Z",
     "start_time": "2022-03-24T14:18:26.608533Z"
    },
    "hidden": true
   },
   "outputs": [],
   "source": [
    "# Implement columns in tables\n",
    "for company in fundamentals:\n",
    "    fundamentals[company].columns = columns"
   ]
  },
  {
   "cell_type": "markdown",
   "metadata": {
    "hidden": true
   },
   "source": [
    "**3. Missing values**"
   ]
  },
  {
   "cell_type": "code",
   "execution_count": 15,
   "metadata": {
    "ExecuteTime": {
     "end_time": "2022-03-24T14:18:44.387404Z",
     "start_time": "2022-03-24T14:18:34.165191Z"
    },
    "hidden": true
   },
   "outputs": [
    {
     "name": "stdout",
     "output_type": "stream",
     "text": [
      "{'Ativo Total': 0, 'Ativo Circulante': 0, 'Caixa e Equivalentes de Caixa': 0, 'Aplicações Financeiras': 0, 'Contas a Receber_1': 0, 'Estoques_1': 0, 'Ativos Biológicos_1': 0, 'Tributos a Recuperar': 0, 'Despesas Antecipadas_1': 0, 'Outros Ativos Circulantes': 0, 'Ativo Realizável a Longo Prazo': 0, 'Aplicações Financeiras Avaliadas a Valor Justo': 0, 'Aplicações Financeiras Avaliadas ao Custo Amortizado': 0, 'Contas a Receber': 0, 'Estoques': 0, 'Ativos Biológicos': 0, 'Tributos Diferidos_1': 0, 'Despesas Antecipadas': 0, 'Créditos com Partes Relacionadas': 0, 'Outros Ativos Não Circulantes': 0, 'Investimentos': 0, 'Imobilizado': 0, 'Intangível': 0, 'Diferido': 0, 'Passivo Total': 0, 'Passivo Circulante': 0, 'Obrigações Sociais e Trabalhistas': 0, 'Fornecedores': 0, 'Obrigações Fiscais': 0, 'Empréstimos e Financiamentos_1': 0, 'Passivos com Partes Relacionadas_1': 0, 'Dividendos e JCP a Pagar': 0, 'Outros_1': 0, 'Provisões_1': 0, 'Passivos sobre Ativos Não-Correntes a Venda e Descontinuados_1': 0, 'Passivo Não Circulante': 0, 'Empréstimos e Financiamentos': 0, 'Passivos com Partes Relacionadas': 0, 'Outros': 0, 'Tributos Diferidos': 0, 'Adiantamento para Futuro Aumento Capital_1': 0, 'Provisões': 0, 'Passivos sobre Ativos Não-Correntes a Venda e Descontinuados': 0, 'Lucros e Receitas a Apropriar': 0, 'Participação dos Acionistas Não Controladores': 0, 'Patrimônio Líquido': 0, 'Capital Social Realizado': 0, 'Reservas de Capital': 0, 'Reservas de Reavaliação': 0, 'Reservas de Lucros': 0, 'Lucros/Prejuízos Acumulados': 0, 'Ajustes de Avaliação Patrimonial': 0, 'Ajustes Acumulados de Conversão': 0, 'Outros Resultados Abrangentes': 0, 'Adiantamento para Futuro Aumento Capital': 0, 'Receita Bruta de Vendas e/ou Serviços': 15218, 'Deduções da Receita Bruta': 15218, 'Receita Líquida de Vendas e/ou Serviços': 31, 'Custo de Bens e/ou Serviços Vendidos': 34, 'Resultado Bruto': 32, 'Despesas Com Vendas': 34, 'Despesas Gerais e Administrativas': 34, 'Perdas pela Não Recuperabilidade de Ativos\\xa0': 34, 'Outras Receitas Operacionais': 34, 'Outras Despesas Operacionais': 34, 'Resultado da Equivalência Patrimonial': 34, 'Financeiras': 31, 'Receitas Financeiras': 34, 'Despesas Financeiras': 34, 'Resultado Não Operacional': 15218, 'Receitas': 15221, 'Despesas': 15221, 'Resultado Antes Tributação/Participações': 32, 'Provisão para IR e Contribuição Social': 31, 'IR Diferido': 32, 'Participações/Contribuições Estatutárias': 15220, 'Reversão dos Juros sobre Capital Próprio': 15221, 'Part. de Acionistas Não Controladores': 3001, 'Lucro/Prejuízo do Período': 34, 'Adj Close': 0}\n",
      "15669\n"
     ]
    }
   ],
   "source": [
    "# Counting the total number of missing values in each column\n",
    "nan_values, total_lines = show_missing_values( columns )\n",
    "        \n",
    "print( nan_values )\n",
    "print( total_lines )"
   ]
  },
  {
   "cell_type": "code",
   "execution_count": 16,
   "metadata": {
    "ExecuteTime": {
     "end_time": "2022-03-24T14:19:16.968170Z",
     "start_time": "2022-03-24T14:19:10.179447Z"
    },
    "hidden": true
   },
   "outputs": [],
   "source": [
    "# Remove columns longer than 50 rows with nan values\n",
    "delete_columns = []\n",
    "\n",
    "for column in nan_values:\n",
    "    if nan_values[column] > 50:\n",
    "        delete_columns.append( column )\n",
    "        \n",
    "for company in fundamentals:\n",
    "    fundamentals[company] = fundamentals[company].drop( delete_columns, axis=1 )\n",
    "    fundamentals[company] = fundamentals[company].ffill()"
   ]
  },
  {
   "cell_type": "markdown",
   "metadata": {
    "hidden": true
   },
   "source": [
    "**4. Create a column with the name of the companies**"
   ]
  },
  {
   "cell_type": "code",
   "execution_count": 17,
   "metadata": {
    "ExecuteTime": {
     "end_time": "2022-03-24T14:19:25.650471Z",
     "start_time": "2022-03-24T14:19:25.166157Z"
    },
    "hidden": true
   },
   "outputs": [],
   "source": [
    "for company in fundamentals:\n",
    "    fundamentals[company].loc[:, 'Company'] = fundamentals[company].index.name"
   ]
  },
  {
   "cell_type": "markdown",
   "metadata": {
    "heading_collapsed": true,
    "hidden": true
   },
   "source": [
    "### 0.2.6. Creating labels: reliable or not reliable\n",
    "\n",
    "**Rules:**\n",
    "\n",
    "    1. The stock yielded 2% or more = reliable - Value 1\n",
    "    2. The stock yielded lower than 2% = not reliable - Value 0"
   ]
  },
  {
   "cell_type": "code",
   "execution_count": 18,
   "metadata": {
    "ExecuteTime": {
     "end_time": "2022-03-24T14:20:27.988324Z",
     "start_time": "2022-03-24T14:20:25.168097Z"
    },
    "hidden": true
   },
   "outputs": [],
   "source": [
    "# transform quotes into percentages\n",
    "# quarter quotes - next quarter quote / quarter quote - 1\n",
    "\n",
    "for company in fundamentals:\n",
    "    indicator = fundamentals[company]\n",
    "    indicator = indicator.sort_index()\n",
    "    \n",
    "    # get next indicator\n",
    "    indicator['Perc'] = ( indicator['Adj Close'].shift( -1 ) / indicator['Adj Close'] ) -1                                                                    \n",
    "    indicator['Class'] = indicator['Perc'].map( lambda x: 1 if x >= 0.02 else 0 ) \n",
    "        \n",
    "    fundamentals[company] = indicator"
   ]
  },
  {
   "cell_type": "markdown",
   "metadata": {
    "heading_collapsed": true,
    "hidden": true
   },
   "source": [
    "### 0.2.7. Making everything a single dataframe"
   ]
  },
  {
   "cell_type": "code",
   "execution_count": 19,
   "metadata": {
    "ExecuteTime": {
     "end_time": "2022-03-24T14:21:34.963311Z",
     "start_time": "2022-03-24T14:21:34.170372Z"
    },
    "hidden": true
   },
   "outputs": [],
   "source": [
    "with open( \"Data/Fundamentals_final.pkl\", \"wb\" ) as fund:\n",
    "    pickle.dump( fundamentals, fund )"
   ]
  },
  {
   "cell_type": "code",
   "execution_count": 20,
   "metadata": {
    "ExecuteTime": {
     "end_time": "2022-03-24T14:21:37.569354Z",
     "start_time": "2022-03-24T14:21:36.632493Z"
    },
    "hidden": true
   },
   "outputs": [],
   "source": [
    "with open( \"Data/Fundamentals_final.pkl\", \"rb\" ) as fund:\n",
    "    fundamentals = pickle.load( fund )"
   ]
  },
  {
   "cell_type": "code",
   "execution_count": 21,
   "metadata": {
    "ExecuteTime": {
     "end_time": "2022-03-24T14:22:49.938770Z",
     "start_time": "2022-03-24T14:22:34.172430Z"
    },
    "hidden": true
   },
   "outputs": [],
   "source": [
    "# Saving train and test datasets\n",
    "df = pd.DataFrame()\n",
    "\n",
    "for company in fundamentals:\n",
    "    df = df.append( fundamentals[company] )\n",
    "    \n",
    "df.to_csv('Data/Fundamentals.csv' )"
   ]
  },
  {
   "cell_type": "markdown",
   "metadata": {
    "heading_collapsed": true
   },
   "source": [
    "# 1.0. Data Description\n",
    "\n",
    "in this step we will perform the following tasks:\n",
    "\n",
    "- Rename Columns\n",
    "- Data Dimensions\n",
    "- Data Types\n",
    "- Change data types\n",
    "- Check missing values\n",
    "- Descriptive Statistical\n",
    "\n",
    "This step is very important for us to know how challenging the problem is."
   ]
  },
  {
   "cell_type": "code",
   "execution_count": 73,
   "metadata": {
    "ExecuteTime": {
     "end_time": "2022-03-24T16:57:21.306521Z",
     "start_time": "2022-03-24T16:57:20.207752Z"
    },
    "hidden": true,
    "hide_input": true,
    "scrolled": true
   },
   "outputs": [
    {
     "data": {
      "text/html": [
       "<div>\n",
       "<style scoped>\n",
       "    .dataframe tbody tr th:only-of-type {\n",
       "        vertical-align: middle;\n",
       "    }\n",
       "\n",
       "    .dataframe tbody tr th {\n",
       "        vertical-align: top;\n",
       "    }\n",
       "\n",
       "    .dataframe thead th {\n",
       "        text-align: right;\n",
       "    }\n",
       "</style>\n",
       "<table border=\"1\" class=\"dataframe\">\n",
       "  <thead>\n",
       "    <tr style=\"text-align: right;\">\n",
       "      <th></th>\n",
       "      <th>Unnamed: 0</th>\n",
       "      <th>Ativo Total</th>\n",
       "      <th>Ativo Circulante</th>\n",
       "      <th>Caixa e Equivalentes de Caixa</th>\n",
       "      <th>Aplicações Financeiras</th>\n",
       "      <th>Contas a Receber_1</th>\n",
       "      <th>Estoques_1</th>\n",
       "      <th>Ativos Biológicos_1</th>\n",
       "      <th>Tributos a Recuperar</th>\n",
       "      <th>Despesas Antecipadas_1</th>\n",
       "      <th>Outros Ativos Circulantes</th>\n",
       "      <th>Ativo Realizável a Longo Prazo</th>\n",
       "      <th>Aplicações Financeiras Avaliadas a Valor Justo</th>\n",
       "      <th>Aplicações Financeiras Avaliadas ao Custo Amortizado</th>\n",
       "      <th>Contas a Receber</th>\n",
       "      <th>Estoques</th>\n",
       "      <th>Ativos Biológicos</th>\n",
       "      <th>Tributos Diferidos_1</th>\n",
       "      <th>Despesas Antecipadas</th>\n",
       "      <th>Créditos com Partes Relacionadas</th>\n",
       "      <th>Outros Ativos Não Circulantes</th>\n",
       "      <th>Investimentos</th>\n",
       "      <th>Imobilizado</th>\n",
       "      <th>Intangível</th>\n",
       "      <th>Diferido</th>\n",
       "      <th>Passivo Total</th>\n",
       "      <th>Passivo Circulante</th>\n",
       "      <th>Obrigações Sociais e Trabalhistas</th>\n",
       "      <th>Fornecedores</th>\n",
       "      <th>Obrigações Fiscais</th>\n",
       "      <th>Empréstimos e Financiamentos_1</th>\n",
       "      <th>Passivos com Partes Relacionadas_1</th>\n",
       "      <th>Dividendos e JCP a Pagar</th>\n",
       "      <th>Outros_1</th>\n",
       "      <th>Provisões_1</th>\n",
       "      <th>Passivos sobre Ativos Não-Correntes a Venda e Descontinuados_1</th>\n",
       "      <th>Passivo Não Circulante</th>\n",
       "      <th>Empréstimos e Financiamentos</th>\n",
       "      <th>Passivos com Partes Relacionadas</th>\n",
       "      <th>Outros</th>\n",
       "      <th>Tributos Diferidos</th>\n",
       "      <th>Adiantamento para Futuro Aumento Capital_1</th>\n",
       "      <th>Provisões</th>\n",
       "      <th>Passivos sobre Ativos Não-Correntes a Venda e Descontinuados</th>\n",
       "      <th>Lucros e Receitas a Apropriar</th>\n",
       "      <th>Participação dos Acionistas Não Controladores</th>\n",
       "      <th>Patrimônio Líquido</th>\n",
       "      <th>Capital Social Realizado</th>\n",
       "      <th>Reservas de Capital</th>\n",
       "      <th>Reservas de Reavaliação</th>\n",
       "      <th>Reservas de Lucros</th>\n",
       "      <th>Lucros/Prejuízos Acumulados</th>\n",
       "      <th>Ajustes de Avaliação Patrimonial</th>\n",
       "      <th>Ajustes Acumulados de Conversão</th>\n",
       "      <th>Outros Resultados Abrangentes</th>\n",
       "      <th>Adiantamento para Futuro Aumento Capital</th>\n",
       "      <th>Receita Líquida de Vendas e/ou Serviços</th>\n",
       "      <th>Custo de Bens e/ou Serviços Vendidos</th>\n",
       "      <th>Resultado Bruto</th>\n",
       "      <th>Despesas Com Vendas</th>\n",
       "      <th>Despesas Gerais e Administrativas</th>\n",
       "      <th>Perdas pela Não Recuperabilidade de Ativos</th>\n",
       "      <th>Outras Receitas Operacionais</th>\n",
       "      <th>Outras Despesas Operacionais</th>\n",
       "      <th>Resultado da Equivalência Patrimonial</th>\n",
       "      <th>Financeiras</th>\n",
       "      <th>Receitas Financeiras</th>\n",
       "      <th>Despesas Financeiras</th>\n",
       "      <th>Resultado Antes Tributação/Participações</th>\n",
       "      <th>Provisão para IR e Contribuição Social</th>\n",
       "      <th>IR Diferido</th>\n",
       "      <th>Lucro/Prejuízo do Período</th>\n",
       "      <th>Adj Close</th>\n",
       "      <th>Company</th>\n",
       "      <th>Perc</th>\n",
       "      <th>Class</th>\n",
       "    </tr>\n",
       "  </thead>\n",
       "  <tbody>\n",
       "    <tr>\n",
       "      <th>12743</th>\n",
       "      <td>2011-06-30</td>\n",
       "      <td>5471877.12</td>\n",
       "      <td>430238.016</td>\n",
       "      <td>92263.0</td>\n",
       "      <td>0.0</td>\n",
       "      <td>270812.992</td>\n",
       "      <td>32197.0</td>\n",
       "      <td>0.0</td>\n",
       "      <td>6246.0</td>\n",
       "      <td>0.0</td>\n",
       "      <td>28719.0</td>\n",
       "      <td>471716.0</td>\n",
       "      <td>0.0</td>\n",
       "      <td>0.0</td>\n",
       "      <td>17729.0</td>\n",
       "      <td>0.0</td>\n",
       "      <td>0.0</td>\n",
       "      <td>286401.984</td>\n",
       "      <td>0.0</td>\n",
       "      <td>0.0</td>\n",
       "      <td>167584.992</td>\n",
       "      <td>2952.0</td>\n",
       "      <td>4475849.216</td>\n",
       "      <td>91122.0</td>\n",
       "      <td>0</td>\n",
       "      <td>5471877.12</td>\n",
       "      <td>503928.992</td>\n",
       "      <td>27169.0</td>\n",
       "      <td>64771.0</td>\n",
       "      <td>24928.0</td>\n",
       "      <td>173467.008</td>\n",
       "      <td>0.0</td>\n",
       "      <td>100726.0</td>\n",
       "      <td>33400.0</td>\n",
       "      <td>79468.0</td>\n",
       "      <td>0.0</td>\n",
       "      <td>2703166.976</td>\n",
       "      <td>796832.0</td>\n",
       "      <td>0.0</td>\n",
       "      <td>1035169.024</td>\n",
       "      <td>119222.0</td>\n",
       "      <td>0</td>\n",
       "      <td>751944.0</td>\n",
       "      <td>0.0</td>\n",
       "      <td>0.0</td>\n",
       "      <td>0.0</td>\n",
       "      <td>2264781.056</td>\n",
       "      <td>831705.984</td>\n",
       "      <td>50175.0</td>\n",
       "      <td>119898.0</td>\n",
       "      <td>1140763.008</td>\n",
       "      <td>92646.0</td>\n",
       "      <td>29593.0</td>\n",
       "      <td>0.0</td>\n",
       "      <td>0.0</td>\n",
       "      <td>0</td>\n",
       "      <td>451832.0</td>\n",
       "      <td>-181442.0</td>\n",
       "      <td>270390.016</td>\n",
       "      <td>-32909.0</td>\n",
       "      <td>-67336.0</td>\n",
       "      <td>0.0</td>\n",
       "      <td>0.0</td>\n",
       "      <td>-28853.0</td>\n",
       "      <td>0.0</td>\n",
       "      <td>-33887.0</td>\n",
       "      <td>5562.0</td>\n",
       "      <td>-39449.0</td>\n",
       "      <td>107405.0</td>\n",
       "      <td>0.0</td>\n",
       "      <td>0.0</td>\n",
       "      <td>91136.0</td>\n",
       "      <td>0.462325</td>\n",
       "      <td>SAPR4</td>\n",
       "      <td>0.064593</td>\n",
       "      <td>1</td>\n",
       "    </tr>\n",
       "  </tbody>\n",
       "</table>\n",
       "</div>"
      ],
      "text/plain": [
       "       Unnamed: 0  Ativo Total  Ativo Circulante  Caixa e Equivalentes de Caixa  Aplicações Financeiras  Contas a Receber_1  Estoques_1  Ativos Biológicos_1  Tributos a Recuperar  Despesas Antecipadas_1  Outros Ativos Circulantes  Ativo Realizável a Longo Prazo  Aplicações Financeiras Avaliadas a Valor Justo  Aplicações Financeiras Avaliadas ao Custo Amortizado  Contas a Receber  Estoques  Ativos Biológicos  Tributos Diferidos_1  Despesas Antecipadas  Créditos com Partes Relacionadas  Outros Ativos Não Circulantes  Investimentos  Imobilizado  Intangível  Diferido  Passivo Total  Passivo Circulante  Obrigações Sociais e Trabalhistas  Fornecedores  Obrigações Fiscais  Empréstimos e Financiamentos_1  Passivos com Partes Relacionadas_1  Dividendos e JCP a Pagar  Outros_1  Provisões_1  Passivos sobre Ativos Não-Correntes a Venda e Descontinuados_1  Passivo Não Circulante  Empréstimos e Financiamentos  Passivos com Partes Relacionadas       Outros  Tributos Diferidos  Adiantamento para Futuro Aumento Capital_1  Provisões  Passivos sobre Ativos Não-Correntes a Venda e Descontinuados  Lucros e Receitas a Apropriar  Participação dos Acionistas Não Controladores  Patrimônio Líquido  Capital Social Realizado  Reservas de Capital  Reservas de Reavaliação  Reservas de Lucros  Lucros/Prejuízos Acumulados  Ajustes de Avaliação Patrimonial  Ajustes Acumulados de Conversão  Outros Resultados Abrangentes  Adiantamento para Futuro Aumento Capital  Receita Líquida de Vendas e/ou Serviços  Custo de Bens e/ou Serviços Vendidos  Resultado Bruto  Despesas Com Vendas  Despesas Gerais e Administrativas  Perdas pela Não Recuperabilidade de Ativos   Outras Receitas Operacionais  Outras Despesas Operacionais  Resultado da Equivalência Patrimonial  Financeiras  Receitas Financeiras  Despesas Financeiras  Resultado Antes Tributação/Participações  Provisão para IR e Contribuição Social  IR Diferido  Lucro/Prejuízo do Período  Adj Close Company      Perc  Class\n",
       "12743  2011-06-30   5471877.12        430238.016                        92263.0                     0.0          270812.992     32197.0                  0.0                6246.0                     0.0                    28719.0                        471716.0                                             0.0                                                0.0              17729.0       0.0                0.0            286401.984                   0.0                               0.0                     167584.992         2952.0  4475849.216     91122.0         0     5471877.12          503928.992                            27169.0       64771.0             24928.0                      173467.008                                 0.0                  100726.0   33400.0      79468.0                                                0.0                          2703166.976                      796832.0                               0.0  1035169.024            119222.0                                           0   751944.0                                                0.0                                       0.0                                            0.0         2264781.056                831705.984              50175.0                 119898.0         1140763.008                      92646.0                           29593.0                              0.0                            0.0                                         0                                 451832.0                             -181442.0       270390.016             -32909.0                           -67336.0                                          0.0                           0.0                      -28853.0                                    0.0     -33887.0                5562.0              -39449.0                                  107405.0                                     0.0          0.0                    91136.0   0.462325   SAPR4  0.064593      1"
      ]
     },
     "execution_count": 73,
     "metadata": {},
     "output_type": "execute_result"
    }
   ],
   "source": [
    "# Importing \n",
    "df1 = pd.read_csv( 'Data/Fundamentals.csv' )\n",
    "\n",
    "df1.sample()"
   ]
  },
  {
   "cell_type": "markdown",
   "metadata": {
    "heading_collapsed": true,
    "hidden": true
   },
   "source": [
    "## 1.1. Rename Columns"
   ]
  },
  {
   "cell_type": "code",
   "execution_count": 74,
   "metadata": {
    "ExecuteTime": {
     "end_time": "2022-03-24T16:57:37.194299Z",
     "start_time": "2022-03-24T16:57:37.170070Z"
    },
    "hidden": true
   },
   "outputs": [],
   "source": [
    "df1.rename( columns={'Unnamed: 0': 'Date'}, inplace=True )"
   ]
  },
  {
   "cell_type": "markdown",
   "metadata": {
    "heading_collapsed": true,
    "hidden": true
   },
   "source": [
    "## 1.2. Data Dimensions"
   ]
  },
  {
   "cell_type": "code",
   "execution_count": 75,
   "metadata": {
    "ExecuteTime": {
     "end_time": "2022-03-24T16:57:43.196462Z",
     "start_time": "2022-03-24T16:57:43.173585Z"
    },
    "hidden": true,
    "hide_input": true
   },
   "outputs": [
    {
     "name": "stdout",
     "output_type": "stream",
     "text": [
      "Number of rows: 15669\n",
      "Number of columns: 76\n"
     ]
    }
   ],
   "source": [
    "print( f'Number of rows: {df1.shape[0]}' )\n",
    "print( f'Number of columns: {df1.shape[1]}' )"
   ]
  },
  {
   "cell_type": "markdown",
   "metadata": {
    "heading_collapsed": true,
    "hidden": true
   },
   "source": [
    "## 1.3. Data Types"
   ]
  },
  {
   "cell_type": "code",
   "execution_count": 176,
   "metadata": {
    "ExecuteTime": {
     "end_time": "2022-03-23T17:43:19.080806Z",
     "start_time": "2022-03-23T17:43:19.055568Z"
    },
    "hidden": true,
    "hide_input": true
   },
   "outputs": [
    {
     "data": {
      "text/plain": [
       "Date                                                               object\n",
       "Ativo Total                                                       float64\n",
       "Ativo Circulante                                                  float64\n",
       "Caixa e Equivalentes de Caixa                                     float64\n",
       "Aplicações Financeiras                                            float64\n",
       "Contas a Receber_1                                                float64\n",
       "Estoques_1                                                        float64\n",
       "Ativos Biológicos_1                                               float64\n",
       "Tributos a Recuperar                                              float64\n",
       "Despesas Antecipadas_1                                            float64\n",
       "Outros Ativos Circulantes                                         float64\n",
       "Ativo Realizável a Longo Prazo                                    float64\n",
       "Aplicações Financeiras Avaliadas a Valor Justo                    float64\n",
       "Aplicações Financeiras Avaliadas ao Custo Amortizado              float64\n",
       "Contas a Receber                                                  float64\n",
       "Estoques                                                          float64\n",
       "Ativos Biológicos                                                 float64\n",
       "Tributos Diferidos_1                                              float64\n",
       "Despesas Antecipadas                                              float64\n",
       "Créditos com Partes Relacionadas                                  float64\n",
       "Outros Ativos Não Circulantes                                     float64\n",
       "Investimentos                                                     float64\n",
       "Imobilizado                                                       float64\n",
       "Intangível                                                        float64\n",
       "Diferido                                                            int64\n",
       "Passivo Total                                                     float64\n",
       "Passivo Circulante                                                float64\n",
       "Obrigações Sociais e Trabalhistas                                 float64\n",
       "Fornecedores                                                      float64\n",
       "Obrigações Fiscais                                                float64\n",
       "Empréstimos e Financiamentos_1                                    float64\n",
       "Passivos com Partes Relacionadas_1                                float64\n",
       "Dividendos e JCP a Pagar                                          float64\n",
       "Outros_1                                                          float64\n",
       "Provisões_1                                                       float64\n",
       "Passivos sobre Ativos Não-Correntes a Venda e Descontinuados_1    float64\n",
       "Passivo Não Circulante                                            float64\n",
       "Empréstimos e Financiamentos                                      float64\n",
       "Passivos com Partes Relacionadas                                  float64\n",
       "Outros                                                            float64\n",
       "Tributos Diferidos                                                float64\n",
       "Adiantamento para Futuro Aumento Capital_1                          int64\n",
       "Provisões                                                         float64\n",
       "Passivos sobre Ativos Não-Correntes a Venda e Descontinuados      float64\n",
       "Lucros e Receitas a Apropriar                                     float64\n",
       "Participação dos Acionistas Não Controladores                     float64\n",
       "Patrimônio Líquido                                                float64\n",
       "Capital Social Realizado                                          float64\n",
       "Reservas de Capital                                               float64\n",
       "Reservas de Reavaliação                                           float64\n",
       "Reservas de Lucros                                                float64\n",
       "Lucros/Prejuízos Acumulados                                       float64\n",
       "Ajustes de Avaliação Patrimonial                                  float64\n",
       "Ajustes Acumulados de Conversão                                   float64\n",
       "Outros Resultados Abrangentes                                     float64\n",
       "Adiantamento para Futuro Aumento Capital                            int64\n",
       "Receita Líquida de Vendas e/ou Serviços                           float64\n",
       "Custo de Bens e/ou Serviços Vendidos                              float64\n",
       "Resultado Bruto                                                   float64\n",
       "Despesas Com Vendas                                               float64\n",
       "Despesas Gerais e Administrativas                                 float64\n",
       "Perdas pela Não Recuperabilidade de Ativos                        float64\n",
       "Outras Receitas Operacionais                                      float64\n",
       "Outras Despesas Operacionais                                      float64\n",
       "Resultado da Equivalência Patrimonial                             float64\n",
       "Financeiras                                                       float64\n",
       "Receitas Financeiras                                              float64\n",
       "Despesas Financeiras                                              float64\n",
       "Resultado Antes Tributação/Participações                          float64\n",
       "Provisão para IR e Contribuição Social                            float64\n",
       "IR Diferido                                                       float64\n",
       "Lucro/Prejuízo do Período                                         float64\n",
       "Adj Close                                                         float64\n",
       "Company                                                            object\n",
       "Perc                                                              float64\n",
       "Class                                                               int64\n",
       "dtype: object"
      ]
     },
     "execution_count": 176,
     "metadata": {},
     "output_type": "execute_result"
    }
   ],
   "source": [
    "df1.dtypes"
   ]
  },
  {
   "cell_type": "markdown",
   "metadata": {
    "heading_collapsed": true,
    "hidden": true
   },
   "source": [
    "## 1.4. Change Data Types"
   ]
  },
  {
   "cell_type": "code",
   "execution_count": 76,
   "metadata": {
    "ExecuteTime": {
     "end_time": "2022-03-24T16:58:10.235406Z",
     "start_time": "2022-03-24T16:58:10.184087Z"
    },
    "hidden": true
   },
   "outputs": [],
   "source": [
    "df1['Date'] = pd.to_datetime( df1['Date'] )"
   ]
  },
  {
   "cell_type": "markdown",
   "metadata": {
    "heading_collapsed": true,
    "hidden": true
   },
   "source": [
    "## 1.5. Check NA"
   ]
  },
  {
   "cell_type": "code",
   "execution_count": 80,
   "metadata": {
    "ExecuteTime": {
     "end_time": "2022-03-24T16:59:01.268880Z",
     "start_time": "2022-03-24T16:59:01.182167Z"
    },
    "hidden": true,
    "hide_input": true
   },
   "outputs": [
    {
     "data": {
      "text/plain": [
       "Perc                                                              415\n",
       "Custo de Bens e/ou Serviços Vendidos                                5\n",
       "Financeiras                                                         5\n",
       "Receita Líquida de Vendas e/ou Serviços                             5\n",
       "Resultado Bruto                                                     5\n",
       "Despesas Com Vendas                                                 5\n",
       "Despesas Gerais e Administrativas                                   5\n",
       "Perdas pela Não Recuperabilidade de Ativos                          5\n",
       "Outras Receitas Operacionais                                        5\n",
       "Resultado da Equivalência Patrimonial                               5\n",
       "Outras Despesas Operacionais                                        5\n",
       "Receitas Financeiras                                                5\n",
       "Despesas Financeiras                                                5\n",
       "Resultado Antes Tributação/Participações                            5\n",
       "Provisão para IR e Contribuição Social                              5\n",
       "IR Diferido                                                         5\n",
       "Lucro/Prejuízo do Período                                           5\n",
       "Reservas de Reavaliação                                             0\n",
       "Adiantamento para Futuro Aumento Capital_1                          0\n",
       "Provisões                                                           0\n",
       "Tributos Diferidos                                                  0\n",
       "Passivos sobre Ativos Não-Correntes a Venda e Descontinuados        0\n",
       "Lucros e Receitas a Apropriar                                       0\n",
       "Participação dos Acionistas Não Controladores                       0\n",
       "Patrimônio Líquido                                                  0\n",
       "Capital Social Realizado                                            0\n",
       "Reservas de Capital                                                 0\n",
       "Date                                                                0\n",
       "Reservas de Lucros                                                  0\n",
       "Lucros/Prejuízos Acumulados                                         0\n",
       "Ajustes de Avaliação Patrimonial                                    0\n",
       "Ajustes Acumulados de Conversão                                     0\n",
       "Outros Resultados Abrangentes                                       0\n",
       "Adiantamento para Futuro Aumento Capital                            0\n",
       "Ativo Total                                                         0\n",
       "Adj Close                                                           0\n",
       "Company                                                             0\n",
       "Outros                                                              0\n",
       "Passivos com Partes Relacionadas                                    0\n",
       "Empréstimos e Financiamentos                                        0\n",
       "Despesas Antecipadas                                                0\n",
       "Ativos Biológicos                                                   0\n",
       "Estoques                                                            0\n",
       "Contas a Receber                                                    0\n",
       "Aplicações Financeiras Avaliadas ao Custo Amortizado                0\n",
       "Aplicações Financeiras Avaliadas a Valor Justo                      0\n",
       "Ativo Realizável a Longo Prazo                                      0\n",
       "Outros Ativos Circulantes                                           0\n",
       "Despesas Antecipadas_1                                              0\n",
       "Tributos a Recuperar                                                0\n",
       "Ativos Biológicos_1                                                 0\n",
       "Estoques_1                                                          0\n",
       "Contas a Receber_1                                                  0\n",
       "Aplicações Financeiras                                              0\n",
       "Caixa e Equivalentes de Caixa                                       0\n",
       "Ativo Circulante                                                    0\n",
       "Tributos Diferidos_1                                                0\n",
       "Créditos com Partes Relacionadas                                    0\n",
       "Passivo Não Circulante                                              0\n",
       "Outros Ativos Não Circulantes                                       0\n",
       "Passivos sobre Ativos Não-Correntes a Venda e Descontinuados_1      0\n",
       "Provisões_1                                                         0\n",
       "Outros_1                                                            0\n",
       "Dividendos e JCP a Pagar                                            0\n",
       "Passivos com Partes Relacionadas_1                                  0\n",
       "Empréstimos e Financiamentos_1                                      0\n",
       "Obrigações Fiscais                                                  0\n",
       "Fornecedores                                                        0\n",
       "Obrigações Sociais e Trabalhistas                                   0\n",
       "Passivo Circulante                                                  0\n",
       "Passivo Total                                                       0\n",
       "Diferido                                                            0\n",
       "Intangível                                                          0\n",
       "Imobilizado                                                         0\n",
       "Investimentos                                                       0\n",
       "Class                                                               0\n",
       "dtype: int64"
      ]
     },
     "execution_count": 80,
     "metadata": {},
     "output_type": "execute_result"
    }
   ],
   "source": [
    "df1.isna().sum().sort_values( ascending=False )"
   ]
  },
  {
   "cell_type": "markdown",
   "metadata": {
    "heading_collapsed": true,
    "hidden": true
   },
   "source": [
    "## 1.6. Fillout Na"
   ]
  },
  {
   "cell_type": "code",
   "execution_count": 81,
   "metadata": {
    "ExecuteTime": {
     "end_time": "2022-03-24T17:00:30.413855Z",
     "start_time": "2022-03-24T17:00:30.204977Z"
    },
    "hidden": true
   },
   "outputs": [],
   "source": [
    "perc = df1['Perc']\n",
    "df1.drop( 'Perc', axis=1, inplace=True )\n",
    "df1.fillna( 0, inplace=True )\n",
    "df1['Perc'] = perc\n",
    "\n",
    "# Remove rows without label\n",
    "df1.dropna( inplace=True )"
   ]
  },
  {
   "cell_type": "markdown",
   "metadata": {
    "heading_collapsed": true,
    "hidden": true
   },
   "source": [
    "## 1.7. Descriptive Statistical\n",
    "\n",
    "We will use two types of analysis:\n",
    "\n",
    "- Central tendency\n",
    "    - average\n",
    "    - median\n",
    "- Dispersion \n",
    "    - std - standard deviation\n",
    "    - min\n",
    "    - max\n",
    "    - range\n",
    "    - skew\n",
    "    - kurtosis"
   ]
  },
  {
   "cell_type": "code",
   "execution_count": 86,
   "metadata": {
    "ExecuteTime": {
     "end_time": "2022-03-24T17:04:02.612967Z",
     "start_time": "2022-03-24T17:04:01.174045Z"
    },
    "hidden": true,
    "hide_input": true,
    "scrolled": false
   },
   "outputs": [
    {
     "data": {
      "text/html": [
       "<div>\n",
       "<style scoped>\n",
       "    .dataframe tbody tr th:only-of-type {\n",
       "        vertical-align: middle;\n",
       "    }\n",
       "\n",
       "    .dataframe tbody tr th {\n",
       "        vertical-align: top;\n",
       "    }\n",
       "\n",
       "    .dataframe thead th {\n",
       "        text-align: right;\n",
       "    }\n",
       "</style>\n",
       "<table border=\"1\" class=\"dataframe\">\n",
       "  <thead>\n",
       "    <tr style=\"text-align: right;\">\n",
       "      <th></th>\n",
       "      <th>attributes</th>\n",
       "      <th>min</th>\n",
       "      <th>max</th>\n",
       "      <th>range</th>\n",
       "      <th>mean</th>\n",
       "      <th>median</th>\n",
       "      <th>std</th>\n",
       "      <th>skew</th>\n",
       "      <th>kurtosis</th>\n",
       "    </tr>\n",
       "  </thead>\n",
       "  <tbody>\n",
       "    <tr>\n",
       "      <th>0</th>\n",
       "      <td>Ativo Total</td>\n",
       "      <td>0.000000e+00</td>\n",
       "      <td>1.015142e+09</td>\n",
       "      <td>1.015142e+09</td>\n",
       "      <td>1.603485e+07</td>\n",
       "      <td>2831757.440</td>\n",
       "      <td>6.750343e+07</td>\n",
       "      <td>10.293659</td>\n",
       "      <td>121.126655</td>\n",
       "    </tr>\n",
       "    <tr>\n",
       "      <th>1</th>\n",
       "      <td>Ativo Circulante</td>\n",
       "      <td>0.000000e+00</td>\n",
       "      <td>2.928530e+08</td>\n",
       "      <td>2.928530e+08</td>\n",
       "      <td>4.420517e+06</td>\n",
       "      <td>877996.032</td>\n",
       "      <td>1.455244e+07</td>\n",
       "      <td>9.110793</td>\n",
       "      <td>107.877772</td>\n",
       "    </tr>\n",
       "    <tr>\n",
       "      <th>2</th>\n",
       "      <td>Caixa e Equivalentes de Caixa</td>\n",
       "      <td>-3.000000e+01</td>\n",
       "      <td>1.065980e+08</td>\n",
       "      <td>1.065980e+08</td>\n",
       "      <td>1.085782e+06</td>\n",
       "      <td>95478.000</td>\n",
       "      <td>4.963609e+06</td>\n",
       "      <td>12.267735</td>\n",
       "      <td>179.943835</td>\n",
       "    </tr>\n",
       "    <tr>\n",
       "      <th>3</th>\n",
       "      <td>Aplicações Financeiras</td>\n",
       "      <td>0.000000e+00</td>\n",
       "      <td>1.427600e+08</td>\n",
       "      <td>1.427600e+08</td>\n",
       "      <td>6.379342e+05</td>\n",
       "      <td>7379.000</td>\n",
       "      <td>3.965627e+06</td>\n",
       "      <td>24.599435</td>\n",
       "      <td>740.039174</td>\n",
       "    </tr>\n",
       "    <tr>\n",
       "      <th>4</th>\n",
       "      <td>Contas a Receber_1</td>\n",
       "      <td>0.000000e+00</td>\n",
       "      <td>1.152830e+08</td>\n",
       "      <td>1.152830e+08</td>\n",
       "      <td>1.106479e+06</td>\n",
       "      <td>232051.000</td>\n",
       "      <td>3.904960e+06</td>\n",
       "      <td>14.964894</td>\n",
       "      <td>306.564860</td>\n",
       "    </tr>\n",
       "    <tr>\n",
       "      <th>5</th>\n",
       "      <td>Estoques_1</td>\n",
       "      <td>-9.680000e+02</td>\n",
       "      <td>3.973000e+07</td>\n",
       "      <td>3.973097e+07</td>\n",
       "      <td>7.590408e+05</td>\n",
       "      <td>36021.000</td>\n",
       "      <td>2.863192e+06</td>\n",
       "      <td>7.876889</td>\n",
       "      <td>76.344873</td>\n",
       "    </tr>\n",
       "    <tr>\n",
       "      <th>6</th>\n",
       "      <td>Ativos Biológicos_1</td>\n",
       "      <td>0.000000e+00</td>\n",
       "      <td>6.490745e+06</td>\n",
       "      <td>6.490745e+06</td>\n",
       "      <td>1.580648e+04</td>\n",
       "      <td>0.000</td>\n",
       "      <td>1.818348e+05</td>\n",
       "      <td>18.289508</td>\n",
       "      <td>437.435322</td>\n",
       "    </tr>\n",
       "    <tr>\n",
       "      <th>7</th>\n",
       "      <td>Tributos a Recuperar</td>\n",
       "      <td>0.000000e+00</td>\n",
       "      <td>2.978800e+07</td>\n",
       "      <td>2.978800e+07</td>\n",
       "      <td>2.329326e+05</td>\n",
       "      <td>18561.218</td>\n",
       "      <td>1.021374e+06</td>\n",
       "      <td>11.705277</td>\n",
       "      <td>197.401103</td>\n",
       "    </tr>\n",
       "    <tr>\n",
       "      <th>8</th>\n",
       "      <td>Despesas Antecipadas_1</td>\n",
       "      <td>0.000000e+00</td>\n",
       "      <td>2.270287e+06</td>\n",
       "      <td>2.270287e+06</td>\n",
       "      <td>1.727719e+04</td>\n",
       "      <td>0.000</td>\n",
       "      <td>1.017780e+05</td>\n",
       "      <td>12.790442</td>\n",
       "      <td>200.583910</td>\n",
       "    </tr>\n",
       "    <tr>\n",
       "      <th>9</th>\n",
       "      <td>Outros Ativos Circulantes</td>\n",
       "      <td>-8.500000e+01</td>\n",
       "      <td>5.605200e+07</td>\n",
       "      <td>5.605208e+07</td>\n",
       "      <td>5.651119e+05</td>\n",
       "      <td>25194.000</td>\n",
       "      <td>2.666508e+06</td>\n",
       "      <td>8.458448</td>\n",
       "      <td>88.832518</td>\n",
       "    </tr>\n",
       "    <tr>\n",
       "      <th>10</th>\n",
       "      <td>Ativo Realizável a Longo Prazo</td>\n",
       "      <td>0.000000e+00</td>\n",
       "      <td>1.390950e+08</td>\n",
       "      <td>1.390950e+08</td>\n",
       "      <td>2.635055e+06</td>\n",
       "      <td>253514.504</td>\n",
       "      <td>9.518887e+06</td>\n",
       "      <td>7.496890</td>\n",
       "      <td>65.012397</td>\n",
       "    </tr>\n",
       "    <tr>\n",
       "      <th>11</th>\n",
       "      <td>Aplicações Financeiras Avaliadas a Valor Justo</td>\n",
       "      <td>0.000000e+00</td>\n",
       "      <td>6.733700e+07</td>\n",
       "      <td>6.733700e+07</td>\n",
       "      <td>7.130536e+04</td>\n",
       "      <td>0.000</td>\n",
       "      <td>1.375277e+06</td>\n",
       "      <td>38.893092</td>\n",
       "      <td>1597.695690</td>\n",
       "    </tr>\n",
       "    <tr>\n",
       "      <th>12</th>\n",
       "      <td>Aplicações Financeiras Avaliadas ao Custo Amor...</td>\n",
       "      <td>0.000000e+00</td>\n",
       "      <td>6.924444e+06</td>\n",
       "      <td>6.924444e+06</td>\n",
       "      <td>2.006629e+04</td>\n",
       "      <td>0.000</td>\n",
       "      <td>1.704970e+05</td>\n",
       "      <td>16.188290</td>\n",
       "      <td>375.693019</td>\n",
       "    </tr>\n",
       "    <tr>\n",
       "      <th>13</th>\n",
       "      <td>Contas a Receber</td>\n",
       "      <td>0.000000e+00</td>\n",
       "      <td>5.408900e+07</td>\n",
       "      <td>5.408900e+07</td>\n",
       "      <td>1.743154e+05</td>\n",
       "      <td>0.000</td>\n",
       "      <td>1.600812e+06</td>\n",
       "      <td>25.141668</td>\n",
       "      <td>767.653127</td>\n",
       "    </tr>\n",
       "    <tr>\n",
       "      <th>14</th>\n",
       "      <td>Estoques</td>\n",
       "      <td>-9.900000e+01</td>\n",
       "      <td>2.128100e+07</td>\n",
       "      <td>2.128110e+07</td>\n",
       "      <td>1.000866e+05</td>\n",
       "      <td>0.000</td>\n",
       "      <td>8.315570e+05</td>\n",
       "      <td>17.613764</td>\n",
       "      <td>346.512215</td>\n",
       "    </tr>\n",
       "    <tr>\n",
       "      <th>15</th>\n",
       "      <td>Ativos Biológicos</td>\n",
       "      <td>0.000000e+00</td>\n",
       "      <td>4.860581e+06</td>\n",
       "      <td>4.860581e+06</td>\n",
       "      <td>5.763122e+04</td>\n",
       "      <td>0.000</td>\n",
       "      <td>3.864726e+05</td>\n",
       "      <td>8.668884</td>\n",
       "      <td>80.482705</td>\n",
       "    </tr>\n",
       "    <tr>\n",
       "      <th>16</th>\n",
       "      <td>Tributos Diferidos_1</td>\n",
       "      <td>0.000000e+00</td>\n",
       "      <td>3.450700e+07</td>\n",
       "      <td>3.450700e+07</td>\n",
       "      <td>3.374213e+05</td>\n",
       "      <td>0.000</td>\n",
       "      <td>1.820417e+06</td>\n",
       "      <td>10.904800</td>\n",
       "      <td>143.467031</td>\n",
       "    </tr>\n",
       "    <tr>\n",
       "      <th>17</th>\n",
       "      <td>Despesas Antecipadas</td>\n",
       "      <td>0.000000e+00</td>\n",
       "      <td>7.305700e+07</td>\n",
       "      <td>7.305700e+07</td>\n",
       "      <td>2.082768e+05</td>\n",
       "      <td>0.000</td>\n",
       "      <td>2.245950e+06</td>\n",
       "      <td>22.528734</td>\n",
       "      <td>582.958380</td>\n",
       "    </tr>\n",
       "    <tr>\n",
       "      <th>18</th>\n",
       "      <td>Créditos com Partes Relacionadas</td>\n",
       "      <td>-1.000000e+00</td>\n",
       "      <td>8.796202e+06</td>\n",
       "      <td>8.796203e+06</td>\n",
       "      <td>2.812468e+04</td>\n",
       "      <td>0.000</td>\n",
       "      <td>2.510653e+05</td>\n",
       "      <td>25.882900</td>\n",
       "      <td>797.061323</td>\n",
       "    </tr>\n",
       "    <tr>\n",
       "      <th>19</th>\n",
       "      <td>Outros Ativos Não Circulantes</td>\n",
       "      <td>0.000000e+00</td>\n",
       "      <td>8.553746e+07</td>\n",
       "      <td>8.553746e+07</td>\n",
       "      <td>9.404136e+05</td>\n",
       "      <td>16647.500</td>\n",
       "      <td>5.100589e+06</td>\n",
       "      <td>11.253607</td>\n",
       "      <td>143.932284</td>\n",
       "    </tr>\n",
       "    <tr>\n",
       "      <th>20</th>\n",
       "      <td>Investimentos</td>\n",
       "      <td>-3.726000e+04</td>\n",
       "      <td>6.133100e+07</td>\n",
       "      <td>6.136826e+07</td>\n",
       "      <td>9.536688e+05</td>\n",
       "      <td>6710.000</td>\n",
       "      <td>4.133268e+06</td>\n",
       "      <td>7.849629</td>\n",
       "      <td>76.040607</td>\n",
       "    </tr>\n",
       "    <tr>\n",
       "      <th>21</th>\n",
       "      <td>Imobilizado</td>\n",
       "      <td>0.000000e+00</td>\n",
       "      <td>7.092270e+08</td>\n",
       "      <td>7.092270e+08</td>\n",
       "      <td>6.198203e+06</td>\n",
       "      <td>179386.504</td>\n",
       "      <td>4.325094e+07</td>\n",
       "      <td>12.282463</td>\n",
       "      <td>161.421138</td>\n",
       "    </tr>\n",
       "    <tr>\n",
       "      <th>22</th>\n",
       "      <td>Intangível</td>\n",
       "      <td>0.000000e+00</td>\n",
       "      <td>8.351307e+07</td>\n",
       "      <td>8.351307e+07</td>\n",
       "      <td>1.827133e+06</td>\n",
       "      <td>67930.000</td>\n",
       "      <td>5.923230e+06</td>\n",
       "      <td>7.642816</td>\n",
       "      <td>79.443529</td>\n",
       "    </tr>\n",
       "    <tr>\n",
       "      <th>23</th>\n",
       "      <td>Diferido</td>\n",
       "      <td>0.000000e+00</td>\n",
       "      <td>0.000000e+00</td>\n",
       "      <td>0.000000e+00</td>\n",
       "      <td>0.000000e+00</td>\n",
       "      <td>0.000</td>\n",
       "      <td>0.000000e+00</td>\n",
       "      <td>0.000000</td>\n",
       "      <td>0.000000</td>\n",
       "    </tr>\n",
       "    <tr>\n",
       "      <th>24</th>\n",
       "      <td>Passivo Total</td>\n",
       "      <td>0.000000e+00</td>\n",
       "      <td>1.015142e+09</td>\n",
       "      <td>1.015142e+09</td>\n",
       "      <td>1.603469e+07</td>\n",
       "      <td>2831757.440</td>\n",
       "      <td>6.750347e+07</td>\n",
       "      <td>10.293649</td>\n",
       "      <td>121.126482</td>\n",
       "    </tr>\n",
       "    <tr>\n",
       "      <th>25</th>\n",
       "      <td>Passivo Circulante</td>\n",
       "      <td>0.000000e+00</td>\n",
       "      <td>2.701860e+08</td>\n",
       "      <td>2.701860e+08</td>\n",
       "      <td>3.101478e+06</td>\n",
       "      <td>618020.992</td>\n",
       "      <td>1.063054e+07</td>\n",
       "      <td>10.736103</td>\n",
       "      <td>168.148724</td>\n",
       "    </tr>\n",
       "    <tr>\n",
       "      <th>26</th>\n",
       "      <td>Obrigações Sociais e Trabalhistas</td>\n",
       "      <td>0.000000e+00</td>\n",
       "      <td>1.060900e+07</td>\n",
       "      <td>1.060900e+07</td>\n",
       "      <td>1.255275e+05</td>\n",
       "      <td>20344.500</td>\n",
       "      <td>5.281356e+05</td>\n",
       "      <td>11.064189</td>\n",
       "      <td>148.729297</td>\n",
       "    </tr>\n",
       "    <tr>\n",
       "      <th>27</th>\n",
       "      <td>Fornecedores</td>\n",
       "      <td>0.000000e+00</td>\n",
       "      <td>6.799158e+07</td>\n",
       "      <td>6.799158e+07</td>\n",
       "      <td>8.757112e+05</td>\n",
       "      <td>72890.000</td>\n",
       "      <td>3.169531e+06</td>\n",
       "      <td>10.081915</td>\n",
       "      <td>150.611423</td>\n",
       "    </tr>\n",
       "    <tr>\n",
       "      <th>28</th>\n",
       "      <td>Obrigações Fiscais</td>\n",
       "      <td>0.000000e+00</td>\n",
       "      <td>1.252162e+07</td>\n",
       "      <td>1.252162e+07</td>\n",
       "      <td>1.688348e+05</td>\n",
       "      <td>27905.000</td>\n",
       "      <td>6.144823e+05</td>\n",
       "      <td>11.336531</td>\n",
       "      <td>173.460374</td>\n",
       "    </tr>\n",
       "    <tr>\n",
       "      <th>29</th>\n",
       "      <td>Empréstimos e Financiamentos_1</td>\n",
       "      <td>0.000000e+00</td>\n",
       "      <td>6.836800e+07</td>\n",
       "      <td>6.836800e+07</td>\n",
       "      <td>8.521812e+05</td>\n",
       "      <td>159595.008</td>\n",
       "      <td>3.299279e+06</td>\n",
       "      <td>12.396105</td>\n",
       "      <td>186.756308</td>\n",
       "    </tr>\n",
       "    <tr>\n",
       "      <th>30</th>\n",
       "      <td>Passivos com Partes Relacionadas_1</td>\n",
       "      <td>-4.800000e+02</td>\n",
       "      <td>4.449973e+06</td>\n",
       "      <td>4.450453e+06</td>\n",
       "      <td>2.248405e+04</td>\n",
       "      <td>0.000</td>\n",
       "      <td>1.713965e+05</td>\n",
       "      <td>15.316991</td>\n",
       "      <td>292.458707</td>\n",
       "    </tr>\n",
       "    <tr>\n",
       "      <th>31</th>\n",
       "      <td>Dividendos e JCP a Pagar</td>\n",
       "      <td>-6.100000e+02</td>\n",
       "      <td>9.526552e+06</td>\n",
       "      <td>9.527162e+06</td>\n",
       "      <td>7.396706e+04</td>\n",
       "      <td>1.000</td>\n",
       "      <td>4.011384e+05</td>\n",
       "      <td>11.699925</td>\n",
       "      <td>178.756068</td>\n",
       "    </tr>\n",
       "    <tr>\n",
       "      <th>32</th>\n",
       "      <td>Outros_1</td>\n",
       "      <td>-4.590000e+02</td>\n",
       "      <td>2.597070e+08</td>\n",
       "      <td>2.597075e+08</td>\n",
       "      <td>7.495027e+05</td>\n",
       "      <td>72066.004</td>\n",
       "      <td>5.989100e+06</td>\n",
       "      <td>30.938247</td>\n",
       "      <td>1120.445134</td>\n",
       "    </tr>\n",
       "    <tr>\n",
       "      <th>33</th>\n",
       "      <td>Provisões_1</td>\n",
       "      <td>0.000000e+00</td>\n",
       "      <td>3.211052e+07</td>\n",
       "      <td>3.211052e+07</td>\n",
       "      <td>1.581099e+05</td>\n",
       "      <td>0.000</td>\n",
       "      <td>9.978433e+05</td>\n",
       "      <td>13.571343</td>\n",
       "      <td>265.197857</td>\n",
       "    </tr>\n",
       "    <tr>\n",
       "      <th>34</th>\n",
       "      <td>Passivos sobre Ativos Não-Correntes a Venda e ...</td>\n",
       "      <td>-2.649000e+03</td>\n",
       "      <td>2.614015e+07</td>\n",
       "      <td>2.614280e+07</td>\n",
       "      <td>7.232618e+04</td>\n",
       "      <td>0.000</td>\n",
       "      <td>9.021371e+05</td>\n",
       "      <td>17.696426</td>\n",
       "      <td>351.125096</td>\n",
       "    </tr>\n",
       "    <tr>\n",
       "      <th>35</th>\n",
       "      <td>Passivo Não Circulante</td>\n",
       "      <td>0.000000e+00</td>\n",
       "      <td>6.252520e+08</td>\n",
       "      <td>6.252520e+08</td>\n",
       "      <td>6.899413e+06</td>\n",
       "      <td>731777.504</td>\n",
       "      <td>3.462347e+07</td>\n",
       "      <td>11.854354</td>\n",
       "      <td>160.170136</td>\n",
       "    </tr>\n",
       "    <tr>\n",
       "      <th>36</th>\n",
       "      <td>Empréstimos e Financiamentos</td>\n",
       "      <td>0.000000e+00</td>\n",
       "      <td>4.532080e+08</td>\n",
       "      <td>4.532080e+08</td>\n",
       "      <td>4.447027e+06</td>\n",
       "      <td>324582.016</td>\n",
       "      <td>2.417710e+07</td>\n",
       "      <td>12.764870</td>\n",
       "      <td>181.698579</td>\n",
       "    </tr>\n",
       "    <tr>\n",
       "      <th>37</th>\n",
       "      <td>Passivos com Partes Relacionadas</td>\n",
       "      <td>-4.193300e+04</td>\n",
       "      <td>5.355123e+06</td>\n",
       "      <td>5.397056e+06</td>\n",
       "      <td>2.173666e+04</td>\n",
       "      <td>0.000</td>\n",
       "      <td>1.854718e+05</td>\n",
       "      <td>17.681631</td>\n",
       "      <td>373.745101</td>\n",
       "    </tr>\n",
       "    <tr>\n",
       "      <th>38</th>\n",
       "      <td>Outros</td>\n",
       "      <td>-3.937000e+03</td>\n",
       "      <td>1.077320e+08</td>\n",
       "      <td>1.077359e+08</td>\n",
       "      <td>8.008796e+05</td>\n",
       "      <td>68685.000</td>\n",
       "      <td>3.447075e+06</td>\n",
       "      <td>18.946067</td>\n",
       "      <td>519.970799</td>\n",
       "    </tr>\n",
       "    <tr>\n",
       "      <th>39</th>\n",
       "      <td>Tributos Diferidos</td>\n",
       "      <td>0.000000e+00</td>\n",
       "      <td>4.564009e+07</td>\n",
       "      <td>4.564009e+07</td>\n",
       "      <td>3.392567e+05</td>\n",
       "      <td>8498.500</td>\n",
       "      <td>1.743051e+06</td>\n",
       "      <td>15.576890</td>\n",
       "      <td>313.794877</td>\n",
       "    </tr>\n",
       "    <tr>\n",
       "      <th>40</th>\n",
       "      <td>Adiantamento para Futuro Aumento Capital_1</td>\n",
       "      <td>0.000000e+00</td>\n",
       "      <td>0.000000e+00</td>\n",
       "      <td>0.000000e+00</td>\n",
       "      <td>0.000000e+00</td>\n",
       "      <td>0.000</td>\n",
       "      <td>0.000000e+00</td>\n",
       "      <td>0.000000</td>\n",
       "      <td>0.000000</td>\n",
       "    </tr>\n",
       "    <tr>\n",
       "      <th>41</th>\n",
       "      <td>Provisões</td>\n",
       "      <td>-9.310000e+02</td>\n",
       "      <td>1.959300e+08</td>\n",
       "      <td>1.959309e+08</td>\n",
       "      <td>1.273011e+06</td>\n",
       "      <td>41381.000</td>\n",
       "      <td>9.676381e+06</td>\n",
       "      <td>13.890540</td>\n",
       "      <td>222.551433</td>\n",
       "    </tr>\n",
       "    <tr>\n",
       "      <th>42</th>\n",
       "      <td>Passivos sobre Ativos Não-Correntes a Venda e ...</td>\n",
       "      <td>0.000000e+00</td>\n",
       "      <td>1.874526e+06</td>\n",
       "      <td>1.874526e+06</td>\n",
       "      <td>1.878223e+03</td>\n",
       "      <td>0.000</td>\n",
       "      <td>3.744474e+04</td>\n",
       "      <td>27.172304</td>\n",
       "      <td>900.589006</td>\n",
       "    </tr>\n",
       "    <tr>\n",
       "      <th>43</th>\n",
       "      <td>Lucros e Receitas a Apropriar</td>\n",
       "      <td>0.000000e+00</td>\n",
       "      <td>1.223000e+06</td>\n",
       "      <td>1.223000e+06</td>\n",
       "      <td>5.434574e+03</td>\n",
       "      <td>0.000</td>\n",
       "      <td>4.730852e+04</td>\n",
       "      <td>11.980391</td>\n",
       "      <td>179.500484</td>\n",
       "    </tr>\n",
       "    <tr>\n",
       "      <th>44</th>\n",
       "      <td>Participação dos Acionistas Não Controladores</td>\n",
       "      <td>-7.277833e+06</td>\n",
       "      <td>2.439294e+07</td>\n",
       "      <td>3.167077e+07</td>\n",
       "      <td>3.066349e+05</td>\n",
       "      <td>0.000</td>\n",
       "      <td>1.500680e+06</td>\n",
       "      <td>9.617241</td>\n",
       "      <td>110.006195</td>\n",
       "    </tr>\n",
       "    <tr>\n",
       "      <th>45</th>\n",
       "      <td>Patrimônio Líquido</td>\n",
       "      <td>-1.690883e+07</td>\n",
       "      <td>3.607000e+08</td>\n",
       "      <td>3.776088e+08</td>\n",
       "      <td>5.727304e+06</td>\n",
       "      <td>936454.016</td>\n",
       "      <td>2.556268e+07</td>\n",
       "      <td>9.694833</td>\n",
       "      <td>106.636164</td>\n",
       "    </tr>\n",
       "    <tr>\n",
       "      <th>46</th>\n",
       "      <td>Capital Social Realizado</td>\n",
       "      <td>-4.579300e+04</td>\n",
       "      <td>2.054320e+08</td>\n",
       "      <td>2.054778e+08</td>\n",
       "      <td>3.915695e+06</td>\n",
       "      <td>590174.016</td>\n",
       "      <td>1.680931e+07</td>\n",
       "      <td>9.877390</td>\n",
       "      <td>110.342008</td>\n",
       "    </tr>\n",
       "    <tr>\n",
       "      <th>47</th>\n",
       "      <td>Reservas de Capital</td>\n",
       "      <td>-3.940955e+06</td>\n",
       "      <td>5.577686e+07</td>\n",
       "      <td>5.971782e+07</td>\n",
       "      <td>4.997386e+05</td>\n",
       "      <td>826.000</td>\n",
       "      <td>3.288608e+06</td>\n",
       "      <td>11.975391</td>\n",
       "      <td>170.616377</td>\n",
       "    </tr>\n",
       "    <tr>\n",
       "      <th>48</th>\n",
       "      <td>Reservas de Reavaliação</td>\n",
       "      <td>-7.650800e+04</td>\n",
       "      <td>1.104691e+06</td>\n",
       "      <td>1.181199e+06</td>\n",
       "      <td>8.106002e+03</td>\n",
       "      <td>0.000</td>\n",
       "      <td>3.180329e+04</td>\n",
       "      <td>7.757369</td>\n",
       "      <td>138.939084</td>\n",
       "    </tr>\n",
       "    <tr>\n",
       "      <th>49</th>\n",
       "      <td>Reservas de Lucros</td>\n",
       "      <td>-2.930988e+06</td>\n",
       "      <td>1.656730e+08</td>\n",
       "      <td>1.686040e+08</td>\n",
       "      <td>1.618812e+06</td>\n",
       "      <td>134640.992</td>\n",
       "      <td>9.118526e+06</td>\n",
       "      <td>11.909599</td>\n",
       "      <td>157.151906</td>\n",
       "    </tr>\n",
       "    <tr>\n",
       "      <th>50</th>\n",
       "      <td>Lucros/Prejuízos Acumulados</td>\n",
       "      <td>-4.233592e+07</td>\n",
       "      <td>6.702495e+07</td>\n",
       "      <td>1.093609e+08</td>\n",
       "      <td>-2.190601e+05</td>\n",
       "      <td>0.000</td>\n",
       "      <td>2.081531e+06</td>\n",
       "      <td>-2.525514</td>\n",
       "      <td>153.312744</td>\n",
       "    </tr>\n",
       "    <tr>\n",
       "      <th>51</th>\n",
       "      <td>Ajustes de Avaliação Patrimonial</td>\n",
       "      <td>-7.719595e+07</td>\n",
       "      <td>1.166577e+07</td>\n",
       "      <td>8.886172e+07</td>\n",
       "      <td>-9.840485e+04</td>\n",
       "      <td>0.000</td>\n",
       "      <td>3.406570e+06</td>\n",
       "      <td>-20.184370</td>\n",
       "      <td>427.364074</td>\n",
       "    </tr>\n",
       "    <tr>\n",
       "      <th>52</th>\n",
       "      <td>Ajustes Acumulados de Conversão</td>\n",
       "      <td>-1.294252e+07</td>\n",
       "      <td>1.099145e+08</td>\n",
       "      <td>1.228570e+08</td>\n",
       "      <td>1.788852e+05</td>\n",
       "      <td>0.000</td>\n",
       "      <td>3.122902e+06</td>\n",
       "      <td>20.998461</td>\n",
       "      <td>496.410029</td>\n",
       "    </tr>\n",
       "    <tr>\n",
       "      <th>53</th>\n",
       "      <td>Outros Resultados Abrangentes</td>\n",
       "      <td>-5.235600e+07</td>\n",
       "      <td>3.804741e+06</td>\n",
       "      <td>5.616074e+07</td>\n",
       "      <td>-1.765953e+05</td>\n",
       "      <td>0.000</td>\n",
       "      <td>1.900992e+06</td>\n",
       "      <td>-16.175785</td>\n",
       "      <td>306.674439</td>\n",
       "    </tr>\n",
       "    <tr>\n",
       "      <th>54</th>\n",
       "      <td>Adiantamento para Futuro Aumento Capital</td>\n",
       "      <td>0.000000e+00</td>\n",
       "      <td>0.000000e+00</td>\n",
       "      <td>0.000000e+00</td>\n",
       "      <td>0.000000e+00</td>\n",
       "      <td>0.000</td>\n",
       "      <td>0.000000e+00</td>\n",
       "      <td>0.000000</td>\n",
       "      <td>0.000000</td>\n",
       "    </tr>\n",
       "    <tr>\n",
       "      <th>55</th>\n",
       "      <td>Receita Líquida de Vendas e/ou Serviços</td>\n",
       "      <td>-1.051044e+07</td>\n",
       "      <td>1.107100e+08</td>\n",
       "      <td>1.212204e+08</td>\n",
       "      <td>1.886587e+06</td>\n",
       "      <td>263436.992</td>\n",
       "      <td>6.848565e+06</td>\n",
       "      <td>8.821855</td>\n",
       "      <td>92.569257</td>\n",
       "    </tr>\n",
       "    <tr>\n",
       "      <th>56</th>\n",
       "      <td>Custo de Bens e/ou Serviços Vendidos</td>\n",
       "      <td>-6.914596e+07</td>\n",
       "      <td>1.095500e+07</td>\n",
       "      <td>8.010096e+07</td>\n",
       "      <td>-1.324905e+06</td>\n",
       "      <td>-157060.536</td>\n",
       "      <td>4.783530e+06</td>\n",
       "      <td>-8.511265</td>\n",
       "      <td>87.088725</td>\n",
       "    </tr>\n",
       "    <tr>\n",
       "      <th>57</th>\n",
       "      <td>Resultado Bruto</td>\n",
       "      <td>-1.051044e+07</td>\n",
       "      <td>5.727221e+07</td>\n",
       "      <td>6.778265e+07</td>\n",
       "      <td>5.616822e+05</td>\n",
       "      <td>77227.000</td>\n",
       "      <td>2.406746e+06</td>\n",
       "      <td>11.119099</td>\n",
       "      <td>163.789751</td>\n",
       "    </tr>\n",
       "    <tr>\n",
       "      <th>58</th>\n",
       "      <td>Despesas Com Vendas</td>\n",
       "      <td>-6.752000e+06</td>\n",
       "      <td>2.313000e+06</td>\n",
       "      <td>9.065000e+06</td>\n",
       "      <td>-1.133465e+05</td>\n",
       "      <td>-8597.000</td>\n",
       "      <td>4.400294e+05</td>\n",
       "      <td>-7.776874</td>\n",
       "      <td>76.086323</td>\n",
       "    </tr>\n",
       "    <tr>\n",
       "      <th>59</th>\n",
       "      <td>Despesas Gerais e Administrativas</td>\n",
       "      <td>-2.235511e+07</td>\n",
       "      <td>8.568533e+06</td>\n",
       "      <td>3.092364e+07</td>\n",
       "      <td>-1.350425e+05</td>\n",
       "      <td>-25135.000</td>\n",
       "      <td>6.805897e+05</td>\n",
       "      <td>-14.096171</td>\n",
       "      <td>327.964863</td>\n",
       "    </tr>\n",
       "    <tr>\n",
       "      <th>60</th>\n",
       "      <td>Perdas pela Não Recuperabilidade de Ativos</td>\n",
       "      <td>-3.627949e+07</td>\n",
       "      <td>1.967108e+06</td>\n",
       "      <td>3.824660e+07</td>\n",
       "      <td>-1.456065e+04</td>\n",
       "      <td>0.000</td>\n",
       "      <td>4.904784e+05</td>\n",
       "      <td>-60.106239</td>\n",
       "      <td>4142.491501</td>\n",
       "    </tr>\n",
       "    <tr>\n",
       "      <th>61</th>\n",
       "      <td>Outras Receitas Operacionais</td>\n",
       "      <td>-2.139257e+06</td>\n",
       "      <td>1.435612e+07</td>\n",
       "      <td>1.649538e+07</td>\n",
       "      <td>2.781298e+04</td>\n",
       "      <td>326.000</td>\n",
       "      <td>2.251374e+05</td>\n",
       "      <td>27.885131</td>\n",
       "      <td>1414.760536</td>\n",
       "    </tr>\n",
       "    <tr>\n",
       "      <th>62</th>\n",
       "      <td>Outras Despesas Operacionais</td>\n",
       "      <td>-6.788200e+07</td>\n",
       "      <td>3.399800e+07</td>\n",
       "      <td>1.018800e+08</td>\n",
       "      <td>-1.037382e+05</td>\n",
       "      <td>-1310.000</td>\n",
       "      <td>1.441667e+06</td>\n",
       "      <td>-27.905055</td>\n",
       "      <td>1226.822389</td>\n",
       "    </tr>\n",
       "    <tr>\n",
       "      <th>63</th>\n",
       "      <td>Resultado da Equivalência Patrimonial</td>\n",
       "      <td>-3.967902e+06</td>\n",
       "      <td>5.305000e+06</td>\n",
       "      <td>9.272902e+06</td>\n",
       "      <td>1.722014e+04</td>\n",
       "      <td>0.000</td>\n",
       "      <td>1.979694e+05</td>\n",
       "      <td>9.779872</td>\n",
       "      <td>200.252267</td>\n",
       "    </tr>\n",
       "    <tr>\n",
       "      <th>64</th>\n",
       "      <td>Financeiras</td>\n",
       "      <td>-3.074800e+07</td>\n",
       "      <td>3.017938e+07</td>\n",
       "      <td>6.092738e+07</td>\n",
       "      <td>-1.035484e+05</td>\n",
       "      <td>-7990.000</td>\n",
       "      <td>9.739757e+05</td>\n",
       "      <td>-8.843422</td>\n",
       "      <td>430.564815</td>\n",
       "    </tr>\n",
       "    <tr>\n",
       "      <th>65</th>\n",
       "      <td>Receitas Financeiras</td>\n",
       "      <td>-9.223329e+06</td>\n",
       "      <td>2.867676e+07</td>\n",
       "      <td>3.790009e+07</td>\n",
       "      <td>1.115570e+05</td>\n",
       "      <td>11433.000</td>\n",
       "      <td>6.877510e+05</td>\n",
       "      <td>20.491390</td>\n",
       "      <td>602.712397</td>\n",
       "    </tr>\n",
       "    <tr>\n",
       "      <th>66</th>\n",
       "      <td>Despesas Financeiras</td>\n",
       "      <td>-3.489524e+07</td>\n",
       "      <td>9.667000e+06</td>\n",
       "      <td>4.456224e+07</td>\n",
       "      <td>-2.129605e+05</td>\n",
       "      <td>-26097.000</td>\n",
       "      <td>1.097200e+06</td>\n",
       "      <td>-14.396838</td>\n",
       "      <td>320.063804</td>\n",
       "    </tr>\n",
       "    <tr>\n",
       "      <th>67</th>\n",
       "      <td>Resultado Antes Tributação/Participações</td>\n",
       "      <td>-6.661800e+07</td>\n",
       "      <td>7.482100e+07</td>\n",
       "      <td>1.414390e+08</td>\n",
       "      <td>1.365552e+05</td>\n",
       "      <td>12378.500</td>\n",
       "      <td>2.046148e+06</td>\n",
       "      <td>5.390614</td>\n",
       "      <td>613.167751</td>\n",
       "    </tr>\n",
       "    <tr>\n",
       "      <th>68</th>\n",
       "      <td>Provisão para IR e Contribuição Social</td>\n",
       "      <td>-1.139730e+07</td>\n",
       "      <td>4.843030e+06</td>\n",
       "      <td>1.624033e+07</td>\n",
       "      <td>-4.007012e+04</td>\n",
       "      <td>-1882.000</td>\n",
       "      <td>2.838134e+05</td>\n",
       "      <td>-17.890198</td>\n",
       "      <td>612.239180</td>\n",
       "    </tr>\n",
       "    <tr>\n",
       "      <th>69</th>\n",
       "      <td>IR Diferido</td>\n",
       "      <td>-1.939600e+07</td>\n",
       "      <td>1.749100e+07</td>\n",
       "      <td>3.688700e+07</td>\n",
       "      <td>2.292827e+03</td>\n",
       "      <td>0.000</td>\n",
       "      <td>5.287496e+05</td>\n",
       "      <td>3.353309</td>\n",
       "      <td>678.657720</td>\n",
       "    </tr>\n",
       "    <tr>\n",
       "      <th>70</th>\n",
       "      <td>Lucro/Prejuízo do Período</td>\n",
       "      <td>-4.852300e+07</td>\n",
       "      <td>5.989000e+07</td>\n",
       "      <td>1.084130e+08</td>\n",
       "      <td>9.475570e+04</td>\n",
       "      <td>8669.500</td>\n",
       "      <td>1.580627e+06</td>\n",
       "      <td>5.275817</td>\n",
       "      <td>595.316123</td>\n",
       "    </tr>\n",
       "    <tr>\n",
       "      <th>71</th>\n",
       "      <td>Adj Close</td>\n",
       "      <td>-4.749077e+16</td>\n",
       "      <td>4.901700e+15</td>\n",
       "      <td>5.239247e+16</td>\n",
       "      <td>-1.134975e+13</td>\n",
       "      <td>10.000</td>\n",
       "      <td>7.731510e+14</td>\n",
       "      <td>-60.668427</td>\n",
       "      <td>3728.064099</td>\n",
       "    </tr>\n",
       "    <tr>\n",
       "      <th>72</th>\n",
       "      <td>Class</td>\n",
       "      <td>0.000000e+00</td>\n",
       "      <td>1.000000e+00</td>\n",
       "      <td>1.000000e+00</td>\n",
       "      <td>4.291989e-01</td>\n",
       "      <td>0.000</td>\n",
       "      <td>4.949618e-01</td>\n",
       "      <td>0.286115</td>\n",
       "      <td>-1.918390</td>\n",
       "    </tr>\n",
       "    <tr>\n",
       "      <th>73</th>\n",
       "      <td>Perc</td>\n",
       "      <td>-1.163790e+00</td>\n",
       "      <td>1.154903e+03</td>\n",
       "      <td>1.156066e+03</td>\n",
       "      <td>1.303806e-01</td>\n",
       "      <td>0.000</td>\n",
       "      <td>9.380134e+00</td>\n",
       "      <td>122.354624</td>\n",
       "      <td>15060.050637</td>\n",
       "    </tr>\n",
       "  </tbody>\n",
       "</table>\n",
       "</div>"
      ],
      "text/plain": [
       "                                           attributes           min           max         range          mean       median           std        skew      kurtosis\n",
       "0                                         Ativo Total  0.000000e+00  1.015142e+09  1.015142e+09  1.603485e+07  2831757.440  6.750343e+07   10.293659    121.126655\n",
       "1                                    Ativo Circulante  0.000000e+00  2.928530e+08  2.928530e+08  4.420517e+06   877996.032  1.455244e+07    9.110793    107.877772\n",
       "2                       Caixa e Equivalentes de Caixa -3.000000e+01  1.065980e+08  1.065980e+08  1.085782e+06    95478.000  4.963609e+06   12.267735    179.943835\n",
       "3                              Aplicações Financeiras  0.000000e+00  1.427600e+08  1.427600e+08  6.379342e+05     7379.000  3.965627e+06   24.599435    740.039174\n",
       "4                                  Contas a Receber_1  0.000000e+00  1.152830e+08  1.152830e+08  1.106479e+06   232051.000  3.904960e+06   14.964894    306.564860\n",
       "5                                          Estoques_1 -9.680000e+02  3.973000e+07  3.973097e+07  7.590408e+05    36021.000  2.863192e+06    7.876889     76.344873\n",
       "6                                 Ativos Biológicos_1  0.000000e+00  6.490745e+06  6.490745e+06  1.580648e+04        0.000  1.818348e+05   18.289508    437.435322\n",
       "7                                Tributos a Recuperar  0.000000e+00  2.978800e+07  2.978800e+07  2.329326e+05    18561.218  1.021374e+06   11.705277    197.401103\n",
       "8                              Despesas Antecipadas_1  0.000000e+00  2.270287e+06  2.270287e+06  1.727719e+04        0.000  1.017780e+05   12.790442    200.583910\n",
       "9                           Outros Ativos Circulantes -8.500000e+01  5.605200e+07  5.605208e+07  5.651119e+05    25194.000  2.666508e+06    8.458448     88.832518\n",
       "10                     Ativo Realizável a Longo Prazo  0.000000e+00  1.390950e+08  1.390950e+08  2.635055e+06   253514.504  9.518887e+06    7.496890     65.012397\n",
       "11     Aplicações Financeiras Avaliadas a Valor Justo  0.000000e+00  6.733700e+07  6.733700e+07  7.130536e+04        0.000  1.375277e+06   38.893092   1597.695690\n",
       "12  Aplicações Financeiras Avaliadas ao Custo Amor...  0.000000e+00  6.924444e+06  6.924444e+06  2.006629e+04        0.000  1.704970e+05   16.188290    375.693019\n",
       "13                                   Contas a Receber  0.000000e+00  5.408900e+07  5.408900e+07  1.743154e+05        0.000  1.600812e+06   25.141668    767.653127\n",
       "14                                           Estoques -9.900000e+01  2.128100e+07  2.128110e+07  1.000866e+05        0.000  8.315570e+05   17.613764    346.512215\n",
       "15                                  Ativos Biológicos  0.000000e+00  4.860581e+06  4.860581e+06  5.763122e+04        0.000  3.864726e+05    8.668884     80.482705\n",
       "16                               Tributos Diferidos_1  0.000000e+00  3.450700e+07  3.450700e+07  3.374213e+05        0.000  1.820417e+06   10.904800    143.467031\n",
       "17                               Despesas Antecipadas  0.000000e+00  7.305700e+07  7.305700e+07  2.082768e+05        0.000  2.245950e+06   22.528734    582.958380\n",
       "18                   Créditos com Partes Relacionadas -1.000000e+00  8.796202e+06  8.796203e+06  2.812468e+04        0.000  2.510653e+05   25.882900    797.061323\n",
       "19                      Outros Ativos Não Circulantes  0.000000e+00  8.553746e+07  8.553746e+07  9.404136e+05    16647.500  5.100589e+06   11.253607    143.932284\n",
       "20                                      Investimentos -3.726000e+04  6.133100e+07  6.136826e+07  9.536688e+05     6710.000  4.133268e+06    7.849629     76.040607\n",
       "21                                        Imobilizado  0.000000e+00  7.092270e+08  7.092270e+08  6.198203e+06   179386.504  4.325094e+07   12.282463    161.421138\n",
       "22                                         Intangível  0.000000e+00  8.351307e+07  8.351307e+07  1.827133e+06    67930.000  5.923230e+06    7.642816     79.443529\n",
       "23                                           Diferido  0.000000e+00  0.000000e+00  0.000000e+00  0.000000e+00        0.000  0.000000e+00    0.000000      0.000000\n",
       "24                                      Passivo Total  0.000000e+00  1.015142e+09  1.015142e+09  1.603469e+07  2831757.440  6.750347e+07   10.293649    121.126482\n",
       "25                                 Passivo Circulante  0.000000e+00  2.701860e+08  2.701860e+08  3.101478e+06   618020.992  1.063054e+07   10.736103    168.148724\n",
       "26                  Obrigações Sociais e Trabalhistas  0.000000e+00  1.060900e+07  1.060900e+07  1.255275e+05    20344.500  5.281356e+05   11.064189    148.729297\n",
       "27                                       Fornecedores  0.000000e+00  6.799158e+07  6.799158e+07  8.757112e+05    72890.000  3.169531e+06   10.081915    150.611423\n",
       "28                                 Obrigações Fiscais  0.000000e+00  1.252162e+07  1.252162e+07  1.688348e+05    27905.000  6.144823e+05   11.336531    173.460374\n",
       "29                     Empréstimos e Financiamentos_1  0.000000e+00  6.836800e+07  6.836800e+07  8.521812e+05   159595.008  3.299279e+06   12.396105    186.756308\n",
       "30                 Passivos com Partes Relacionadas_1 -4.800000e+02  4.449973e+06  4.450453e+06  2.248405e+04        0.000  1.713965e+05   15.316991    292.458707\n",
       "31                           Dividendos e JCP a Pagar -6.100000e+02  9.526552e+06  9.527162e+06  7.396706e+04        1.000  4.011384e+05   11.699925    178.756068\n",
       "32                                           Outros_1 -4.590000e+02  2.597070e+08  2.597075e+08  7.495027e+05    72066.004  5.989100e+06   30.938247   1120.445134\n",
       "33                                        Provisões_1  0.000000e+00  3.211052e+07  3.211052e+07  1.581099e+05        0.000  9.978433e+05   13.571343    265.197857\n",
       "34  Passivos sobre Ativos Não-Correntes a Venda e ... -2.649000e+03  2.614015e+07  2.614280e+07  7.232618e+04        0.000  9.021371e+05   17.696426    351.125096\n",
       "35                             Passivo Não Circulante  0.000000e+00  6.252520e+08  6.252520e+08  6.899413e+06   731777.504  3.462347e+07   11.854354    160.170136\n",
       "36                       Empréstimos e Financiamentos  0.000000e+00  4.532080e+08  4.532080e+08  4.447027e+06   324582.016  2.417710e+07   12.764870    181.698579\n",
       "37                   Passivos com Partes Relacionadas -4.193300e+04  5.355123e+06  5.397056e+06  2.173666e+04        0.000  1.854718e+05   17.681631    373.745101\n",
       "38                                             Outros -3.937000e+03  1.077320e+08  1.077359e+08  8.008796e+05    68685.000  3.447075e+06   18.946067    519.970799\n",
       "39                                 Tributos Diferidos  0.000000e+00  4.564009e+07  4.564009e+07  3.392567e+05     8498.500  1.743051e+06   15.576890    313.794877\n",
       "40         Adiantamento para Futuro Aumento Capital_1  0.000000e+00  0.000000e+00  0.000000e+00  0.000000e+00        0.000  0.000000e+00    0.000000      0.000000\n",
       "41                                          Provisões -9.310000e+02  1.959300e+08  1.959309e+08  1.273011e+06    41381.000  9.676381e+06   13.890540    222.551433\n",
       "42  Passivos sobre Ativos Não-Correntes a Venda e ...  0.000000e+00  1.874526e+06  1.874526e+06  1.878223e+03        0.000  3.744474e+04   27.172304    900.589006\n",
       "43                      Lucros e Receitas a Apropriar  0.000000e+00  1.223000e+06  1.223000e+06  5.434574e+03        0.000  4.730852e+04   11.980391    179.500484\n",
       "44      Participação dos Acionistas Não Controladores -7.277833e+06  2.439294e+07  3.167077e+07  3.066349e+05        0.000  1.500680e+06    9.617241    110.006195\n",
       "45                                 Patrimônio Líquido -1.690883e+07  3.607000e+08  3.776088e+08  5.727304e+06   936454.016  2.556268e+07    9.694833    106.636164\n",
       "46                           Capital Social Realizado -4.579300e+04  2.054320e+08  2.054778e+08  3.915695e+06   590174.016  1.680931e+07    9.877390    110.342008\n",
       "47                                Reservas de Capital -3.940955e+06  5.577686e+07  5.971782e+07  4.997386e+05      826.000  3.288608e+06   11.975391    170.616377\n",
       "48                            Reservas de Reavaliação -7.650800e+04  1.104691e+06  1.181199e+06  8.106002e+03        0.000  3.180329e+04    7.757369    138.939084\n",
       "49                                 Reservas de Lucros -2.930988e+06  1.656730e+08  1.686040e+08  1.618812e+06   134640.992  9.118526e+06   11.909599    157.151906\n",
       "50                        Lucros/Prejuízos Acumulados -4.233592e+07  6.702495e+07  1.093609e+08 -2.190601e+05        0.000  2.081531e+06   -2.525514    153.312744\n",
       "51                   Ajustes de Avaliação Patrimonial -7.719595e+07  1.166577e+07  8.886172e+07 -9.840485e+04        0.000  3.406570e+06  -20.184370    427.364074\n",
       "52                    Ajustes Acumulados de Conversão -1.294252e+07  1.099145e+08  1.228570e+08  1.788852e+05        0.000  3.122902e+06   20.998461    496.410029\n",
       "53                      Outros Resultados Abrangentes -5.235600e+07  3.804741e+06  5.616074e+07 -1.765953e+05        0.000  1.900992e+06  -16.175785    306.674439\n",
       "54           Adiantamento para Futuro Aumento Capital  0.000000e+00  0.000000e+00  0.000000e+00  0.000000e+00        0.000  0.000000e+00    0.000000      0.000000\n",
       "55            Receita Líquida de Vendas e/ou Serviços -1.051044e+07  1.107100e+08  1.212204e+08  1.886587e+06   263436.992  6.848565e+06    8.821855     92.569257\n",
       "56               Custo de Bens e/ou Serviços Vendidos -6.914596e+07  1.095500e+07  8.010096e+07 -1.324905e+06  -157060.536  4.783530e+06   -8.511265     87.088725\n",
       "57                                    Resultado Bruto -1.051044e+07  5.727221e+07  6.778265e+07  5.616822e+05    77227.000  2.406746e+06   11.119099    163.789751\n",
       "58                                Despesas Com Vendas -6.752000e+06  2.313000e+06  9.065000e+06 -1.133465e+05    -8597.000  4.400294e+05   -7.776874     76.086323\n",
       "59                  Despesas Gerais e Administrativas -2.235511e+07  8.568533e+06  3.092364e+07 -1.350425e+05   -25135.000  6.805897e+05  -14.096171    327.964863\n",
       "60        Perdas pela Não Recuperabilidade de Ativos  -3.627949e+07  1.967108e+06  3.824660e+07 -1.456065e+04        0.000  4.904784e+05  -60.106239   4142.491501\n",
       "61                       Outras Receitas Operacionais -2.139257e+06  1.435612e+07  1.649538e+07  2.781298e+04      326.000  2.251374e+05   27.885131   1414.760536\n",
       "62                       Outras Despesas Operacionais -6.788200e+07  3.399800e+07  1.018800e+08 -1.037382e+05    -1310.000  1.441667e+06  -27.905055   1226.822389\n",
       "63              Resultado da Equivalência Patrimonial -3.967902e+06  5.305000e+06  9.272902e+06  1.722014e+04        0.000  1.979694e+05    9.779872    200.252267\n",
       "64                                        Financeiras -3.074800e+07  3.017938e+07  6.092738e+07 -1.035484e+05    -7990.000  9.739757e+05   -8.843422    430.564815\n",
       "65                               Receitas Financeiras -9.223329e+06  2.867676e+07  3.790009e+07  1.115570e+05    11433.000  6.877510e+05   20.491390    602.712397\n",
       "66                               Despesas Financeiras -3.489524e+07  9.667000e+06  4.456224e+07 -2.129605e+05   -26097.000  1.097200e+06  -14.396838    320.063804\n",
       "67           Resultado Antes Tributação/Participações -6.661800e+07  7.482100e+07  1.414390e+08  1.365552e+05    12378.500  2.046148e+06    5.390614    613.167751\n",
       "68             Provisão para IR e Contribuição Social -1.139730e+07  4.843030e+06  1.624033e+07 -4.007012e+04    -1882.000  2.838134e+05  -17.890198    612.239180\n",
       "69                                        IR Diferido -1.939600e+07  1.749100e+07  3.688700e+07  2.292827e+03        0.000  5.287496e+05    3.353309    678.657720\n",
       "70                          Lucro/Prejuízo do Período -4.852300e+07  5.989000e+07  1.084130e+08  9.475570e+04     8669.500  1.580627e+06    5.275817    595.316123\n",
       "71                                          Adj Close -4.749077e+16  4.901700e+15  5.239247e+16 -1.134975e+13       10.000  7.731510e+14  -60.668427   3728.064099\n",
       "72                                              Class  0.000000e+00  1.000000e+00  1.000000e+00  4.291989e-01        0.000  4.949618e-01    0.286115     -1.918390\n",
       "73                                               Perc -1.163790e+00  1.154903e+03  1.156066e+03  1.303806e-01        0.000  9.380134e+00  122.354624  15060.050637"
      ]
     },
     "execution_count": 86,
     "metadata": {},
     "output_type": "execute_result"
    }
   ],
   "source": [
    "num_attributes = df1.select_dtypes( include=['int64', 'float64'] )\n",
    "\n",
    "# Central Tendency - mean, median\n",
    "ct1 = pd.DataFrame( num_attributes.apply( np.mean ) ).T\n",
    "ct2 = pd.DataFrame( num_attributes.apply( np.median ) ).T\n",
    "\n",
    "# Dispersion - std, min, max, range, skew, kurtosis\n",
    "d1 = pd.DataFrame( num_attributes.apply( np.std ) ).T\n",
    "d2 = pd.DataFrame( num_attributes.apply( min ) ).T\n",
    "d3 = pd.DataFrame( num_attributes.apply( max ) ).T\n",
    "d4 = pd.DataFrame( num_attributes.apply( lambda x: x.max() - x.min() ) ).T\n",
    "d5 = pd.DataFrame( num_attributes.apply( lambda x: x.skew() ) ).T\n",
    "d6 = pd.DataFrame( num_attributes.apply( lambda x: x.kurtosis() ) ).T\n",
    "\n",
    "# concat\n",
    "m = pd.concat( [d2, d3, d4, ct1, ct2, d1, d5, d6] ).T.reset_index()\n",
    "m.columns = ['attributes', 'min', 'max', 'range', 'mean', 'median', 'std', 'skew', 'kurtosis']\n",
    "m"
   ]
  },
  {
   "cell_type": "markdown",
   "metadata": {
    "hidden": true
   },
   "source": [
    "It seems that some lines have abnormal values, and this may affect the performance of our models. So, let's check which lines have these values, to eliminate them later."
   ]
  },
  {
   "cell_type": "code",
   "execution_count": 179,
   "metadata": {
    "hidden": true
   },
   "outputs": [
    {
     "data": {
      "text/plain": [
       "'MMAQ3'"
      ]
     },
     "execution_count": 179,
     "metadata": {},
     "output_type": "execute_result"
    }
   ],
   "source": [
    "list( df1.loc[df1['Adj Close'] == df1['Adj Close'].min(), 'Company'] )[0]"
   ]
  },
  {
   "cell_type": "code",
   "execution_count": 180,
   "metadata": {
    "hidden": true
   },
   "outputs": [
    {
     "data": {
      "text/plain": [
       "'MMAQ3'"
      ]
     },
     "execution_count": 180,
     "metadata": {},
     "output_type": "execute_result"
    }
   ],
   "source": [
    "list( df1.loc[df1['Adj Close'] == df1['Adj Close'].max(), 'Company'] )[0]"
   ]
  },
  {
   "cell_type": "markdown",
   "metadata": {
    "hidden": true
   },
   "source": [
    "**The Company *MMAQ3* has abnormal values, and will be excluded from the dataset in section 3.0.**"
   ]
  },
  {
   "cell_type": "markdown",
   "metadata": {
    "heading_collapsed": true
   },
   "source": [
    "# 2.0. Feature Engineering"
   ]
  },
  {
   "cell_type": "code",
   "execution_count": 87,
   "metadata": {
    "ExecuteTime": {
     "end_time": "2022-03-24T17:06:28.233601Z",
     "start_time": "2022-03-24T17:06:28.184011Z"
    },
    "hidden": true,
    "hide_input": true
   },
   "outputs": [],
   "source": [
    "df2 = df1.copy()"
   ]
  },
  {
   "cell_type": "code",
   "execution_count": 88,
   "metadata": {
    "ExecuteTime": {
     "end_time": "2022-03-24T17:06:34.305919Z",
     "start_time": "2022-03-24T17:06:34.181536Z"
    },
    "hidden": true
   },
   "outputs": [],
   "source": [
    "# Reading the dataset of the number of papers available\n",
    "df_qnt = pd.read_csv( 'Data/quantity.csv' )\n",
    "\n",
    "# merge\n",
    "df2 = pd.merge( df2, df_qnt, how='inner', on=['Company'] )\n",
    "\n",
    "# change data type\n",
    "df2['quantity'] = df2['quantity'].astype( 'int64' )"
   ]
  },
  {
   "cell_type": "code",
   "execution_count": 89,
   "metadata": {
    "ExecuteTime": {
     "end_time": "2022-03-24T17:06:49.076912Z",
     "start_time": "2022-03-24T17:06:40.184853Z"
    },
    "hidden": true
   },
   "outputs": [],
   "source": [
    "# Liquidez Corrente\n",
    "df2['Liquidez Corrente'] = df2[['Ativo Circulante', 'Passivo Circulante']].apply( lambda x: 0 if x['Passivo Circulante'] == 0 \n",
    "                                                                else x['Ativo Circulante'] / x['Passivo Circulante'], axis=1 )\n",
    "# LPA\n",
    "df2['LPA'] = df2['Lucro/Prejuízo do Período'] / df2['quantity'] \n",
    "\n",
    "# P/L\n",
    "df2['P/L'] = df2[['Adj Close', 'LPA']].apply( lambda x: 0 if x['LPA'] == 0 else x['Adj Close'] / x['LPA'], axis=1 )\n",
    "\n",
    "# VPA\n",
    "df2['VPA'] = df2['Patrimônio Líquido'] / df2['quantity']\n",
    "\n",
    "# P/VP \n",
    "df2['P/VP'] = df2[['Adj Close', 'VPA']].apply( lambda x: 0 if x['VPA'] == 0 else x['Adj Close'] / x['VPA'], axis=1 )\n",
    "\n",
    "# EBIT\n",
    "df2['EBIT'] = df2['Receita Líquida de Vendas e/ou Serviços'] - df2['Custo de Bens e/ou Serviços Vendidos'] - ( df2['Despesas Com Vendas'] + df2['Despesas Gerais e Administrativas'] )\n",
    "\n",
    "# EV/EBIT\n",
    "df2['EV/EBIT'] = df2[['Adj Close', 'quantity', 'Empréstimos e Financiamentos_1', 'Ativo Circulante', 'EBIT']].apply( lambda x: 0 \n",
    "                                                    if x['EBIT'] == 0 else ( ( x['Adj Close'] * x['quantity'] ) \n",
    "                                                                            + ( x['Empréstimos e Financiamentos_1'] \n",
    "                                                                            - x['Ativo Circulante'] ) ) \n",
    "                                                                            / x['EBIT'] , axis=1 )\n",
    "# NOPLAT\n",
    "df2['NOPLAT'] = df2['EBIT'] - df2['IR Diferido']\n",
    "\n",
    "# ROIC\n",
    "df2['ROIC'] = df2[['NOPLAT', 'Investimentos']].apply( lambda x: 0 if x['Investimentos'] == 0 else x['NOPLAT'] / x['Investimentos'], axis=1 )\n",
    "\n",
    "# ROE\n",
    "df2['ROE'] = df2[['Reservas de Lucros', 'Patrimônio Líquido']].apply( lambda x: 0 \n",
    "                                                if x['Patrimônio Líquido'] == 0 \n",
    "                                                else x['Reservas de Lucros'] / x['Patrimônio Líquido'], axis=1 )\n",
    "\n",
    "# Pay-Out\n",
    "df2['Pay-Out'] = df2[['Dividendos e JCP a Pagar', 'Lucro/Prejuízo do Período']].apply( lambda x: 0 \n",
    "                                   if x['Lucro/Prejuízo do Período'] == 0 \n",
    "                                   else ( x['Dividendos e JCP a Pagar'] / x['Lucro/Prejuízo do Período'] ) * 100, axis=1 )\n",
    "\n",
    "# Dividend Yield\n",
    "df2['Dividend Yield'] = ( ( df2['Dividendos e JCP a Pagar'] / df2['quantity'] ) / df2['Adj Close'] ) * 100\n",
    "\n",
    "# Marg. Ebit\n",
    "df2['MargEbit'] = df2[['EBIT', 'Receita Líquida de Vendas e/ou Serviços']].apply( lambda x: 0 \n",
    "                                                        if x['Receita Líquida de Vendas e/ou Serviços'] == 0 \n",
    "                                                        else x['EBIT'] / x['Receita Líquida de Vendas e/ou Serviços'], axis=1 )\n",
    "\n",
    "# Marg. Liquida\n",
    "df2['MargLiquida'] = df2[['Lucro/Prejuízo do Período', 'Receita Líquida de Vendas e/ou Serviços']].apply( lambda x: 0 \n",
    "                                  if x['Receita Líquida de Vendas e/ou Serviços'] == 0 \n",
    "                                  else x['Lucro/Prejuízo do Período'] / x['Receita Líquida de Vendas e/ou Serviços'], axis=1 )\n",
    "\n",
    "# P/Ebit\n",
    "df2['P/Ebit'] = df2[['Adj Close', 'EBIT']].apply( lambda x: 0 if x['EBIT'] == 0 else x['Adj Close'] / x['EBIT'], axis=1 )\n",
    "\n",
    "# PSR\n",
    "df2['P/Ebit'] = df2[['Adj Close', 'Receita Líquida de Vendas e/ou Serviços', 'quantity']].apply( lambda x: 0 \n",
    "                                if x['Receita Líquida de Vendas e/ou Serviços'] == 0 \n",
    "                                else x['Adj Close'] / ( x['Receita Líquida de Vendas e/ou Serviços'] / x['quantity'] ), axis=1 )\n",
    "\n",
    "# P/Ativos\n",
    "df2['P/Ebit'] = df2[['Adj Close', 'Ativo Total', 'quantity']].apply( lambda x: 0 if x['Ativo Total'] == 0 \n",
    "                                                            else x['Adj Close'] / ( x['Ativo Total'] / x['quantity'] ), axis=1 )"
   ]
  },
  {
   "cell_type": "markdown",
   "metadata": {
    "heading_collapsed": true
   },
   "source": [
    "# 3.0. Data Filtering"
   ]
  },
  {
   "cell_type": "code",
   "execution_count": 90,
   "metadata": {
    "ExecuteTime": {
     "end_time": "2022-03-24T17:06:58.258058Z",
     "start_time": "2022-03-24T17:06:58.175427Z"
    },
    "hidden": true
   },
   "outputs": [],
   "source": [
    "df3 = df2.copy()"
   ]
  },
  {
   "cell_type": "markdown",
   "metadata": {
    "hidden": true
   },
   "source": [
    "In this section, we'll filter out the rows and columns that are not needed or that could damage the model training. Therefore, we will separate this step into two:\n",
    "\n",
    "**1.** Filtering Rows\n",
    "\n",
    "**2.** Filtering Columns"
   ]
  },
  {
   "cell_type": "markdown",
   "metadata": {
    "heading_collapsed": true,
    "hidden": true
   },
   "source": [
    "## 3.1. Filtering Rows\n",
    "\n",
    "As previously stated, here we will filter the lines of company **MMAQ3**, which have abnormal values. Also, we will also remove the lines that have the negative quotes, after all, it makes no sense for a quote to have a price lower than 0, right"
   ]
  },
  {
   "cell_type": "code",
   "execution_count": 91,
   "metadata": {
    "ExecuteTime": {
     "end_time": "2022-03-24T17:07:07.272179Z",
     "start_time": "2022-03-24T17:07:07.173247Z"
    },
    "hidden": true
   },
   "outputs": [],
   "source": [
    "df3 = df3.loc[ ( df3['Company'] != 'MMAQ3' ) & ( df3['Adj Close'] > 0 ) ]"
   ]
  },
  {
   "cell_type": "markdown",
   "metadata": {
    "heading_collapsed": true,
    "hidden": true
   },
   "source": [
    "## 3.2. Filtering Columns\n",
    "\n",
    "Now, we are going to delete some columns that are no longer needed. These will be:\n",
    "\n",
    "**1.** Adj Close - The quotes column was used only to label the stocks. However, right now, it will not help us.\n",
    "\n",
    "**2.** quantity - the quantity of papers was useful to create other features, however, it will not be necessary to create the model."
   ]
  },
  {
   "cell_type": "code",
   "execution_count": 92,
   "metadata": {
    "ExecuteTime": {
     "end_time": "2022-03-24T17:08:00.230230Z",
     "start_time": "2022-03-24T17:08:00.194740Z"
    },
    "hidden": true
   },
   "outputs": [],
   "source": [
    "df3.drop( ['Adj Close', 'Perc', 'quantity'], axis=1, inplace=True )"
   ]
  },
  {
   "cell_type": "markdown",
   "metadata": {
    "heading_collapsed": true
   },
   "source": [
    "# 4.0.Exploratory Data Analysis"
   ]
  },
  {
   "cell_type": "code",
   "execution_count": 93,
   "metadata": {
    "ExecuteTime": {
     "end_time": "2022-03-24T17:08:20.243372Z",
     "start_time": "2022-03-24T17:08:20.203461Z"
    },
    "hidden": true
   },
   "outputs": [],
   "source": [
    "df4 = df3.copy()"
   ]
  },
  {
   "cell_type": "markdown",
   "metadata": {
    "hidden": true
   },
   "source": [
    "In this section, in order to become more familiar with our data, we will have to perform some simple Exploratory Data Analysis. We do this to better understand our data and make sure there are no lingering issues we may have missed when we transformed the data. So let’s begin coding it out with some visualizations."
   ]
  },
  {
   "cell_type": "markdown",
   "metadata": {
    "heading_collapsed": true,
    "hidden": true
   },
   "source": [
    "## 4.1. Response Variable\n",
    "\n",
    "First, we'll build a countplot to see the number of observations for each class.\n",
    "\n",
    "**As we can see, our data is a little imbalanced...**"
   ]
  },
  {
   "cell_type": "code",
   "execution_count": 94,
   "metadata": {
    "ExecuteTime": {
     "end_time": "2022-03-24T17:10:17.015645Z",
     "start_time": "2022-03-24T17:10:16.173579Z"
    },
    "hidden": true,
    "hide_input": true,
    "scrolled": true
   },
   "outputs": [
    {
     "name": "stdout",
     "output_type": "stream",
     "text": [
      "0    57.05%\n",
      "1    42.95%\n",
      "Name: Class, dtype: object\n"
     ]
    },
    {
     "data": {
      "image/png": "[encoded data removed]",
      "text/plain": [
       "<Figure size 432x288 with 1 Axes>"
      ]
     },
     "metadata": {},
     "output_type": "display_data"
    }
   ],
   "source": [
    "print( df4['Class'].value_counts( normalize=True ).map( \"{:.2%}\".format ) )\n",
    "sns.countplot( x=df4['Class'] );"
   ]
  },
  {
   "cell_type": "markdown",
   "metadata": {
    "heading_collapsed": true,
    "hidden": true
   },
   "source": [
    "## 4.2. Multivariate Analysis"
   ]
  },
  {
   "cell_type": "code",
   "execution_count": 99,
   "metadata": {
    "ExecuteTime": {
     "end_time": "2022-03-24T17:57:04.203010Z",
     "start_time": "2022-03-24T17:57:04.179069Z"
    },
    "hidden": true,
    "hide_input": true,
    "scrolled": true
   },
   "outputs": [],
   "source": [
    "df4_aux = df4.drop( 'Date', axis=1 )\n",
    "df4_aux = transform_to_percentage_changes( df4_aux )"
   ]
  },
  {
   "cell_type": "code",
   "execution_count": 97,
   "metadata": {
    "ExecuteTime": {
     "end_time": "2022-03-24T17:56:19.251748Z",
     "start_time": "2022-03-24T17:56:19.183173Z"
    },
    "hidden": true,
    "hide_input": true
   },
   "outputs": [],
   "source": [
    "# Delete Nan values\n",
    "df4_aux.dropna( inplace=True )"
   ]
  },
  {
   "cell_type": "code",
   "execution_count": 98,
   "metadata": {
    "ExecuteTime": {
     "end_time": "2022-03-24T17:56:35.832639Z",
     "start_time": "2022-03-24T17:56:30.182931Z"
    },
    "hidden": true,
    "hide_input": true
   },
   "outputs": [
    {
     "data": {
      "image/png": "[encoded data removed]",
      "text/plain": [
       "<Figure size 1440x864 with 2 Axes>"
      ]
     },
     "metadata": {},
     "output_type": "display_data"
    }
   ],
   "source": [
    "# correlations\n",
    "k = 20\n",
    "df_corr = df4_aux.corr()\n",
    "cols = df_corr.nlargest( k, 'Class' )['Class'].index\n",
    "cm = np.corrcoef( df4_aux[cols].values.T )\n",
    "\n",
    "fig, ax = plt.subplots( figsize=(20, 12) )\n",
    "sns.set( font_scale=1.25 )\n",
    "hm = sns.heatmap( cm, cbar=True, annot=True, fmt='.2f', annot_kws={'size': 10}, yticklabels=cols.values,  xticklabels=cols.values )\n",
    "plt.tight_layout()"
   ]
  },
  {
   "cell_type": "code",
   "execution_count": 100,
   "metadata": {
    "ExecuteTime": {
     "end_time": "2022-03-24T17:57:35.218146Z",
     "start_time": "2022-03-24T17:57:35.207171Z"
    },
    "hidden": true,
    "hide_input": true
   },
   "outputs": [],
   "source": [
    "df4_aux['Date'] = df4['Date']"
   ]
  },
  {
   "cell_type": "markdown",
   "metadata": {
    "heading_collapsed": true
   },
   "source": [
    "# 5.0. Data Preparation\n",
    "\n",
    "in this section we will prepare the data so that it can be submitted to classification models. First, we will transform all indicators into percentage changes, similar to what we did with quotes. However, let's look backwards and see what the percentage change of an indicator has been from the previous quarter to the current one. We will do this for every quarter. The idea is to verify whether the increase or decrease of an indicator from the previous quarter to the current one can influence the appreciation or devaluation of the share price for the next quarter. In our case, we will see if the stock will appreciate more than 3% by the next quarter.\n",
    "\n",
    "Later, we will scale the data to improve the overall performance of most of our models."
   ]
  },
  {
   "cell_type": "code",
   "execution_count": 101,
   "metadata": {
    "ExecuteTime": {
     "end_time": "2022-03-24T17:58:11.757556Z",
     "start_time": "2022-03-24T17:58:11.737611Z"
    },
    "hidden": true,
    "hide_input": false
   },
   "outputs": [],
   "source": [
    "df5 = df4_aux.copy()"
   ]
  },
  {
   "cell_type": "code",
   "execution_count": 102,
   "metadata": {
    "ExecuteTime": {
     "end_time": "2022-03-24T17:58:22.864324Z",
     "start_time": "2022-03-24T17:58:19.166301Z"
    },
    "hidden": true,
    "hide_input": false
   },
   "outputs": [],
   "source": [
    "# df5.to_csv( 'Data/df5.csv', index=False )"
   ]
  },
  {
   "cell_type": "code",
   "execution_count": 93,
   "metadata": {
    "ExecuteTime": {
     "end_time": "2022-03-25T19:42:55.303858Z",
     "start_time": "2022-03-25T19:42:54.615250Z"
    },
    "hidden": true,
    "hide_input": false
   },
   "outputs": [],
   "source": [
    "df5 = pd.read_csv( 'Data/df5.csv' )"
   ]
  },
  {
   "cell_type": "markdown",
   "metadata": {
    "heading_collapsed": true,
    "hidden": true
   },
   "source": [
    "## 5.1. Rescaling"
   ]
  },
  {
   "cell_type": "code",
   "execution_count": 94,
   "metadata": {
    "ExecuteTime": {
     "end_time": "2022-03-25T19:43:04.878552Z",
     "start_time": "2022-03-25T19:43:04.602262Z"
    },
    "hidden": true,
    "scrolled": true
   },
   "outputs": [],
   "source": [
    "df5 = rescaling( df5 )"
   ]
  },
  {
   "cell_type": "markdown",
   "metadata": {},
   "source": [
    "# 6.0. Feature Selection"
   ]
  },
  {
   "cell_type": "code",
   "execution_count": 95,
   "metadata": {
    "ExecuteTime": {
     "end_time": "2022-03-25T19:43:17.448037Z",
     "start_time": "2022-03-25T19:43:17.425024Z"
    }
   },
   "outputs": [],
   "source": [
    "df6 = df5.copy()"
   ]
  },
  {
   "cell_type": "markdown",
   "metadata": {
    "heading_collapsed": true
   },
   "source": [
    "## 6.1. Finding the best features"
   ]
  },
  {
   "cell_type": "markdown",
   "metadata": {
    "heading_collapsed": true,
    "hidden": true
   },
   "source": [
    "### 6.1.1. Based on Correlation Values"
   ]
  },
  {
   "cell_type": "code",
   "execution_count": 26,
   "metadata": {
    "ExecuteTime": {
     "end_time": "2022-03-25T15:29:42.317383Z",
     "start_time": "2022-03-25T15:29:41.414405Z"
    },
    "hidden": true,
    "hide_input": true,
    "scrolled": true
   },
   "outputs": [
    {
     "data": {
      "text/html": [
       "<div>\n",
       "<style scoped>\n",
       "    .dataframe tbody tr th:only-of-type {\n",
       "        vertical-align: middle;\n",
       "    }\n",
       "\n",
       "    .dataframe tbody tr th {\n",
       "        vertical-align: top;\n",
       "    }\n",
       "\n",
       "    .dataframe thead th {\n",
       "        text-align: right;\n",
       "    }\n",
       "</style>\n",
       "<table border=\"1\" class=\"dataframe\">\n",
       "  <thead>\n",
       "    <tr style=\"text-align: right;\">\n",
       "      <th></th>\n",
       "      <th>Lucros/Prejuízos Acumulados</th>\n",
       "      <th>Outros Resultados Abrangentes</th>\n",
       "      <th>Aplicações Financeiras Avaliadas a Valor Justo</th>\n",
       "      <th>Patrimônio Líquido</th>\n",
       "      <th>VPA</th>\n",
       "      <th>MargLiquida</th>\n",
       "      <th>Ajustes Acumulados de Conversão</th>\n",
       "      <th>Caixa e Equivalentes de Caixa</th>\n",
       "      <th>Financeiras</th>\n",
       "      <th>Despesas Financeiras</th>\n",
       "    </tr>\n",
       "  </thead>\n",
       "  <tbody>\n",
       "    <tr>\n",
       "      <th>0</th>\n",
       "      <td>0.024054</td>\n",
       "      <td>-0.049928</td>\n",
       "      <td>-0.028022</td>\n",
       "      <td>0.008542</td>\n",
       "      <td>0.008542</td>\n",
       "      <td>-0.012815</td>\n",
       "      <td>-0.007638</td>\n",
       "      <td>-0.044556</td>\n",
       "      <td>0.027627</td>\n",
       "      <td>0.013527</td>\n",
       "    </tr>\n",
       "    <tr>\n",
       "      <th>1</th>\n",
       "      <td>0.024123</td>\n",
       "      <td>0.008691</td>\n",
       "      <td>-0.031411</td>\n",
       "      <td>0.009305</td>\n",
       "      <td>0.009305</td>\n",
       "      <td>-0.011694</td>\n",
       "      <td>-0.007638</td>\n",
       "      <td>-0.036897</td>\n",
       "      <td>0.009819</td>\n",
       "      <td>0.018785</td>\n",
       "    </tr>\n",
       "    <tr>\n",
       "      <th>2</th>\n",
       "      <td>0.037703</td>\n",
       "      <td>-0.025742</td>\n",
       "      <td>-0.025951</td>\n",
       "      <td>0.008610</td>\n",
       "      <td>0.008610</td>\n",
       "      <td>-0.005147</td>\n",
       "      <td>-0.007638</td>\n",
       "      <td>-0.036439</td>\n",
       "      <td>0.024545</td>\n",
       "      <td>0.018785</td>\n",
       "    </tr>\n",
       "    <tr>\n",
       "      <th>3</th>\n",
       "      <td>-0.002662</td>\n",
       "      <td>0.048419</td>\n",
       "      <td>-0.050660</td>\n",
       "      <td>0.007960</td>\n",
       "      <td>0.007960</td>\n",
       "      <td>-0.019843</td>\n",
       "      <td>-0.007638</td>\n",
       "      <td>-0.026441</td>\n",
       "      <td>0.017618</td>\n",
       "      <td>0.018785</td>\n",
       "    </tr>\n",
       "    <tr>\n",
       "      <th>4</th>\n",
       "      <td>0.030297</td>\n",
       "      <td>-0.049928</td>\n",
       "      <td>-0.035056</td>\n",
       "      <td>0.008573</td>\n",
       "      <td>0.008573</td>\n",
       "      <td>-0.004621</td>\n",
       "      <td>-0.007638</td>\n",
       "      <td>-0.039465</td>\n",
       "      <td>0.027110</td>\n",
       "      <td>0.018785</td>\n",
       "    </tr>\n",
       "  </tbody>\n",
       "</table>\n",
       "</div>"
      ],
      "text/plain": [
       "   Lucros/Prejuízos Acumulados  Outros Resultados Abrangentes  Aplicações Financeiras Avaliadas a Valor Justo  Patrimônio Líquido       VPA  MargLiquida  Ajustes Acumulados de Conversão  Caixa e Equivalentes de Caixa  Financeiras  Despesas Financeiras\n",
       "0                     0.024054                      -0.049928                                       -0.028022            0.008542  0.008542    -0.012815                        -0.007638                      -0.044556     0.027627              0.013527\n",
       "1                     0.024123                       0.008691                                       -0.031411            0.009305  0.009305    -0.011694                        -0.007638                      -0.036897     0.009819              0.018785\n",
       "2                     0.037703                      -0.025742                                       -0.025951            0.008610  0.008610    -0.005147                        -0.007638                      -0.036439     0.024545              0.018785\n",
       "3                    -0.002662                       0.048419                                       -0.050660            0.007960  0.007960    -0.019843                        -0.007638                      -0.026441     0.017618              0.018785\n",
       "4                     0.030297                      -0.049928                                       -0.035056            0.008573  0.008573    -0.004621                        -0.007638                      -0.039465     0.027110              0.018785"
      ]
     },
     "execution_count": 26,
     "metadata": {},
     "output_type": "execute_result"
    }
   ],
   "source": [
    "# Correlation of all classes\n",
    "corr = df6.drop( 'Date', axis=1 ).corr().iloc[[-1], :-1]\n",
    "\n",
    "# Sorting our correlations by their absolute values and selecting the top 10\n",
    "top10_corr = corr.transpose().sort_values(by='Class', ascending=False)[:10]\n",
    "\n",
    "df6[top10_corr.index].head()"
   ]
  },
  {
   "cell_type": "markdown",
   "metadata": {
    "heading_collapsed": true,
    "hidden": true
   },
   "source": [
    "### 6.1.2. Based on a Tree Classifier"
   ]
  },
  {
   "cell_type": "code",
   "execution_count": 70,
   "metadata": {
    "ExecuteTime": {
     "end_time": "2022-03-25T18:47:01.930523Z",
     "start_time": "2022-03-25T18:46:44.428818Z"
    },
    "hidden": true,
    "hide_input": true
   },
   "outputs": [
    {
     "data": {
      "text/html": [
       "<div>\n",
       "<style scoped>\n",
       "    .dataframe tbody tr th:only-of-type {\n",
       "        vertical-align: middle;\n",
       "    }\n",
       "\n",
       "    .dataframe tbody tr th {\n",
       "        vertical-align: top;\n",
       "    }\n",
       "\n",
       "    .dataframe thead th {\n",
       "        text-align: right;\n",
       "    }\n",
       "</style>\n",
       "<table border=\"1\" class=\"dataframe\">\n",
       "  <thead>\n",
       "    <tr style=\"text-align: right;\">\n",
       "      <th></th>\n",
       "      <th>EV/EBIT</th>\n",
       "      <th>P/Ebit</th>\n",
       "      <th>P/VP</th>\n",
       "      <th>P/L</th>\n",
       "      <th>Dividend Yield</th>\n",
       "      <th>Passivo Total</th>\n",
       "      <th>Lucros/Prejuízos Acumulados</th>\n",
       "      <th>Ativo Total</th>\n",
       "      <th>VPA</th>\n",
       "      <th>Patrimônio Líquido</th>\n",
       "      <th>Class</th>\n",
       "    </tr>\n",
       "  </thead>\n",
       "  <tbody>\n",
       "    <tr>\n",
       "      <th>0</th>\n",
       "      <td>-0.014910</td>\n",
       "      <td>-0.027977</td>\n",
       "      <td>-0.005335</td>\n",
       "      <td>0.002984</td>\n",
       "      <td>-0.051485</td>\n",
       "      <td>-0.025270</td>\n",
       "      <td>0.024054</td>\n",
       "      <td>-0.025273</td>\n",
       "      <td>0.008542</td>\n",
       "      <td>0.008542</td>\n",
       "      <td>1</td>\n",
       "    </tr>\n",
       "    <tr>\n",
       "      <th>1</th>\n",
       "      <td>-0.014920</td>\n",
       "      <td>-0.026014</td>\n",
       "      <td>-0.004462</td>\n",
       "      <td>-0.004925</td>\n",
       "      <td>-0.051485</td>\n",
       "      <td>-0.025288</td>\n",
       "      <td>0.024123</td>\n",
       "      <td>-0.025291</td>\n",
       "      <td>0.009305</td>\n",
       "      <td>0.009305</td>\n",
       "      <td>0</td>\n",
       "    </tr>\n",
       "    <tr>\n",
       "      <th>2</th>\n",
       "      <td>-0.015659</td>\n",
       "      <td>-0.031062</td>\n",
       "      <td>-0.008047</td>\n",
       "      <td>-0.012499</td>\n",
       "      <td>-0.051485</td>\n",
       "      <td>-0.025491</td>\n",
       "      <td>0.037703</td>\n",
       "      <td>-0.025494</td>\n",
       "      <td>0.008610</td>\n",
       "      <td>0.008610</td>\n",
       "      <td>0</td>\n",
       "    </tr>\n",
       "    <tr>\n",
       "      <th>3</th>\n",
       "      <td>-0.015371</td>\n",
       "      <td>-0.033876</td>\n",
       "      <td>-0.010454</td>\n",
       "      <td>-0.018746</td>\n",
       "      <td>-0.051485</td>\n",
       "      <td>-0.026249</td>\n",
       "      <td>-0.002662</td>\n",
       "      <td>-0.026252</td>\n",
       "      <td>0.007960</td>\n",
       "      <td>0.007960</td>\n",
       "      <td>1</td>\n",
       "    </tr>\n",
       "    <tr>\n",
       "      <th>4</th>\n",
       "      <td>-0.014946</td>\n",
       "      <td>-0.026141</td>\n",
       "      <td>-0.004778</td>\n",
       "      <td>0.009390</td>\n",
       "      <td>-0.051485</td>\n",
       "      <td>-0.026092</td>\n",
       "      <td>0.030297</td>\n",
       "      <td>-0.026096</td>\n",
       "      <td>0.008573</td>\n",
       "      <td>0.008573</td>\n",
       "      <td>0</td>\n",
       "    </tr>\n",
       "  </tbody>\n",
       "</table>\n",
       "</div>"
      ],
      "text/plain": [
       "    EV/EBIT    P/Ebit      P/VP       P/L  Dividend Yield  Passivo Total  Lucros/Prejuízos Acumulados  Ativo Total       VPA  Patrimônio Líquido  Class\n",
       "0 -0.014910 -0.027977 -0.005335  0.002984       -0.051485      -0.025270                     0.024054    -0.025273  0.008542            0.008542      1\n",
       "1 -0.014920 -0.026014 -0.004462 -0.004925       -0.051485      -0.025288                     0.024123    -0.025291  0.009305            0.009305      0\n",
       "2 -0.015659 -0.031062 -0.008047 -0.012499       -0.051485      -0.025491                     0.037703    -0.025494  0.008610            0.008610      0\n",
       "3 -0.015371 -0.033876 -0.010454 -0.018746       -0.051485      -0.026249                    -0.002662    -0.026252  0.007960            0.007960      1\n",
       "4 -0.014946 -0.026141 -0.004778  0.009390       -0.051485      -0.026092                     0.030297    -0.026096  0.008573            0.008573      0"
      ]
     },
     "execution_count": 70,
     "metadata": {},
     "output_type": "execute_result"
    }
   ],
   "source": [
    "# let's train a decision tree and get the most important features of it\n",
    "model = ExtraTreesClassifier( random_state=1 )\n",
    "X = df6.drop( ['Class', 'Date'], axis=1 )\n",
    "y = df6['Class']\n",
    "model.fit( X, y )\n",
    "\n",
    "important_features = pd.DataFrame( model.feature_importances_, X.columns ).sort_values( by=0, ascending=False )\n",
    "top10 = list( important_features.index )[:10]\n",
    "\n",
    "top10.append( 'Class' )\n",
    "df6[top10].head()"
   ]
  },
  {
   "cell_type": "markdown",
   "metadata": {},
   "source": [
    "## 6.2. Split dataframe into training and test"
   ]
  },
  {
   "cell_type": "code",
   "execution_count": 96,
   "metadata": {
    "ExecuteTime": {
     "end_time": "2022-03-25T19:43:24.696924Z",
     "start_time": "2022-03-25T19:43:24.620808Z"
    }
   },
   "outputs": [],
   "source": [
    "df_test = df6[df6['Date'] == '2021-06-30'].drop( 'Date', axis=1 )\n",
    "df_train = df6[df6['Date'] != '2021-06-30'].drop( 'Date', axis=1 )\n",
    "\n",
    "df_test = df_test[top10]\n",
    "df_train = df_train[top10]\n",
    "\n",
    "# df_test = df_test[top10_corr.index].join( df_test.Class )\n",
    "# df_train = df_train[top10_corr.index].join( df_train.Class )\n",
    "\n",
    "X = df_train.drop( 'Class', axis=1 )\n",
    "y = df_train['Class']\n",
    "\n",
    "X_train, X_test, y_train, y_test = train_test_split( X, y, test_size=0.3, random_state=13 )"
   ]
  },
  {
   "cell_type": "markdown",
   "metadata": {},
   "source": [
    "# 7.0. Machine Learning Modeling\n",
    "\n",
    "Logistic Regression, Decision Tree, K-Nearest Neighbors, Naive Bayes and Multilayer Perceptron"
   ]
  },
  {
   "cell_type": "markdown",
   "metadata": {
    "heading_collapsed": true
   },
   "source": [
    "## 7.1. Baseline"
   ]
  },
  {
   "cell_type": "code",
   "execution_count": 98,
   "metadata": {
    "ExecuteTime": {
     "end_time": "2022-03-25T19:44:24.984433Z",
     "start_time": "2022-03-25T19:44:24.622472Z"
    },
    "hidden": true
   },
   "outputs": [
    {
     "name": "stdout",
     "output_type": "stream",
     "text": [
      "Model: Dummy\n",
      "              precision    recall  f1-score   support\n",
      "\n",
      "Not reliable       0.57      0.56      0.57      2420\n",
      "    Reliable       0.44      0.45      0.45      1874\n",
      "\n",
      "    accuracy                           0.51      4294\n",
      "   macro avg       0.51      0.51      0.51      4294\n",
      "weighted avg       0.51      0.51      0.51      4294\n",
      "\n"
     ]
    },
    {
     "data": {
      "image/png": "[encoded data removed]",
      "text/plain": [
       "<Figure size 432x288 with 2 Axes>"
      ]
     },
     "metadata": {},
     "output_type": "display_data"
    }
   ],
   "source": [
    "# Hold-out\n",
    "dummy = DummyClassifier( strategy='stratified', random_state=13 )\n",
    "dummy.fit( X_train, y_train )\n",
    "dummy_pred = dummy.predict( X_test )\n",
    "\n",
    "ml_metrics( y_test, dummy_pred, \"Dummy\" )"
   ]
  },
  {
   "cell_type": "code",
   "execution_count": 73,
   "metadata": {
    "ExecuteTime": {
     "end_time": "2022-03-25T18:47:54.870429Z",
     "start_time": "2022-03-25T18:47:54.622900Z"
    },
    "hidden": true
   },
   "outputs": [
    {
     "data": {
      "text/html": [
       "<div>\n",
       "<style scoped>\n",
       "    .dataframe tbody tr th:only-of-type {\n",
       "        vertical-align: middle;\n",
       "    }\n",
       "\n",
       "    .dataframe tbody tr th {\n",
       "        vertical-align: top;\n",
       "    }\n",
       "\n",
       "    .dataframe thead th {\n",
       "        text-align: right;\n",
       "    }\n",
       "</style>\n",
       "<table border=\"1\" class=\"dataframe\">\n",
       "  <thead>\n",
       "    <tr style=\"text-align: right;\">\n",
       "      <th></th>\n",
       "      <th>Model</th>\n",
       "      <th>Accuracy</th>\n",
       "      <th>Precision</th>\n",
       "      <th>Recall</th>\n",
       "      <th>F1</th>\n",
       "    </tr>\n",
       "  </thead>\n",
       "  <tbody>\n",
       "    <tr>\n",
       "      <th>0</th>\n",
       "      <td>Dummy</td>\n",
       "      <td>0.5+/-0.01</td>\n",
       "      <td>0.44+/-0.01</td>\n",
       "      <td>0.43+/-0.01</td>\n",
       "      <td>0.43+/-0.01</td>\n",
       "    </tr>\n",
       "  </tbody>\n",
       "</table>\n",
       "</div>"
      ],
      "text/plain": [
       "   Model    Accuracy    Precision       Recall           F1\n",
       "0  Dummy  0.5+/-0.01  0.44+/-0.01  0.43+/-0.01  0.43+/-0.01"
      ]
     },
     "execution_count": 73,
     "metadata": {},
     "output_type": "execute_result"
    }
   ],
   "source": [
    "# Cross Validation\n",
    "dummy = DummyClassifier( strategy='stratified', random_state=13 )\n",
    "\n",
    "dummy_cv = cross_validation( dummy, X_train, y_train, 'Dummy' )\n",
    "dummy_cv"
   ]
  },
  {
   "cell_type": "markdown",
   "metadata": {
    "heading_collapsed": true
   },
   "source": [
    "## 7.2. Logistic Regression"
   ]
  },
  {
   "cell_type": "code",
   "execution_count": 99,
   "metadata": {
    "ExecuteTime": {
     "end_time": "2022-03-25T19:44:33.107799Z",
     "start_time": "2022-03-25T19:44:32.429406Z"
    },
    "hidden": true
   },
   "outputs": [
    {
     "name": "stdout",
     "output_type": "stream",
     "text": [
      "Model: Logistic Regression\n",
      "              precision    recall  f1-score   support\n",
      "\n",
      "Not reliable       0.60      0.59      0.60      2420\n",
      "    Reliable       0.48      0.49      0.49      1874\n",
      "\n",
      "    accuracy                           0.55      4294\n",
      "   macro avg       0.54      0.54      0.54      4294\n",
      "weighted avg       0.55      0.55      0.55      4294\n",
      "\n"
     ]
    },
    {
     "data": {
      "image/png": "[encoded data removed]",
      "text/plain": [
       "<Figure size 432x288 with 2 Axes>"
      ]
     },
     "metadata": {},
     "output_type": "display_data"
    }
   ],
   "source": [
    "lr = LogisticRegression( random_state=13 )\n",
    "lr.fit( X_train, y_train )\n",
    "lr_pred = lr.predict( X_test )\n",
    "\n",
    "ml_metrics( y_test, lr_pred, 'Logistic Regression' )"
   ]
  },
  {
   "cell_type": "code",
   "execution_count": 45,
   "metadata": {
    "ExecuteTime": {
     "end_time": "2022-03-25T15:40:18.550431Z",
     "start_time": "2022-03-25T15:40:17.426444Z"
    },
    "hidden": true
   },
   "outputs": [
    {
     "data": {
      "text/html": [
       "<div>\n",
       "<style scoped>\n",
       "    .dataframe tbody tr th:only-of-type {\n",
       "        vertical-align: middle;\n",
       "    }\n",
       "\n",
       "    .dataframe tbody tr th {\n",
       "        vertical-align: top;\n",
       "    }\n",
       "\n",
       "    .dataframe thead th {\n",
       "        text-align: right;\n",
       "    }\n",
       "</style>\n",
       "<table border=\"1\" class=\"dataframe\">\n",
       "  <thead>\n",
       "    <tr style=\"text-align: right;\">\n",
       "      <th></th>\n",
       "      <th>Model</th>\n",
       "      <th>Accuracy</th>\n",
       "      <th>Precision</th>\n",
       "      <th>Recall</th>\n",
       "      <th>F1</th>\n",
       "    </tr>\n",
       "  </thead>\n",
       "  <tbody>\n",
       "    <tr>\n",
       "      <th>0</th>\n",
       "      <td>Logistic Regression</td>\n",
       "      <td>0.55+/-0.0</td>\n",
       "      <td>0.53+/-0.16</td>\n",
       "      <td>0.01+/-0.0</td>\n",
       "      <td>0.02+/-0.0</td>\n",
       "    </tr>\n",
       "  </tbody>\n",
       "</table>\n",
       "</div>"
      ],
      "text/plain": [
       "                 Model    Accuracy    Precision      Recall          F1\n",
       "0  Logistic Regression  0.55+/-0.0  0.53+/-0.16  0.01+/-0.0  0.02+/-0.0"
      ]
     },
     "execution_count": 45,
     "metadata": {},
     "output_type": "execute_result"
    }
   ],
   "source": [
    "# Cross Validation\n",
    "lr = LogisticRegression( random_state=13 )\n",
    "\n",
    "lr_cv = cross_validation( lr, X_train, y_train, 'Logistic Regression' )\n",
    "lr_cv"
   ]
  },
  {
   "cell_type": "markdown",
   "metadata": {
    "heading_collapsed": true
   },
   "source": [
    "## 7.3. Decision Tree"
   ]
  },
  {
   "cell_type": "code",
   "execution_count": 100,
   "metadata": {
    "ExecuteTime": {
     "end_time": "2022-03-25T19:44:48.079318Z",
     "start_time": "2022-03-25T19:44:47.430971Z"
    },
    "hidden": true
   },
   "outputs": [
    {
     "name": "stdout",
     "output_type": "stream",
     "text": [
      "Model: Decision Tree\n",
      "              precision    recall  f1-score   support\n",
      "\n",
      "Not reliable       0.61      0.60      0.61      2420\n",
      "    Reliable       0.50      0.51      0.51      1874\n",
      "\n",
      "    accuracy                           0.56      4294\n",
      "   macro avg       0.56      0.56      0.56      4294\n",
      "weighted avg       0.56      0.56      0.56      4294\n",
      "\n"
     ]
    },
    {
     "data": {
      "image/png": "[encoded data removed]",
      "text/plain": [
       "<Figure size 432x288 with 2 Axes>"
      ]
     },
     "metadata": {},
     "output_type": "display_data"
    }
   ],
   "source": [
    "dt = DecisionTreeClassifier( random_state=13 )\n",
    "dt.fit( X_train, y_train )\n",
    "dt_prev = dt.predict( X_test )\n",
    "ml_metrics( y_test, dt_prev, 'Decision Tree' )"
   ]
  },
  {
   "cell_type": "code",
   "execution_count": 47,
   "metadata": {
    "ExecuteTime": {
     "end_time": "2022-03-25T15:40:38.612105Z",
     "start_time": "2022-03-25T15:40:34.608052Z"
    },
    "hidden": true
   },
   "outputs": [
    {
     "data": {
      "text/html": [
       "<div>\n",
       "<style scoped>\n",
       "    .dataframe tbody tr th:only-of-type {\n",
       "        vertical-align: middle;\n",
       "    }\n",
       "\n",
       "    .dataframe tbody tr th {\n",
       "        vertical-align: top;\n",
       "    }\n",
       "\n",
       "    .dataframe thead th {\n",
       "        text-align: right;\n",
       "    }\n",
       "</style>\n",
       "<table border=\"1\" class=\"dataframe\">\n",
       "  <thead>\n",
       "    <tr style=\"text-align: right;\">\n",
       "      <th></th>\n",
       "      <th>Model</th>\n",
       "      <th>Accuracy</th>\n",
       "      <th>Precision</th>\n",
       "      <th>Recall</th>\n",
       "      <th>F1</th>\n",
       "    </tr>\n",
       "  </thead>\n",
       "  <tbody>\n",
       "    <tr>\n",
       "      <th>0</th>\n",
       "      <td>Decision Tree</td>\n",
       "      <td>0.58+/-0.01</td>\n",
       "      <td>0.53+/-0.01</td>\n",
       "      <td>0.51+/-0.02</td>\n",
       "      <td>0.52+/-0.02</td>\n",
       "    </tr>\n",
       "  </tbody>\n",
       "</table>\n",
       "</div>"
      ],
      "text/plain": [
       "           Model     Accuracy    Precision       Recall           F1\n",
       "0  Decision Tree  0.58+/-0.01  0.53+/-0.01  0.51+/-0.02  0.52+/-0.02"
      ]
     },
     "execution_count": 47,
     "metadata": {},
     "output_type": "execute_result"
    }
   ],
   "source": [
    "# Cross Validation\n",
    "dt = DecisionTreeClassifier( random_state=13 )\n",
    "dt_cv = cross_validation( dt, X_train, y_train, 'Decision Tree' )\n",
    "dt_cv"
   ]
  },
  {
   "cell_type": "markdown",
   "metadata": {
    "heading_collapsed": true
   },
   "source": [
    "## 7.4. K-Nearest Neighbors"
   ]
  },
  {
   "cell_type": "code",
   "execution_count": 101,
   "metadata": {
    "ExecuteTime": {
     "end_time": "2022-03-25T19:44:55.991999Z",
     "start_time": "2022-03-25T19:44:54.612219Z"
    },
    "hidden": true
   },
   "outputs": [
    {
     "name": "stdout",
     "output_type": "stream",
     "text": [
      "Model: K-Nearest Neighbors\n",
      "              precision    recall  f1-score   support\n",
      "\n",
      "Not reliable       0.61      0.64      0.63      2420\n",
      "    Reliable       0.51      0.48      0.49      1874\n",
      "\n",
      "    accuracy                           0.57      4294\n",
      "   macro avg       0.56      0.56      0.56      4294\n",
      "weighted avg       0.57      0.57      0.57      4294\n",
      "\n"
     ]
    },
    {
     "data": {
      "image/png": "[encoded data removed]",
      "text/plain": [
       "<Figure size 432x288 with 2 Axes>"
      ]
     },
     "metadata": {},
     "output_type": "display_data"
    }
   ],
   "source": [
    "knn = KNeighborsClassifier()\n",
    "knn.fit( X_train, y_train )\n",
    "knn_prev = knn.predict( X_test )\n",
    "ml_metrics( y_test, knn_prev, \"K-Nearest Neighbors\" )"
   ]
  },
  {
   "cell_type": "code",
   "execution_count": 49,
   "metadata": {
    "ExecuteTime": {
     "end_time": "2022-03-25T15:41:13.934244Z",
     "start_time": "2022-03-25T15:41:02.418529Z"
    },
    "hidden": true
   },
   "outputs": [
    {
     "data": {
      "text/html": [
       "<div>\n",
       "<style scoped>\n",
       "    .dataframe tbody tr th:only-of-type {\n",
       "        vertical-align: middle;\n",
       "    }\n",
       "\n",
       "    .dataframe tbody tr th {\n",
       "        vertical-align: top;\n",
       "    }\n",
       "\n",
       "    .dataframe thead th {\n",
       "        text-align: right;\n",
       "    }\n",
       "</style>\n",
       "<table border=\"1\" class=\"dataframe\">\n",
       "  <thead>\n",
       "    <tr style=\"text-align: right;\">\n",
       "      <th></th>\n",
       "      <th>Model</th>\n",
       "      <th>Accuracy</th>\n",
       "      <th>Precision</th>\n",
       "      <th>Recall</th>\n",
       "      <th>F1</th>\n",
       "    </tr>\n",
       "  </thead>\n",
       "  <tbody>\n",
       "    <tr>\n",
       "      <th>0</th>\n",
       "      <td>K-Nearest Neighbors</td>\n",
       "      <td>0.56+/-0.01</td>\n",
       "      <td>0.51+/-0.01</td>\n",
       "      <td>0.46+/-0.01</td>\n",
       "      <td>0.48+/-0.01</td>\n",
       "    </tr>\n",
       "  </tbody>\n",
       "</table>\n",
       "</div>"
      ],
      "text/plain": [
       "                 Model     Accuracy    Precision       Recall           F1\n",
       "0  K-Nearest Neighbors  0.56+/-0.01  0.51+/-0.01  0.46+/-0.01  0.48+/-0.01"
      ]
     },
     "execution_count": 49,
     "metadata": {},
     "output_type": "execute_result"
    }
   ],
   "source": [
    "# Cross Validation\n",
    "knn = KNeighborsClassifier()\n",
    "knn_cv = cross_validation( knn, X_train, y_train, \"K-Nearest Neighbors\" )\n",
    "knn_cv"
   ]
  },
  {
   "cell_type": "markdown",
   "metadata": {
    "heading_collapsed": true
   },
   "source": [
    "## 7.5. Naive Bayes"
   ]
  },
  {
   "cell_type": "code",
   "execution_count": 102,
   "metadata": {
    "ExecuteTime": {
     "end_time": "2022-03-25T19:45:02.814636Z",
     "start_time": "2022-03-25T19:45:02.426479Z"
    },
    "hidden": true
   },
   "outputs": [
    {
     "name": "stdout",
     "output_type": "stream",
     "text": [
      "Model: Naive Bayes\n",
      "              precision    recall  f1-score   support\n",
      "\n",
      "Not reliable       0.50      0.01      0.02      2420\n",
      "    Reliable       0.44      0.99      0.60      1874\n",
      "\n",
      "    accuracy                           0.44      4294\n",
      "   macro avg       0.47      0.50      0.31      4294\n",
      "weighted avg       0.47      0.44      0.27      4294\n",
      "\n"
     ]
    },
    {
     "data": {
      "image/png": "[encoded data removed]",
      "text/plain": [
       "<Figure size 432x288 with 2 Axes>"
      ]
     },
     "metadata": {},
     "output_type": "display_data"
    }
   ],
   "source": [
    "nb = GaussianNB()\n",
    "nb.fit( X_train, y_train )\n",
    "nb_pred = nb.predict( X_test )\n",
    "ml_metrics( y_test, nb_pred, \"Naive Bayes\" )"
   ]
  },
  {
   "cell_type": "code",
   "execution_count": 50,
   "metadata": {
    "ExecuteTime": {
     "end_time": "2022-03-25T15:41:23.790451Z",
     "start_time": "2022-03-25T15:41:23.464234Z"
    },
    "hidden": true
   },
   "outputs": [
    {
     "data": {
      "text/html": [
       "<div>\n",
       "<style scoped>\n",
       "    .dataframe tbody tr th:only-of-type {\n",
       "        vertical-align: middle;\n",
       "    }\n",
       "\n",
       "    .dataframe tbody tr th {\n",
       "        vertical-align: top;\n",
       "    }\n",
       "\n",
       "    .dataframe thead th {\n",
       "        text-align: right;\n",
       "    }\n",
       "</style>\n",
       "<table border=\"1\" class=\"dataframe\">\n",
       "  <thead>\n",
       "    <tr style=\"text-align: right;\">\n",
       "      <th></th>\n",
       "      <th>Model</th>\n",
       "      <th>Accuracy</th>\n",
       "      <th>Precision</th>\n",
       "      <th>Recall</th>\n",
       "      <th>F1</th>\n",
       "    </tr>\n",
       "  </thead>\n",
       "  <tbody>\n",
       "    <tr>\n",
       "      <th>0</th>\n",
       "      <td>Naive Bayes</td>\n",
       "      <td>0.45+/-0.0</td>\n",
       "      <td>0.45+/-0.0</td>\n",
       "      <td>0.98+/-0.01</td>\n",
       "      <td>0.61+/-0.0</td>\n",
       "    </tr>\n",
       "  </tbody>\n",
       "</table>\n",
       "</div>"
      ],
      "text/plain": [
       "         Model    Accuracy   Precision       Recall          F1\n",
       "0  Naive Bayes  0.45+/-0.0  0.45+/-0.0  0.98+/-0.01  0.61+/-0.0"
      ]
     },
     "execution_count": 50,
     "metadata": {},
     "output_type": "execute_result"
    }
   ],
   "source": [
    "# Cross Validation\n",
    "nb = GaussianNB()\n",
    "nb_cv = cross_validation( nb, X_train, y_train, \"Naive Bayes\" )\n",
    "nb_cv"
   ]
  },
  {
   "cell_type": "markdown",
   "metadata": {
    "heading_collapsed": true
   },
   "source": [
    "## 7.6. Multilayer Perceptron"
   ]
  },
  {
   "cell_type": "code",
   "execution_count": 103,
   "metadata": {
    "ExecuteTime": {
     "end_time": "2022-03-25T19:45:11.365860Z",
     "start_time": "2022-03-25T19:45:09.616166Z"
    },
    "hidden": true
   },
   "outputs": [
    {
     "name": "stdout",
     "output_type": "stream",
     "text": [
      "Model: Multilayer Perceptron\n",
      "              precision    recall  f1-score   support\n",
      "\n",
      "Not reliable       0.60      0.69      0.64      2420\n",
      "    Reliable       0.50      0.40      0.44      1874\n",
      "\n",
      "    accuracy                           0.56      4294\n",
      "   macro avg       0.55      0.54      0.54      4294\n",
      "weighted avg       0.55      0.56      0.55      4294\n",
      "\n"
     ]
    },
    {
     "data": {
      "image/png": "[encoded data removed]",
      "text/plain": [
       "<Figure size 432x288 with 2 Axes>"
      ]
     },
     "metadata": {},
     "output_type": "display_data"
    }
   ],
   "source": [
    "mlp = MLPClassifier( random_state=13 )\n",
    "mlp.fit( X_train, y_train )\n",
    "mlp_pred = mlp.predict( X_test )\n",
    "ml_metrics( y_test, mlp_pred, \"Multilayer Perceptron\" )"
   ]
  },
  {
   "cell_type": "code",
   "execution_count": 51,
   "metadata": {
    "ExecuteTime": {
     "end_time": "2022-03-25T15:43:27.742706Z",
     "start_time": "2022-03-25T15:41:34.616859Z"
    },
    "hidden": true
   },
   "outputs": [
    {
     "data": {
      "text/html": [
       "<div>\n",
       "<style scoped>\n",
       "    .dataframe tbody tr th:only-of-type {\n",
       "        vertical-align: middle;\n",
       "    }\n",
       "\n",
       "    .dataframe tbody tr th {\n",
       "        vertical-align: top;\n",
       "    }\n",
       "\n",
       "    .dataframe thead th {\n",
       "        text-align: right;\n",
       "    }\n",
       "</style>\n",
       "<table border=\"1\" class=\"dataframe\">\n",
       "  <thead>\n",
       "    <tr style=\"text-align: right;\">\n",
       "      <th></th>\n",
       "      <th>Model</th>\n",
       "      <th>Accuracy</th>\n",
       "      <th>Precision</th>\n",
       "      <th>Recall</th>\n",
       "      <th>F1</th>\n",
       "    </tr>\n",
       "  </thead>\n",
       "  <tbody>\n",
       "    <tr>\n",
       "      <th>0</th>\n",
       "      <td>Multilayer Perceptron</td>\n",
       "      <td>0.56+/-0.0</td>\n",
       "      <td>0.53+/-0.04</td>\n",
       "      <td>0.05+/-0.01</td>\n",
       "      <td>0.08+/-0.02</td>\n",
       "    </tr>\n",
       "  </tbody>\n",
       "</table>\n",
       "</div>"
      ],
      "text/plain": [
       "                   Model    Accuracy    Precision       Recall           F1\n",
       "0  Multilayer Perceptron  0.56+/-0.0  0.53+/-0.04  0.05+/-0.01  0.08+/-0.02"
      ]
     },
     "execution_count": 51,
     "metadata": {},
     "output_type": "execute_result"
    }
   ],
   "source": [
    "# Cross Validation\n",
    "mlp = MLPClassifier( random_state=13 )\n",
    "mlp_cv = cross_validation( mlp, X_train, y_train, 'Multilayer Perceptron' )\n",
    "mlp_cv"
   ]
  },
  {
   "cell_type": "markdown",
   "metadata": {
    "heading_collapsed": true
   },
   "source": [
    "## 7.7. Random Forest"
   ]
  },
  {
   "cell_type": "code",
   "execution_count": 104,
   "metadata": {
    "ExecuteTime": {
     "end_time": "2022-03-25T19:45:30.429384Z",
     "start_time": "2022-03-25T19:45:23.425983Z"
    },
    "hidden": true
   },
   "outputs": [
    {
     "name": "stdout",
     "output_type": "stream",
     "text": [
      "Model: Random Forest\n",
      "              precision    recall  f1-score   support\n",
      "\n",
      "Not reliable       0.65      0.71      0.68      2420\n",
      "    Reliable       0.58      0.51      0.54      1874\n",
      "\n",
      "    accuracy                           0.62      4294\n",
      "   macro avg       0.61      0.61      0.61      4294\n",
      "weighted avg       0.62      0.62      0.62      4294\n",
      "\n"
     ]
    },
    {
     "data": {
      "image/png": "[encoded data removed]",
      "text/plain": [
       "<Figure size 432x288 with 2 Axes>"
      ]
     },
     "metadata": {},
     "output_type": "display_data"
    }
   ],
   "source": [
    "rf = RandomForestClassifier( random_state=13 )\n",
    "rf.fit( X_train, y_train )\n",
    "rf_pred = rf.predict( X_test )\n",
    "ml_metrics( y_test, rf_pred, 'Random Forest')"
   ]
  },
  {
   "cell_type": "code",
   "execution_count": 43,
   "metadata": {
    "ExecuteTime": {
     "end_time": "2022-03-25T15:39:05.698458Z",
     "start_time": "2022-03-25T15:37:34.615008Z"
    },
    "hidden": true
   },
   "outputs": [
    {
     "data": {
      "text/html": [
       "<div>\n",
       "<style scoped>\n",
       "    .dataframe tbody tr th:only-of-type {\n",
       "        vertical-align: middle;\n",
       "    }\n",
       "\n",
       "    .dataframe tbody tr th {\n",
       "        vertical-align: top;\n",
       "    }\n",
       "\n",
       "    .dataframe thead th {\n",
       "        text-align: right;\n",
       "    }\n",
       "</style>\n",
       "<table border=\"1\" class=\"dataframe\">\n",
       "  <thead>\n",
       "    <tr style=\"text-align: right;\">\n",
       "      <th></th>\n",
       "      <th>Model</th>\n",
       "      <th>Accuracy</th>\n",
       "      <th>Precision</th>\n",
       "      <th>Recall</th>\n",
       "      <th>F1</th>\n",
       "    </tr>\n",
       "  </thead>\n",
       "  <tbody>\n",
       "    <tr>\n",
       "      <th>0</th>\n",
       "      <td>Random Forest</td>\n",
       "      <td>0.61+/-0.01</td>\n",
       "      <td>0.57+/-0.01</td>\n",
       "      <td>0.49+/-0.01</td>\n",
       "      <td>0.53+/-0.01</td>\n",
       "    </tr>\n",
       "  </tbody>\n",
       "</table>\n",
       "</div>"
      ],
      "text/plain": [
       "           Model     Accuracy    Precision       Recall           F1\n",
       "0  Random Forest  0.61+/-0.01  0.57+/-0.01  0.49+/-0.01  0.53+/-0.01"
      ]
     },
     "execution_count": 43,
     "metadata": {},
     "output_type": "execute_result"
    }
   ],
   "source": [
    "# Cross Validation\n",
    "rf = RandomForestClassifier( random_state=13 )\n",
    "rf_cv = cross_validation( rf, X_train, y_train, 'Random Forest' )\n",
    "rf_cv"
   ]
  },
  {
   "cell_type": "markdown",
   "metadata": {
    "heading_collapsed": true
   },
   "source": [
    "## 7.8. Compare Model Performance"
   ]
  },
  {
   "cell_type": "code",
   "execution_count": 52,
   "metadata": {
    "ExecuteTime": {
     "end_time": "2022-03-25T15:43:49.693416Z",
     "start_time": "2022-03-25T15:43:49.619131Z"
    },
    "hidden": true
   },
   "outputs": [
    {
     "data": {
      "text/html": [
       "<div>\n",
       "<style scoped>\n",
       "    .dataframe tbody tr th:only-of-type {\n",
       "        vertical-align: middle;\n",
       "    }\n",
       "\n",
       "    .dataframe tbody tr th {\n",
       "        vertical-align: top;\n",
       "    }\n",
       "\n",
       "    .dataframe thead th {\n",
       "        text-align: right;\n",
       "    }\n",
       "</style>\n",
       "<table border=\"1\" class=\"dataframe\">\n",
       "  <thead>\n",
       "    <tr style=\"text-align: right;\">\n",
       "      <th></th>\n",
       "      <th>Model</th>\n",
       "      <th>Accuracy</th>\n",
       "      <th>Precision</th>\n",
       "      <th>Recall</th>\n",
       "      <th>F1</th>\n",
       "    </tr>\n",
       "  </thead>\n",
       "  <tbody>\n",
       "    <tr>\n",
       "      <th>0</th>\n",
       "      <td>Random Forest</td>\n",
       "      <td>0.61+/-0.01</td>\n",
       "      <td>0.57+/-0.01</td>\n",
       "      <td>0.49+/-0.01</td>\n",
       "      <td>0.53+/-0.01</td>\n",
       "    </tr>\n",
       "    <tr>\n",
       "      <th>1</th>\n",
       "      <td>Logistic Regression</td>\n",
       "      <td>0.55+/-0.0</td>\n",
       "      <td>0.53+/-0.16</td>\n",
       "      <td>0.01+/-0.0</td>\n",
       "      <td>0.02+/-0.0</td>\n",
       "    </tr>\n",
       "    <tr>\n",
       "      <th>2</th>\n",
       "      <td>Multilayer Perceptron</td>\n",
       "      <td>0.56+/-0.0</td>\n",
       "      <td>0.53+/-0.04</td>\n",
       "      <td>0.05+/-0.01</td>\n",
       "      <td>0.08+/-0.02</td>\n",
       "    </tr>\n",
       "    <tr>\n",
       "      <th>3</th>\n",
       "      <td>Decision Tree</td>\n",
       "      <td>0.58+/-0.01</td>\n",
       "      <td>0.53+/-0.01</td>\n",
       "      <td>0.51+/-0.02</td>\n",
       "      <td>0.52+/-0.02</td>\n",
       "    </tr>\n",
       "    <tr>\n",
       "      <th>4</th>\n",
       "      <td>K-Nearest Neighbors</td>\n",
       "      <td>0.56+/-0.01</td>\n",
       "      <td>0.51+/-0.01</td>\n",
       "      <td>0.46+/-0.01</td>\n",
       "      <td>0.48+/-0.01</td>\n",
       "    </tr>\n",
       "    <tr>\n",
       "      <th>5</th>\n",
       "      <td>Naive Bayes</td>\n",
       "      <td>0.45+/-0.0</td>\n",
       "      <td>0.45+/-0.0</td>\n",
       "      <td>0.98+/-0.01</td>\n",
       "      <td>0.61+/-0.0</td>\n",
       "    </tr>\n",
       "    <tr>\n",
       "      <th>6</th>\n",
       "      <td>Dummy</td>\n",
       "      <td>0.5+/-0.01</td>\n",
       "      <td>0.44+/-0.01</td>\n",
       "      <td>0.43+/-0.01</td>\n",
       "      <td>0.43+/-0.01</td>\n",
       "    </tr>\n",
       "  </tbody>\n",
       "</table>\n",
       "</div>"
      ],
      "text/plain": [
       "                   Model     Accuracy    Precision       Recall           F1\n",
       "0          Random Forest  0.61+/-0.01  0.57+/-0.01  0.49+/-0.01  0.53+/-0.01\n",
       "1    Logistic Regression   0.55+/-0.0  0.53+/-0.16   0.01+/-0.0   0.02+/-0.0\n",
       "2  Multilayer Perceptron   0.56+/-0.0  0.53+/-0.04  0.05+/-0.01  0.08+/-0.02\n",
       "3          Decision Tree  0.58+/-0.01  0.53+/-0.01  0.51+/-0.02  0.52+/-0.02\n",
       "4    K-Nearest Neighbors  0.56+/-0.01  0.51+/-0.01  0.46+/-0.01  0.48+/-0.01\n",
       "5            Naive Bayes   0.45+/-0.0   0.45+/-0.0  0.98+/-0.01   0.61+/-0.0\n",
       "6                  Dummy   0.5+/-0.01  0.44+/-0.01  0.43+/-0.01  0.43+/-0.01"
      ]
     },
     "execution_count": 52,
     "metadata": {},
     "output_type": "execute_result"
    }
   ],
   "source": [
    "modeling_result = pd.concat( [dummy_cv, lr_cv, dt_cv, knn_cv, nb_cv, mlp_cv, rf_cv] )\n",
    "modeling_result.sort_values( ['Precision', 'Recall'], ascending=False ).reset_index( drop=True )"
   ]
  },
  {
   "cell_type": "markdown",
   "metadata": {},
   "source": [
    "# 8.0. Hyperparameter Fine Tuning"
   ]
  },
  {
   "cell_type": "code",
   "execution_count": 105,
   "metadata": {
    "ExecuteTime": {
     "end_time": "2022-03-25T21:01:10.923815Z",
     "start_time": "2022-03-25T19:45:44.430961Z"
    }
   },
   "outputs": [
    {
     "name": "stdout",
     "output_type": "stream",
     "text": [
      "Done!\n"
     ]
    }
   ],
   "source": [
    "params = {'n_estimators': [200, 400, 600, 800, 1000, 1200, 1400, 1600, 1800, 2000],\n",
    "          'max_features': ['auto', 'sqrt'],\n",
    "          'max_depth': [10, 20, 30, 40, 50, 60, 70, 80, 90, 100, None],\n",
    "          'min_samples_split': [2, 5, 10],\n",
    "          'min_samples_leaf': [1, 2, 4],\n",
    "          'bootstrap': [True, False] }\n",
    "\n",
    "\n",
    "precision2_score = make_scorer( precision_score, labels=[1], average='macro' )\n",
    "\n",
    "search = RandomizedSearchCV(\n",
    "        estimator = RandomForestClassifier( random_state=13 ),\n",
    "        param_distributions=params,\n",
    "        n_iter=10,\n",
    "        scoring=precision2_score,\n",
    "        n_jobs=-1,\n",
    "        random_state=13\n",
    ")\n",
    "\n",
    "result = search.fit( X_train, y_train )\n",
    "print( 'Done!' )"
   ]
  },
  {
   "cell_type": "code",
   "execution_count": 106,
   "metadata": {
    "ExecuteTime": {
     "end_time": "2022-03-25T21:16:00.419963Z",
     "start_time": "2022-03-25T21:15:59.428617Z"
    }
   },
   "outputs": [
    {
     "name": "stdout",
     "output_type": "stream",
     "text": [
      "Model: Random Forest\n",
      "              precision    recall  f1-score   support\n",
      "\n",
      "Not reliable       0.66      0.72      0.68      2420\n",
      "    Reliable       0.58      0.52      0.55      1874\n",
      "\n",
      "    accuracy                           0.63      4294\n",
      "   macro avg       0.62      0.62      0.62      4294\n",
      "weighted avg       0.62      0.63      0.62      4294\n",
      "\n"
     ]
    },
    {
     "data": {
      "image/png": "[encoded data removed]",
      "text/plain": [
       "<Figure size 432x288 with 2 Axes>"
      ]
     },
     "metadata": {},
     "output_type": "display_data"
    }
   ],
   "source": [
    "tuned_model = result.best_estimator_\n",
    "predictions = tuned_model.predict( X_test )\n",
    "ml_metrics( y_test, predictions, \"Random Forest\" )"
   ]
  },
  {
   "cell_type": "markdown",
   "metadata": {},
   "source": [
    "# 9.0. Machine Learning Performance"
   ]
  },
  {
   "cell_type": "code",
   "execution_count": 107,
   "metadata": {
    "ExecuteTime": {
     "end_time": "2022-03-25T21:16:07.929395Z",
     "start_time": "2022-03-25T21:16:07.920416Z"
    },
    "scrolled": true
   },
   "outputs": [],
   "source": [
    "# Separating the features from the target variable\n",
    "X = df_test.drop( 'Class', axis=1 )\n",
    "y = df_test['Class']"
   ]
  },
  {
   "cell_type": "code",
   "execution_count": 108,
   "metadata": {
    "ExecuteTime": {
     "end_time": "2022-03-25T21:16:09.937193Z",
     "start_time": "2022-03-25T21:16:09.607341Z"
    }
   },
   "outputs": [
    {
     "name": "stdout",
     "output_type": "stream",
     "text": [
      "Model: Random Forest\n",
      "              precision    recall  f1-score   support\n",
      "\n",
      "Not reliable       0.90      0.54      0.67       311\n",
      "    Reliable       0.21      0.67      0.32        57\n",
      "\n",
      "    accuracy                           0.56       368\n",
      "   macro avg       0.55      0.60      0.50       368\n",
      "weighted avg       0.79      0.56      0.62       368\n",
      "\n"
     ]
    },
    {
     "data": {
      "image/png": "[encoded data removed]",
      "text/plain": [
       "<Figure size 432x288 with 2 Axes>"
      ]
     },
     "metadata": {},
     "output_type": "display_data"
    }
   ],
   "source": [
    "# Getting the predictions\n",
    "test_prev = tuned_model.predict( X )\n",
    "\n",
    "# Performance\n",
    "ml_metrics( y, test_prev, \"Random Forest\" )"
   ]
  },
  {
   "cell_type": "markdown",
   "metadata": {
    "heading_collapsed": true
   },
   "source": [
    "# 10.0. Deploy Model to Production"
   ]
  },
  {
   "cell_type": "markdown",
   "metadata": {
    "heading_collapsed": true
   },
   "source": [
    "# 11.0. Conclusions"
   ]
  },
  {
   "cell_type": "code",
   "execution_count": null,
   "metadata": {
    "hidden": true
   },
   "outputs": [],
   "source": []
  }
 ],
 "metadata": {
  "kernelspec": {
   "display_name": "Python 3",
   "language": "python",
   "name": "python3"
  },
  "language_info": {
   "codemirror_mode": {
    "name": "ipython",
    "version": 3
   },
   "file_extension": ".py",
   "mimetype": "text/x-python",
   "name": "python",
   "nbconvert_exporter": "python",
   "pygments_lexer": "ipython3",
   "version": "3.8.3"
  },
  "varInspector": {
   "cols": {
    "lenName": 16,
    "lenType": 16,
    "lenVar": 40
   },
   "kernels_config": {
    "python": {
     "delete_cmd_postfix": "",
     "delete_cmd_prefix": "del ",
     "library": "var_list.py",
     "varRefreshCmd": "print(var_dic_list())"
    },
    "r": {
     "delete_cmd_postfix": ") ",
     "delete_cmd_prefix": "rm(",
     "library": "var_list.r",
     "varRefreshCmd": "cat(var_dic_list()) "
    }
   },
   "types_to_exclude": [
    "module",
    "function",
    "builtin_function_or_method",
    "instance",
    "_Feature"
   ],
   "window_display": false
  }
 },
 "nbformat": 4,
 "nbformat_minor": 4
}
