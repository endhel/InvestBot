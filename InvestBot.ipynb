{
 "cells": [
  {
   "cell_type": "markdown",
   "metadata": {
    "heading_collapsed": true
   },
   "source": [
    "# InvestBot: a bot for stock classification using fundamentalist analysis"
   ]
  },
  {
   "cell_type": "markdown",
   "metadata": {
    "ExecuteTime": {
     "end_time": "2022-03-31T15:36:22.741664Z",
     "start_time": "2022-03-31T15:36:22.725513Z"
    },
    "hidden": true
   },
   "source": [
    "InvestBot is a decision support tool for investors. It consists of classifying stocks on the stock exchange as a reliable investment or not to buy at that particular time, based on the following criteria:\n",
    "\n",
    "- if the stock price will yield 3% or more until the next quarter\n",
    "\n",
    "That is, a stock will be classified as reliable if it yields 3% or more. If the stock depreciates, or yield less than 3%, it will be classified as unreliable. \n",
    "\n",
    "**An important question is: how will we predict if a stock will appreciate until the next quarter?**\n",
    "\n",
    "Basically, we will use a very famous approach in the investment world: fundamental analysis. This technique aims to determine the intrinsic value of a company, and its growth potential. For this, it uses some data that are called fundamental indicators, and these can be found from the balance sheet and income statement of companies.\n",
    "\n",
    "With the data from the indicators collected, and the classes of stocks already defined, following the criteria explained above, some classification models will be trained, in order that they can predict whether a stock will appreciate more than 3% until the next quarter.\n",
    "\n",
    "However, a doubt may arise: **fundamental analysis is used for medium and long-term investments, so is it possible to analyze the data of fundamental indicators to determine if a stock will appreciate until the next quarter? Well, that's what we'll find out at the end of this work.** As the fundamental analysis makes it possible to discover the real value of a stock, it may be possible from it to determine whether a stock will appreciate in value until the next quarter.\n",
    "\n",
    "**The main objective here is to build a tool that supports investors' decision making for short-term investments, helping him to determine whether an action is reliable to buy at any given time.**\n",
    "\n",
    "In the next sections, each of the steps necessary for us to reach the desired result will be developed.\n",
    "\n",
    "## Solution Proposal\n",
    "\n",
    "To solve the problem, we will follow these steps:\n",
    "\n",
    "- **0.0.** Data Collection.\n",
    "- **1.0.** Data Description.\n",
    "- **2.0.** Feature Engineering\n",
    "- **3.0.** Data Filtering\n",
    "- **4.0.** Exploratory Data Analysis\n",
    "- **5.0.** Data Preparation\n",
    "- **6.0.** Feature Selection\n",
    "- **7.0.** Machine Learning Modelling\n",
    "- **8.0.** Hyperparameter Fine Tuning\n",
    "- **9.0.** Machine Learning Performance\n",
    "- **10.0.** Deploy Model to Production"
   ]
  },
  {
   "cell_type": "code",
   "execution_count": 7,
   "metadata": {
    "ExecuteTime": {
     "end_time": "2022-03-31T15:42:44.631647Z",
     "start_time": "2022-03-31T15:42:44.606709Z"
    },
    "hidden": true,
    "hide_input": false
   },
   "outputs": [
    {
     "data": {
      "image/jpeg": "[encoded data removed]",
      "text/plain": [
       "<IPython.core.display.Image object>"
      ]
     },
     "execution_count": 7,
     "metadata": {},
     "output_type": "execute_result"
    }
   ],
   "source": [
    "Image('img/bot.jpg')"
   ]
  },
  {
   "cell_type": "markdown",
   "metadata": {
    "heading_collapsed": true
   },
   "source": [
    "# 0.0 Imports"
   ]
  },
  {
   "cell_type": "markdown",
   "metadata": {
    "hidden": true
   },
   "source": [
    "In this section we will import the libraries needed to get the solution."
   ]
  },
  {
   "cell_type": "code",
   "execution_count": 2,
   "metadata": {
    "ExecuteTime": {
     "end_time": "2022-04-06T12:47:30.495514Z",
     "start_time": "2022-04-06T12:47:17.114606Z"
    },
    "hidden": true
   },
   "outputs": [],
   "source": [
    "import pandas                      as pd\n",
    "import numpy                       as np\n",
    "import matplotlib.pyplot           as plt\n",
    "import seaborn                     as sns\n",
    "import plotly.express              as px\n",
    "import os\n",
    "import pickle\n",
    "from sklearn.preprocessing         import StandardScaler, RobustScaler\n",
    "from sklearn.ensemble              import ExtraTreesClassifier\n",
    "from sklearn.model_selection       import train_test_split, cross_val_score, RandomizedSearchCV\n",
    "from sklearn.feature_selection     import SelectFromModel\n",
    "from sklearn.dummy                 import DummyClassifier\n",
    "from sklearn.metrics               import classification_report, confusion_matrix, make_scorer, precision_score\n",
    "from sklearn.metrics               import recall_score, accuracy_score, f1_score\n",
    "from sklearn.linear_model          import LogisticRegression\n",
    "from sklearn.tree                  import DecisionTreeClassifier\n",
    "from sklearn.neighbors             import KNeighborsClassifier\n",
    "from sklearn.naive_bayes           import GaussianNB\n",
    "from sklearn.neural_network        import MLPClassifier\n",
    "from sklearn.ensemble              import RandomForestClassifier, AdaBoostClassifier\n",
    "from pandas_datareader             import data as web\n",
    "from IPython.display               import Image\n",
    "from boruta                        import BorutaPy\n",
    "from joblib                        import dump, load\n",
    "\n",
    "import warnings\n",
    "warnings.filterwarnings(\"ignore\")"
   ]
  },
  {
   "cell_type": "markdown",
   "metadata": {
    "heading_collapsed": true,
    "hidden": true
   },
   "source": [
    "## 0.1. Helper Functions"
   ]
  },
  {
   "cell_type": "markdown",
   "metadata": {
    "hidden": true
   },
   "source": [
    "in this step, we'll document all the functions that will be used to solve the problem."
   ]
  },
  {
   "cell_type": "code",
   "execution_count": 83,
   "metadata": {
    "ExecuteTime": {
     "end_time": "2022-04-06T15:46:23.372889Z",
     "start_time": "2022-04-06T15:46:23.176638Z"
    },
    "code_folding": [
     0,
     15,
     57,
     66,
     83,
     110,
     120,
     130
    ],
    "hidden": true
   },
   "outputs": [],
   "source": [
    "def jupyter_settings():\n",
    "    %matplotlib inline\n",
    "    %pylab inline\n",
    "    \n",
    "    plt.style.use( 'bmh' )\n",
    "    #plt.rcParams['figure.figsize'] = [25, 12]\n",
    "    plt.rcParams['font.size'] = 24\n",
    "    \n",
    "    pd.options.display.max_columns = None\n",
    "    pd.options.display.max_rows = None\n",
    "    pd.set_option( 'display.expand_frame_repr', False )\n",
    "    pd.set_option('display.float_format', lambda x: '%.2f' % x)\n",
    "    \n",
    "    sns.set()\n",
    "    \n",
    "def collect_balances( fundamentals, files, companies ):\n",
    "    \n",
    "    for file in files:\n",
    "        # collecting only the company name\n",
    "        name = file[:-4]\n",
    "\n",
    "        # Balance Sheet\n",
    "        balance = pd.read_excel( f'Balances/{file}', sheet_name=0 )\n",
    "\n",
    "        # Name of the company as a title in the first column\n",
    "        balance.iloc[0, 0] = name\n",
    "\n",
    "        # Make the first line a header\n",
    "        balance.columns = balance.iloc[0]\n",
    "        balance = balance.iloc[1:]\n",
    "\n",
    "        # Make the first column an index\n",
    "        balance = balance.set_index( name )\n",
    "\n",
    "        # Cash Flow Statement\n",
    "        cfs = pd.read_excel( f'Balances/{file}', sheet_name=1 )\n",
    "\n",
    "        # Name of the company as a title in the first column\n",
    "        cfs.iloc[0, 0] = name\n",
    "\n",
    "        # Make the first line a header\n",
    "        cfs.columns = cfs.iloc[0]\n",
    "        cfs = cfs.iloc[1:]\n",
    "\n",
    "        # Make the first column an index\n",
    "        cfs = cfs.set_index( name )\n",
    "\n",
    "        try:\n",
    "            fundamentals[name] = balance.append( cfs )\n",
    "            companies.append( name )\n",
    "        except:\n",
    "            cfs.columns = balance.columns\n",
    "            fundamentals[name] = balance.append( cfs )\n",
    "            companies.append( name )\n",
    "        else:\n",
    "            pass\n",
    "        \n",
    "def read_quotes( quotes ):\n",
    "    \n",
    "    # getting the file name\n",
    "    files = os.listdir( \"Quotes\" )\n",
    "    \n",
    "    for file in files:\n",
    "        name = file[:-4]\n",
    "        quotes[name] = pd.read_csv( f'Quotes/{file}' ) \n",
    "        \n",
    "def show_missing_values( columns ):\n",
    "    # Start dictionary with all keys equal to zero\n",
    "    nan_values = dict.fromkeys( columns, 0 )\n",
    "    total_lines = 0\n",
    "\n",
    "    for company in fundamentals:\n",
    "        tabel = fundamentals[company]\n",
    "        # Total rows to know the proportion of missing values in each column\n",
    "        total_lines += tabel.shape[0]\n",
    "\n",
    "        for column in columns:\n",
    "            qnt_nan = pd.isnull( tabel[column] ).sum()\n",
    "            # Dictionary with the amount of nan values in each column\n",
    "            nan_values[column] += qnt_nan\n",
    "        \n",
    "    return nan_values, total_lines\n",
    "\n",
    "def transform_to_percentage_changes( df ):\n",
    "    \n",
    "    companies = list( df['Company'].unique() )\n",
    "    \n",
    "    for i, company in enumerate( companies ):\n",
    "        df_aux = df.loc[df['Company'] == company]\n",
    "        \n",
    "        print( company )\n",
    "        print( i )\n",
    "        \n",
    "        for column in df:\n",
    "            if column in ['Company', 'Class']:\n",
    "                continue\n",
    "            \n",
    "            conditions = [\n",
    "                ( df_aux[column].shift( 1 ) == 0 ) & ( df_aux[column] > 0 ),\n",
    "                ( df_aux[column].shift( 1 ) == 0 ) & ( df_aux[column] < 0 ),\n",
    "                ( df_aux[column].shift( 1 ) == 0 ) & ( df_aux[column] == 0 )\n",
    "            ]\n",
    "            \n",
    "            values = [1, -1, 0]\n",
    "            \n",
    "            df_aux[column] = np.select( conditions, values, default=df_aux[column].diff() / df_aux[column].abs().shift() )\n",
    "            df.loc[df['Company'] == company, column] = df_aux[column]\n",
    "    \n",
    "    return df\n",
    "\n",
    "def rescaling( data ):\n",
    "    rs = RobustScaler()\n",
    "    data_aux = data.drop( ['Class', 'Company'], axis=1 )\n",
    "    \n",
    "    data_aux = pd.DataFrame( rs.fit_transform( data_aux ), data_aux.index, data_aux.columns )\n",
    "    data_aux['Class'] = data['Class']\n",
    "    data_aux['Company'] = data['Company']\n",
    "     \n",
    "    return data_aux\n",
    "\n",
    "def ml_metrics( y_test, y_pred, model_name ):\n",
    "    print( f'Model: {model_name}' )\n",
    "    \n",
    "    report = classification_report( y_test, y_pred, target_names=['Not reliable', 'Reliable'] )\n",
    "    print( report )\n",
    "    \n",
    "    cf_matrix = pd.DataFrame( confusion_matrix( y_test, y_pred ), index=['Not reliable', 'Reliable'], columns=['Not reliable', 'Reliable'] )\n",
    "    sns.heatmap( cf_matrix, annot=True, cmap='Blues', fmt=',' )\n",
    "    plt.show()\n",
    "    \n",
    "def cross_validation( model, X_train, y_train, model_name ):\n",
    "    \n",
    "    precision2_score = make_scorer( precision_score, labels=[1], average='macro' )\n",
    "    recall2_score = make_scorer( recall_score, labels=[1], average='macro' )\n",
    "    f1_2_score = make_scorer( f1_score, labels=[1], average='macro' )\n",
    "    \n",
    "    accuracy = cross_val_score( model, X_train, y_train, cv=5, scoring='accuracy' )\n",
    "    precision = cross_val_score( model, X_train, y_train, cv=5, scoring=precision2_score )\n",
    "    recall = cross_val_score( model, X_train, y_train, cv=5, scoring=recall2_score )\n",
    "    f1 = cross_val_score( model, X_train, y_train, cv=5, scoring=f1_2_score )\n",
    "    \n",
    "    return pd.DataFrame( {\n",
    "      'Model': model_name,\n",
    "      'Accuracy': np.round( np.mean( accuracy ), 2 ).astype( str ) + '+/-' + np.round( np.std( accuracy ), 2 ).astype( str ),\n",
    "      'Precision': np.round( np.mean( precision ), 2 ).astype( str ) + '+/-' + np.round( np.std( precision ), 2 ).astype( str ),\n",
    "      'Recall': np.round( np.mean( recall ), 2 ).astype( str ) + '+/-' + np.round( np.std( recall ), 2 ).astype( str ), \n",
    "      'F1': np.round( np.mean( f1 ), 2 ).astype( str ) + '+/-' + np.round( np.std( f1 ), 2 ).astype( str ) }, index = [0] )"
   ]
  },
  {
   "cell_type": "code",
   "execution_count": 84,
   "metadata": {
    "ExecuteTime": {
     "end_time": "2022-04-06T15:46:32.214841Z",
     "start_time": "2022-04-06T15:46:32.175185Z"
    },
    "hidden": true
   },
   "outputs": [
    {
     "name": "stdout",
     "output_type": "stream",
     "text": [
      "%pylab is deprecated, use %matplotlib inline and import the required libraries.\n",
      "Populating the interactive namespace from numpy and matplotlib\n"
     ]
    }
   ],
   "source": [
    "jupyter_settings()"
   ]
  },
  {
   "cell_type": "markdown",
   "metadata": {
    "heading_collapsed": true,
    "hidden": true
   },
   "source": [
    "## 0.2. Loading Data"
   ]
  },
  {
   "cell_type": "markdown",
   "metadata": {
    "hidden": true
   },
   "source": [
    "The data needed to build our InvestBot bot are as follows:\n",
    "\n",
    "- Balance Sheet and Cash Flow Statement\n",
    "- Stock prices\n",
    "\n",
    "**1.** The balance sheets and cash flow statements of the companies will be used to calculate the fundamental indicators of the companies. They were previously collected on the website [Fundamentus](https://www.fundamentus.com.br/resultado.php), and they are in the folder \"/Balances\". From the data found in these spreadsheets, it will be possible to calculate the fundamental indicators of the companies.\n",
    "\n",
    "**2.** The collection of quote data was done through the \"pandas_datareader\" library, where it searches for quotes on the [Yahoo Finances](https://br.financas.yahoo.com/) website. The period analyzed will be from 06/30/2011 to 03/31/2020."
   ]
  },
  {
   "cell_type": "markdown",
   "metadata": {
    "heading_collapsed": true,
    "hidden": true
   },
   "source": [
    "### 0.2.1. Balance Sheet and Cash Flow Statement\n",
    "\n",
    "As stated earlier, the quote data was collected manually and placed in the \"/Balances\" folder. Now, we're going to import the balance sheets from the folder and put them in a dictionary called fundamentals."
   ]
  },
  {
   "cell_type": "code",
   "execution_count": 59,
   "metadata": {
    "hidden": true
   },
   "outputs": [],
   "source": [
    "# # Collect balance sheet and cash flow statement\n",
    "# fundamentals = {}\n",
    "# files = os.listdir( \"Balances\" )\n",
    "# companies = []\n",
    "\n",
    "# collect_balances( fundamentals, files, companies )"
   ]
  },
  {
   "cell_type": "code",
   "execution_count": 60,
   "metadata": {
    "hidden": true
   },
   "outputs": [],
   "source": [
    "# # Saving balances sheets\n",
    "# with open( \"Data/Fundamentals_initial.pkl\", \"wb\" ) as fund:\n",
    "#     pickle.dump( fundamentals, fund )"
   ]
  },
  {
   "cell_type": "code",
   "execution_count": 4,
   "metadata": {
    "ExecuteTime": {
     "end_time": "2022-03-29T11:39:00.571988Z",
     "start_time": "2022-03-29T11:38:59.438566Z"
    },
    "hidden": true
   },
   "outputs": [],
   "source": [
    "# Importing the balances sheets\n",
    "with open( \"Data/Fundamentals_initial.pkl\", \"rb\" ) as fund:\n",
    "    fundamentals = pickle.load( fund )"
   ]
  },
  {
   "cell_type": "markdown",
   "metadata": {
    "heading_collapsed": true,
    "hidden": true
   },
   "source": [
    "### 0.2.2. Stock Quotes\n",
    "\n",
    "The first time, the quotes were collected and placed in the \"/Quotes\" folder as .csv files. With that, the \"read_quotes\" function was created in order to read the quotes from the folder."
   ]
  },
  {
   "cell_type": "code",
   "execution_count": 62,
   "metadata": {
    "hidden": true
   },
   "outputs": [],
   "source": [
    "# # Collect stock quotes\n",
    "# quotes = {}\n",
    "\n",
    "# for company in companies:\n",
    "#     try:\n",
    "#         quotes[company] = web.DataReader( f'{company}.SA', data_source='yahoo', start=\"06/30/2011\", end=\"09/30/2021\" )\n",
    "#     except:\n",
    "#         pass"
   ]
  },
  {
   "cell_type": "code",
   "execution_count": 63,
   "metadata": {
    "hidden": true
   },
   "outputs": [],
   "source": [
    "# # Saving quotes\n",
    "# for company in quotes:\n",
    "#     quotes[company].to_csv( f'Quotes/{company}.csv' )"
   ]
  },
  {
   "cell_type": "code",
   "execution_count": 5,
   "metadata": {
    "ExecuteTime": {
     "end_time": "2022-03-29T11:39:54.033720Z",
     "start_time": "2022-03-29T11:39:10.317151Z"
    },
    "hidden": true
   },
   "outputs": [],
   "source": [
    "# Read stock quotes\n",
    "quotes = {}\n",
    "read_quotes( quotes )"
   ]
  },
  {
   "cell_type": "markdown",
   "metadata": {
    "heading_collapsed": true,
    "hidden": true
   },
   "source": [
    "### 0.2.2. Remove companies from the fundamentals that do not have quotes for the period collected"
   ]
  },
  {
   "cell_type": "code",
   "execution_count": 9,
   "metadata": {
    "ExecuteTime": {
     "end_time": "2022-03-29T11:41:14.549646Z",
     "start_time": "2022-03-29T11:41:14.478496Z"
    },
    "hidden": true
   },
   "outputs": [],
   "source": [
    "companies = list( fundamentals.keys() )\n",
    "\n",
    "for company in companies:\n",
    "    if company not in quotes:\n",
    "        fundamentals.pop( company )\n",
    "\n",
    "companies = list( quotes.keys() )"
   ]
  },
  {
   "cell_type": "markdown",
   "metadata": {
    "heading_collapsed": true,
    "hidden": true
   },
   "source": [
    "### 0.2.3. Remove companies that have empty quotes"
   ]
  },
  {
   "cell_type": "code",
   "execution_count": 10,
   "metadata": {
    "ExecuteTime": {
     "end_time": "2022-03-29T11:41:20.778213Z",
     "start_time": "2022-03-29T11:41:20.309385Z"
    },
    "hidden": true
   },
   "outputs": [],
   "source": [
    "for company in companies:\n",
    "    if quotes[company].isnull().values.any():\n",
    "        quotes.pop( company )\n",
    "        fundamentals.pop( company )\n",
    "\n",
    "companies = list( quotes.keys() )"
   ]
  },
  {
   "cell_type": "markdown",
   "metadata": {
    "heading_collapsed": true,
    "hidden": true
   },
   "source": [
    "### 0.2.4. Adding dates that don't exist in the quotes "
   ]
  },
  {
   "cell_type": "code",
   "execution_count": 29,
   "metadata": {
    "ExecuteTime": {
     "end_time": "2022-03-29T12:00:22.499675Z",
     "start_time": "2022-03-29T11:59:50.754644Z"
    },
    "hidden": true
   },
   "outputs": [],
   "source": [
    "# Adding dates for quarters that do not exist in quote dataframes\n",
    "for company in companies:\n",
    "    # Putting quote date as dataframe index\n",
    "    quotes[company] = quotes[company].set_index( \"Date\" )\n",
    "    first_date = quotes[company].index[0].split( '-' )\n",
    "    last_date = quotes[company].index[-1].split( '-' )\n",
    "    \n",
    "    for date in fundamentals[company].columns:\n",
    "        try:\n",
    "            date_aux = date.split( '/' )\n",
    "        except:\n",
    "            continue\n",
    "        \n",
    "        if datetime.date( int( date_aux[2] ), int( date_aux[1] ), int( date_aux[0] ) ) <= datetime.date( int( last_date[0] ), int( last_date[1] ), int( last_date[2] ) ) and datetime.date( int( date_aux[2] ), int( date_aux[1] ), int( date_aux[0] ) ) >= datetime.date( int( first_date[0] ), int( first_date[1] ), int( first_date[2] ) ):\n",
    "            formatted_date = date_aux[2] + '-' + date_aux[1] + '-' + date_aux[0]\n",
    "            # Inserting new lines with empty fields\n",
    "            if formatted_date not in list( quotes[company].index ):\n",
    "                quotes[company].loc[formatted_date] = np.nan\n",
    "\n",
    "# Sorting the df and filling the created fields\n",
    "for company in quotes:\n",
    "    # sorting by date\n",
    "    quotes[company] = quotes[company].sort_index()\n",
    "    \n",
    "    # filling empty fields with data from the previous row\n",
    "    quotes[company] = quotes[company].ffill()\n"
   ]
  },
  {
   "cell_type": "code",
   "execution_count": 30,
   "metadata": {
    "ExecuteTime": {
     "end_time": "2022-03-29T12:01:14.141811Z",
     "start_time": "2022-03-29T12:00:47.464059Z"
    },
    "hidden": true
   },
   "outputs": [],
   "source": [
    "for company in quotes:\n",
    "    quotes[company] = quotes[company].reset_index()\n",
    "    quotes[company]['Date'] = pd.to_datetime( quotes[company]['Date'] )\n",
    "    quotes[company]['Date'] = quotes[company]['Date'].dt.strftime( \"%d/%m/%Y\" )\n",
    "    quotes[company] = quotes[company].set_index( 'Date' )\n",
    "    quotes[company].index = pd.to_datetime( quotes[company].index, format=\"%d/%m/%Y\" )"
   ]
  },
  {
   "cell_type": "markdown",
   "metadata": {
    "heading_collapsed": true,
    "hidden": true
   },
   "source": [
    "### 0.2.4. Joining the fundamentals and the quotes"
   ]
  },
  {
   "cell_type": "code",
   "execution_count": 36,
   "metadata": {
    "ExecuteTime": {
     "end_time": "2022-03-29T12:41:30.022036Z",
     "start_time": "2022-03-29T12:41:26.474198Z"
    },
    "hidden": true
   },
   "outputs": [],
   "source": [
    "for company in fundamentals:\n",
    "    # Fundamentals\n",
    "    # Turn rows into columns\n",
    "    table = fundamentals[company].T\n",
    "    \n",
    "    # Transform index to date type\n",
    "    table.index = pd.to_datetime( table.index, format=\"%d/%m/%Y\" )\n",
    "    \n",
    "    # Quotes\n",
    "    quote_table = quotes[company]\n",
    "    \n",
    "    # Select only the column Adj Close\n",
    "    quote_table = quote_table[['Adj Close']]\n",
    "    \n",
    "    # Merge\n",
    "    table = table.merge( quote_table, right_index=True, left_index=True )\n",
    "    \n",
    "    # Inserting name in index column\n",
    "    table.index.name = company\n",
    "    \n",
    "    fundamentals[company] = table"
   ]
  },
  {
   "cell_type": "markdown",
   "metadata": {
    "heading_collapsed": true,
    "hidden": true
   },
   "source": [
    "### 0.2.5. Removing empty dataframes"
   ]
  },
  {
   "cell_type": "code",
   "execution_count": 50,
   "metadata": {
    "ExecuteTime": {
     "end_time": "2022-03-29T12:53:00.342619Z",
     "start_time": "2022-03-29T12:53:00.305086Z"
    },
    "hidden": true
   },
   "outputs": [],
   "source": [
    "companies = list( fundamentals.keys() )\n",
    "\n",
    "for company in companies:\n",
    "    if len( fundamentals[company] ) == 0:\n",
    "        fundamentals.pop( company )"
   ]
  },
  {
   "cell_type": "markdown",
   "metadata": {
    "heading_collapsed": true,
    "hidden": true
   },
   "source": [
    "### 0.2.6. Treat columns\n",
    "\n",
    "- Catch only companies that have the same columns\n",
    "- Columns with repeated names\n",
    "- Missing values\n",
    "- Create a column with the name of the companies"
   ]
  },
  {
   "cell_type": "markdown",
   "metadata": {
    "hidden": true
   },
   "source": [
    "**1. Catch only companies that have the same columns**"
   ]
  },
  {
   "cell_type": "code",
   "execution_count": 53,
   "metadata": {
    "ExecuteTime": {
     "end_time": "2022-03-29T12:54:28.287084Z",
     "start_time": "2022-03-29T12:54:28.254794Z"
    },
    "hidden": true
   },
   "outputs": [],
   "source": [
    "columns = list ( fundamentals['PETR4'].columns )\n",
    "companies = list( fundamentals.keys() )\n",
    "\n",
    "for company in companies:\n",
    "    # Checking if the company has the necessary columns\n",
    "    if set( columns ) != set( fundamentals[company].columns ):\n",
    "        fundamentals.pop( company )"
   ]
  },
  {
   "cell_type": "markdown",
   "metadata": {
    "hidden": true
   },
   "source": [
    "**2. Columns with repeated names**"
   ]
  },
  {
   "cell_type": "code",
   "execution_count": 55,
   "metadata": {
    "ExecuteTime": {
     "end_time": "2022-03-29T12:55:36.053049Z",
     "start_time": "2022-03-29T12:55:36.026110Z"
    },
    "hidden": true
   },
   "outputs": [],
   "source": [
    "# Changing the name of columns that have the same names\n",
    "text_columns = \";\".join( columns )\n",
    "\n",
    "modified_columns = []\n",
    "for column in columns:\n",
    "    if columns.count( column ) == 2 and column not in modified_columns:\n",
    "        text_columns = text_columns.replace( \";\" + column + \";\", \";\" + column + \"_1;\", 1 )\n",
    "        modified_columns.append( column )\n",
    "        \n",
    "columns = text_columns.split( ';' )"
   ]
  },
  {
   "cell_type": "code",
   "execution_count": 56,
   "metadata": {
    "ExecuteTime": {
     "end_time": "2022-03-29T12:55:45.152439Z",
     "start_time": "2022-03-29T12:55:45.042765Z"
    },
    "hidden": true
   },
   "outputs": [],
   "source": [
    "# Implement columns in tables\n",
    "for company in fundamentals:\n",
    "    fundamentals[company].columns = columns"
   ]
  },
  {
   "cell_type": "markdown",
   "metadata": {
    "hidden": true
   },
   "source": [
    "**3. Missing values**"
   ]
  },
  {
   "cell_type": "code",
   "execution_count": 57,
   "metadata": {
    "ExecuteTime": {
     "end_time": "2022-03-29T12:56:03.540251Z",
     "start_time": "2022-03-29T12:55:53.484323Z"
    },
    "hidden": true
   },
   "outputs": [
    {
     "name": "stdout",
     "output_type": "stream",
     "text": [
      "{'Ativo Total': 0, 'Ativo Circulante': 0, 'Caixa e Equivalentes de Caixa': 0, 'Aplicações Financeiras': 0, 'Contas a Receber_1': 0, 'Estoques_1': 0, 'Ativos Biológicos_1': 0, 'Tributos a Recuperar': 0, 'Despesas Antecipadas_1': 0, 'Outros Ativos Circulantes': 0, 'Ativo Realizável a Longo Prazo': 0, 'Aplicações Financeiras Avaliadas a Valor Justo': 0, 'Aplicações Financeiras Avaliadas ao Custo Amortizado': 0, 'Contas a Receber': 0, 'Estoques': 0, 'Ativos Biológicos': 0, 'Tributos Diferidos_1': 0, 'Despesas Antecipadas': 0, 'Créditos com Partes Relacionadas': 0, 'Outros Ativos Não Circulantes': 0, 'Investimentos': 0, 'Imobilizado': 0, 'Intangível': 0, 'Diferido': 0, 'Passivo Total': 0, 'Passivo Circulante': 0, 'Obrigações Sociais e Trabalhistas': 0, 'Fornecedores': 0, 'Obrigações Fiscais': 0, 'Empréstimos e Financiamentos_1': 0, 'Passivos com Partes Relacionadas_1': 0, 'Dividendos e JCP a Pagar': 0, 'Outros_1': 0, 'Provisões_1': 0, 'Passivos sobre Ativos Não-Correntes a Venda e Descontinuados_1': 0, 'Passivo Não Circulante': 0, 'Empréstimos e Financiamentos': 0, 'Passivos com Partes Relacionadas': 0, 'Outros': 0, 'Tributos Diferidos': 0, 'Adiantamento para Futuro Aumento Capital_1': 0, 'Provisões': 0, 'Passivos sobre Ativos Não-Correntes a Venda e Descontinuados': 0, 'Lucros e Receitas a Apropriar': 0, 'Participação dos Acionistas Não Controladores': 0, 'Patrimônio Líquido': 0, 'Capital Social Realizado': 0, 'Reservas de Capital': 0, 'Reservas de Reavaliação': 0, 'Reservas de Lucros': 0, 'Lucros/Prejuízos Acumulados': 0, 'Ajustes de Avaliação Patrimonial': 0, 'Ajustes Acumulados de Conversão': 0, 'Outros Resultados Abrangentes': 0, 'Adiantamento para Futuro Aumento Capital': 0, 'Receita Bruta de Vendas e/ou Serviços': 15218, 'Deduções da Receita Bruta': 15218, 'Receita Líquida de Vendas e/ou Serviços': 31, 'Custo de Bens e/ou Serviços Vendidos': 34, 'Resultado Bruto': 32, 'Despesas Com Vendas': 34, 'Despesas Gerais e Administrativas': 34, 'Perdas pela Não Recuperabilidade de Ativos\\xa0': 34, 'Outras Receitas Operacionais': 34, 'Outras Despesas Operacionais': 34, 'Resultado da Equivalência Patrimonial': 34, 'Financeiras': 31, 'Receitas Financeiras': 34, 'Despesas Financeiras': 34, 'Resultado Não Operacional': 15218, 'Receitas': 15221, 'Despesas': 15221, 'Resultado Antes Tributação/Participações': 32, 'Provisão para IR e Contribuição Social': 31, 'IR Diferido': 32, 'Participações/Contribuições Estatutárias': 15220, 'Reversão dos Juros sobre Capital Próprio': 15221, 'Part. de Acionistas Não Controladores': 3001, 'Lucro/Prejuízo do Período': 34, 'Adj Close': 0}\n",
      "15669\n"
     ]
    }
   ],
   "source": [
    "# Counting the total number of missing values in each column\n",
    "nan_values, total_lines = show_missing_values( columns )\n",
    "        \n",
    "print( nan_values )\n",
    "print( total_lines )"
   ]
  },
  {
   "cell_type": "code",
   "execution_count": 58,
   "metadata": {
    "ExecuteTime": {
     "end_time": "2022-03-29T12:56:23.992658Z",
     "start_time": "2022-03-29T12:56:17.484726Z"
    },
    "hidden": true
   },
   "outputs": [],
   "source": [
    "# Remove columns longer than 50 rows with nan values\n",
    "delete_columns = []\n",
    "\n",
    "for column in nan_values:\n",
    "    if nan_values[column] > 50:\n",
    "        delete_columns.append( column )\n",
    "        \n",
    "for company in fundamentals:\n",
    "    fundamentals[company] = fundamentals[company].drop( delete_columns, axis=1 )\n",
    "    fundamentals[company] = fundamentals[company].ffill()"
   ]
  },
  {
   "cell_type": "markdown",
   "metadata": {
    "hidden": true
   },
   "source": [
    "**4. Create a column with the name of the companies**"
   ]
  },
  {
   "cell_type": "code",
   "execution_count": 59,
   "metadata": {
    "ExecuteTime": {
     "end_time": "2022-03-29T12:56:44.910484Z",
     "start_time": "2022-03-29T12:56:44.484144Z"
    },
    "hidden": true
   },
   "outputs": [],
   "source": [
    "for company in fundamentals:\n",
    "    fundamentals[company].loc[:, 'Company'] = fundamentals[company].index.name"
   ]
  },
  {
   "cell_type": "markdown",
   "metadata": {
    "heading_collapsed": true,
    "hidden": true
   },
   "source": [
    "### 0.2.6. Creating labels: reliable or not reliable\n",
    "\n",
    "**Rules:**\n",
    "\n",
    "    1. The stock yielded 3% or more = reliable - Value 1\n",
    "    2. The stock yielded lower than 3% = not reliable - Value 0"
   ]
  },
  {
   "cell_type": "code",
   "execution_count": 68,
   "metadata": {
    "ExecuteTime": {
     "end_time": "2022-03-29T16:11:38.116182Z",
     "start_time": "2022-03-29T16:11:35.598782Z"
    },
    "hidden": true
   },
   "outputs": [],
   "source": [
    "# transform quotes into percentages\n",
    "# quarter quotes - next quarter quote / quarter quote - 1\n",
    "\n",
    "for company in fundamentals:\n",
    "    indicator = fundamentals[company]\n",
    "    indicator = indicator.sort_index()\n",
    "    \n",
    "    # get next indicator\n",
    "    indicator['Perc'] = ( indicator['Adj Close'].shift( -1 ) / indicator['Adj Close'] ) -1                                                                    \n",
    "    indicator['Class'] = indicator['Perc'].map( lambda x: 1 if x >= 0.03 else 0 ) \n",
    "        \n",
    "    fundamentals[company] = indicator"
   ]
  },
  {
   "cell_type": "markdown",
   "metadata": {
    "heading_collapsed": true,
    "hidden": true
   },
   "source": [
    "### 0.2.7. Making everything a single dataframe"
   ]
  },
  {
   "cell_type": "code",
   "execution_count": 70,
   "metadata": {
    "ExecuteTime": {
     "end_time": "2022-03-29T16:15:10.831949Z",
     "start_time": "2022-03-29T16:15:10.334494Z"
    },
    "hidden": true
   },
   "outputs": [],
   "source": [
    "# with open( \"Data/Fundamentals_final.pkl\", \"wb\" ) as fund:\n",
    "#     pickle.dump( fundamentals, fund )"
   ]
  },
  {
   "cell_type": "code",
   "execution_count": 9,
   "metadata": {
    "ExecuteTime": {
     "end_time": "2022-04-06T12:54:45.058772Z",
     "start_time": "2022-04-06T12:54:43.967932Z"
    },
    "hidden": true
   },
   "outputs": [],
   "source": [
    "# with open( \"Data/Fundamentals_final.pkl\", \"rb\" ) as fund:\n",
    "#     fundamentals = pickle.load( fund )"
   ]
  },
  {
   "cell_type": "code",
   "execution_count": 11,
   "metadata": {
    "ExecuteTime": {
     "end_time": "2022-04-06T12:56:24.395178Z",
     "start_time": "2022-04-06T12:56:11.169432Z"
    },
    "hidden": true
   },
   "outputs": [],
   "source": [
    "# Saving train and test datasets\n",
    "df = pd.DataFrame()\n",
    "\n",
    "for company in fundamentals:\n",
    "    fundamentals[company] = fundamentals[company][:-1]\n",
    "    fundamentals[company] = fundamentals[company].reset_index( drop=True )\n",
    "    df = df.append( fundamentals[company] )\n",
    "    \n",
    "df.to_csv('Data/Fundamentals.csv', index=False )"
   ]
  },
  {
   "cell_type": "markdown",
   "metadata": {
    "heading_collapsed": true
   },
   "source": [
    "# 1.0. Data Description"
   ]
  },
  {
   "cell_type": "markdown",
   "metadata": {
    "hidden": true
   },
   "source": [
    "in this step we will perform the following tasks:\n",
    "\n",
    "- Rename Columns\n",
    "- Data Dimensions\n",
    "- Data Types\n",
    "- Change data types\n",
    "- Check missing values\n",
    "- Descriptive Statistical\n",
    "\n",
    "This step is very important for us to know how challenging the problem is."
   ]
  },
  {
   "cell_type": "code",
   "execution_count": 12,
   "metadata": {
    "ExecuteTime": {
     "end_time": "2022-04-06T12:56:32.487378Z",
     "start_time": "2022-04-06T12:56:32.168473Z"
    },
    "hidden": true,
    "hide_input": false
   },
   "outputs": [
    {
     "data": {
      "text/html": [
       "<div>\n",
       "<style scoped>\n",
       "    .dataframe tbody tr th:only-of-type {\n",
       "        vertical-align: middle;\n",
       "    }\n",
       "\n",
       "    .dataframe tbody tr th {\n",
       "        vertical-align: top;\n",
       "    }\n",
       "\n",
       "    .dataframe thead th {\n",
       "        text-align: right;\n",
       "    }\n",
       "</style>\n",
       "<table border=\"1\" class=\"dataframe\">\n",
       "  <thead>\n",
       "    <tr style=\"text-align: right;\">\n",
       "      <th></th>\n",
       "      <th>Ativo Total</th>\n",
       "      <th>Ativo Circulante</th>\n",
       "      <th>Caixa e Equivalentes de Caixa</th>\n",
       "      <th>Aplicações Financeiras</th>\n",
       "      <th>Contas a Receber_1</th>\n",
       "      <th>Estoques_1</th>\n",
       "      <th>Ativos Biológicos_1</th>\n",
       "      <th>Tributos a Recuperar</th>\n",
       "      <th>Despesas Antecipadas_1</th>\n",
       "      <th>Outros Ativos Circulantes</th>\n",
       "      <th>Ativo Realizável a Longo Prazo</th>\n",
       "      <th>Aplicações Financeiras Avaliadas a Valor Justo</th>\n",
       "      <th>Aplicações Financeiras Avaliadas ao Custo Amortizado</th>\n",
       "      <th>Contas a Receber</th>\n",
       "      <th>Estoques</th>\n",
       "      <th>Ativos Biológicos</th>\n",
       "      <th>Tributos Diferidos_1</th>\n",
       "      <th>Despesas Antecipadas</th>\n",
       "      <th>Créditos com Partes Relacionadas</th>\n",
       "      <th>Outros Ativos Não Circulantes</th>\n",
       "      <th>Investimentos</th>\n",
       "      <th>Imobilizado</th>\n",
       "      <th>Intangível</th>\n",
       "      <th>Diferido</th>\n",
       "      <th>Passivo Total</th>\n",
       "      <th>Passivo Circulante</th>\n",
       "      <th>Obrigações Sociais e Trabalhistas</th>\n",
       "      <th>Fornecedores</th>\n",
       "      <th>Obrigações Fiscais</th>\n",
       "      <th>Empréstimos e Financiamentos_1</th>\n",
       "      <th>Passivos com Partes Relacionadas_1</th>\n",
       "      <th>Dividendos e JCP a Pagar</th>\n",
       "      <th>Outros_1</th>\n",
       "      <th>Provisões_1</th>\n",
       "      <th>Passivos sobre Ativos Não-Correntes a Venda e Descontinuados_1</th>\n",
       "      <th>Passivo Não Circulante</th>\n",
       "      <th>Empréstimos e Financiamentos</th>\n",
       "      <th>Passivos com Partes Relacionadas</th>\n",
       "      <th>Outros</th>\n",
       "      <th>Tributos Diferidos</th>\n",
       "      <th>Adiantamento para Futuro Aumento Capital_1</th>\n",
       "      <th>Provisões</th>\n",
       "      <th>Passivos sobre Ativos Não-Correntes a Venda e Descontinuados</th>\n",
       "      <th>Lucros e Receitas a Apropriar</th>\n",
       "      <th>Participação dos Acionistas Não Controladores</th>\n",
       "      <th>Patrimônio Líquido</th>\n",
       "      <th>Capital Social Realizado</th>\n",
       "      <th>Reservas de Capital</th>\n",
       "      <th>Reservas de Reavaliação</th>\n",
       "      <th>Reservas de Lucros</th>\n",
       "      <th>Lucros/Prejuízos Acumulados</th>\n",
       "      <th>Ajustes de Avaliação Patrimonial</th>\n",
       "      <th>Ajustes Acumulados de Conversão</th>\n",
       "      <th>Outros Resultados Abrangentes</th>\n",
       "      <th>Adiantamento para Futuro Aumento Capital</th>\n",
       "      <th>Receita Líquida de Vendas e/ou Serviços</th>\n",
       "      <th>Custo de Bens e/ou Serviços Vendidos</th>\n",
       "      <th>Resultado Bruto</th>\n",
       "      <th>Despesas Com Vendas</th>\n",
       "      <th>Despesas Gerais e Administrativas</th>\n",
       "      <th>Perdas pela Não Recuperabilidade de Ativos</th>\n",
       "      <th>Outras Receitas Operacionais</th>\n",
       "      <th>Outras Despesas Operacionais</th>\n",
       "      <th>Resultado da Equivalência Patrimonial</th>\n",
       "      <th>Financeiras</th>\n",
       "      <th>Receitas Financeiras</th>\n",
       "      <th>Despesas Financeiras</th>\n",
       "      <th>Resultado Antes Tributação/Participações</th>\n",
       "      <th>Provisão para IR e Contribuição Social</th>\n",
       "      <th>IR Diferido</th>\n",
       "      <th>Lucro/Prejuízo do Período</th>\n",
       "      <th>Adj Close</th>\n",
       "      <th>Company</th>\n",
       "      <th>Perc</th>\n",
       "      <th>Class</th>\n",
       "    </tr>\n",
       "  </thead>\n",
       "  <tbody>\n",
       "    <tr>\n",
       "      <th>15204</th>\n",
       "      <td>531112.99</td>\n",
       "      <td>209171.01</td>\n",
       "      <td>13701.00</td>\n",
       "      <td>32354.00</td>\n",
       "      <td>66251.00</td>\n",
       "      <td>60576.00</td>\n",
       "      <td>12634.00</td>\n",
       "      <td>15095.00</td>\n",
       "      <td>915.00</td>\n",
       "      <td>7645.00</td>\n",
       "      <td>36195.00</td>\n",
       "      <td>0.00</td>\n",
       "      <td>0.00</td>\n",
       "      <td>0.00</td>\n",
       "      <td>0.00</td>\n",
       "      <td>0.00</td>\n",
       "      <td>17130.00</td>\n",
       "      <td>0.00</td>\n",
       "      <td>0.00</td>\n",
       "      <td>302.00</td>\n",
       "      <td>859.00</td>\n",
       "      <td>275911.01</td>\n",
       "      <td>8977.00</td>\n",
       "      <td>0</td>\n",
       "      <td>531112.99</td>\n",
       "      <td>82508.00</td>\n",
       "      <td>6413.00</td>\n",
       "      <td>44765.00</td>\n",
       "      <td>13354.00</td>\n",
       "      <td>8283.00</td>\n",
       "      <td>1442.00</td>\n",
       "      <td>278.00</td>\n",
       "      <td>7973.00</td>\n",
       "      <td>0.00</td>\n",
       "      <td>0.00</td>\n",
       "      <td>47682.00</td>\n",
       "      <td>1195.00</td>\n",
       "      <td>0.00</td>\n",
       "      <td>2444.00</td>\n",
       "      <td>44013.00</td>\n",
       "      <td>0</td>\n",
       "      <td>30.00</td>\n",
       "      <td>0.00</td>\n",
       "      <td>0.00</td>\n",
       "      <td>404.00</td>\n",
       "      <td>400519.01</td>\n",
       "      <td>177375.01</td>\n",
       "      <td>0.00</td>\n",
       "      <td>76463.00</td>\n",
       "      <td>99699.00</td>\n",
       "      <td>16217.00</td>\n",
       "      <td>30765.00</td>\n",
       "      <td>0.00</td>\n",
       "      <td>0.00</td>\n",
       "      <td>0</td>\n",
       "      <td>261711.01</td>\n",
       "      <td>-221895.01</td>\n",
       "      <td>39816.00</td>\n",
       "      <td>0.00</td>\n",
       "      <td>-29154.00</td>\n",
       "      <td>0.00</td>\n",
       "      <td>3089.00</td>\n",
       "      <td>-702.00</td>\n",
       "      <td>-10.00</td>\n",
       "      <td>37.00</td>\n",
       "      <td>792.00</td>\n",
       "      <td>-755.00</td>\n",
       "      <td>13076.00</td>\n",
       "      <td>-4608.00</td>\n",
       "      <td>0.00</td>\n",
       "      <td>8462.00</td>\n",
       "      <td>6.22</td>\n",
       "      <td>WLMM4</td>\n",
       "      <td>0.21</td>\n",
       "      <td>1</td>\n",
       "    </tr>\n",
       "  </tbody>\n",
       "</table>\n",
       "</div>"
      ],
      "text/plain": [
       "       Ativo Total  Ativo Circulante  Caixa e Equivalentes de Caixa  Aplicações Financeiras  Contas a Receber_1  Estoques_1  Ativos Biológicos_1  Tributos a Recuperar  Despesas Antecipadas_1  Outros Ativos Circulantes  Ativo Realizável a Longo Prazo  Aplicações Financeiras Avaliadas a Valor Justo  Aplicações Financeiras Avaliadas ao Custo Amortizado  Contas a Receber  Estoques  Ativos Biológicos  Tributos Diferidos_1  Despesas Antecipadas  Créditos com Partes Relacionadas  Outros Ativos Não Circulantes  Investimentos  Imobilizado  Intangível  Diferido  Passivo Total  Passivo Circulante  Obrigações Sociais e Trabalhistas  Fornecedores  Obrigações Fiscais  Empréstimos e Financiamentos_1  Passivos com Partes Relacionadas_1  Dividendos e JCP a Pagar  Outros_1  Provisões_1  Passivos sobre Ativos Não-Correntes a Venda e Descontinuados_1  Passivo Não Circulante  Empréstimos e Financiamentos  Passivos com Partes Relacionadas  Outros  Tributos Diferidos  Adiantamento para Futuro Aumento Capital_1  Provisões  Passivos sobre Ativos Não-Correntes a Venda e Descontinuados  Lucros e Receitas a Apropriar  Participação dos Acionistas Não Controladores  Patrimônio Líquido  Capital Social Realizado  Reservas de Capital  Reservas de Reavaliação  Reservas de Lucros  Lucros/Prejuízos Acumulados  Ajustes de Avaliação Patrimonial  Ajustes Acumulados de Conversão  Outros Resultados Abrangentes  Adiantamento para Futuro Aumento Capital  Receita Líquida de Vendas e/ou Serviços  Custo de Bens e/ou Serviços Vendidos  Resultado Bruto  Despesas Com Vendas  Despesas Gerais e Administrativas  Perdas pela Não Recuperabilidade de Ativos   Outras Receitas Operacionais  Outras Despesas Operacionais  Resultado da Equivalência Patrimonial  Financeiras  Receitas Financeiras  Despesas Financeiras  Resultado Antes Tributação/Participações  Provisão para IR e Contribuição Social  IR Diferido  Lucro/Prejuízo do Período  Adj Close Company  Perc  Class\n",
       "15204    531112.99         209171.01                       13701.00                32354.00            66251.00    60576.00             12634.00              15095.00                  915.00                    7645.00                        36195.00                                            0.00                                               0.00                 0.00      0.00               0.00              17130.00                  0.00                              0.00                         302.00         859.00    275911.01     8977.00         0      531112.99            82508.00                            6413.00      44765.00            13354.00                         8283.00                             1442.00                    278.00   7973.00         0.00                                               0.00                             47682.00                       1195.00                              0.00 2444.00            44013.00                                           0      30.00                                               0.00                                      0.00                                         404.00           400519.01                 177375.01                 0.00                 76463.00            99699.00                     16217.00                          30765.00                             0.00                           0.00                                         0                                261711.01                            -221895.01         39816.00                 0.00                          -29154.00                                         0.00                       3089.00                       -702.00                                 -10.00        37.00                792.00               -755.00                                  13076.00                                -4608.00         0.00                    8462.00       6.22   WLMM4  0.21      1"
      ]
     },
     "execution_count": 12,
     "metadata": {},
     "output_type": "execute_result"
    }
   ],
   "source": [
    "# Importing \n",
    "df1 = pd.read_csv( 'Data/Fundamentals.csv' )\n",
    "\n",
    "df1.sample()"
   ]
  },
  {
   "cell_type": "markdown",
   "metadata": {
    "heading_collapsed": true,
    "hidden": true
   },
   "source": [
    "## 1.1. Data Dimensions"
   ]
  },
  {
   "cell_type": "code",
   "execution_count": 13,
   "metadata": {
    "ExecuteTime": {
     "end_time": "2022-04-06T12:57:56.931079Z",
     "start_time": "2022-04-06T12:57:56.920762Z"
    },
    "hidden": true,
    "hide_input": false
   },
   "outputs": [
    {
     "name": "stdout",
     "output_type": "stream",
     "text": [
      "Number of rows: 15254\n",
      "Number of columns: 75\n"
     ]
    }
   ],
   "source": [
    "print( f'Number of rows: {df1.shape[0]}' )\n",
    "print( f'Number of columns: {df1.shape[1]}' )"
   ]
  },
  {
   "cell_type": "markdown",
   "metadata": {
    "heading_collapsed": true,
    "hidden": true
   },
   "source": [
    "## 1.2. Data Types"
   ]
  },
  {
   "cell_type": "code",
   "execution_count": 14,
   "metadata": {
    "ExecuteTime": {
     "end_time": "2022-04-06T12:58:05.194296Z",
     "start_time": "2022-04-06T12:58:05.160226Z"
    },
    "hidden": true,
    "hide_input": false
   },
   "outputs": [
    {
     "data": {
      "text/plain": [
       "Ativo Total                                                       float64\n",
       "Ativo Circulante                                                  float64\n",
       "Caixa e Equivalentes de Caixa                                     float64\n",
       "Aplicações Financeiras                                            float64\n",
       "Contas a Receber_1                                                float64\n",
       "Estoques_1                                                        float64\n",
       "Ativos Biológicos_1                                               float64\n",
       "Tributos a Recuperar                                              float64\n",
       "Despesas Antecipadas_1                                            float64\n",
       "Outros Ativos Circulantes                                         float64\n",
       "Ativo Realizável a Longo Prazo                                    float64\n",
       "Aplicações Financeiras Avaliadas a Valor Justo                    float64\n",
       "Aplicações Financeiras Avaliadas ao Custo Amortizado              float64\n",
       "Contas a Receber                                                  float64\n",
       "Estoques                                                          float64\n",
       "Ativos Biológicos                                                 float64\n",
       "Tributos Diferidos_1                                              float64\n",
       "Despesas Antecipadas                                              float64\n",
       "Créditos com Partes Relacionadas                                  float64\n",
       "Outros Ativos Não Circulantes                                     float64\n",
       "Investimentos                                                     float64\n",
       "Imobilizado                                                       float64\n",
       "Intangível                                                        float64\n",
       "Diferido                                                            int64\n",
       "Passivo Total                                                     float64\n",
       "Passivo Circulante                                                float64\n",
       "Obrigações Sociais e Trabalhistas                                 float64\n",
       "Fornecedores                                                      float64\n",
       "Obrigações Fiscais                                                float64\n",
       "Empréstimos e Financiamentos_1                                    float64\n",
       "Passivos com Partes Relacionadas_1                                float64\n",
       "Dividendos e JCP a Pagar                                          float64\n",
       "Outros_1                                                          float64\n",
       "Provisões_1                                                       float64\n",
       "Passivos sobre Ativos Não-Correntes a Venda e Descontinuados_1    float64\n",
       "Passivo Não Circulante                                            float64\n",
       "Empréstimos e Financiamentos                                      float64\n",
       "Passivos com Partes Relacionadas                                  float64\n",
       "Outros                                                            float64\n",
       "Tributos Diferidos                                                float64\n",
       "Adiantamento para Futuro Aumento Capital_1                          int64\n",
       "Provisões                                                         float64\n",
       "Passivos sobre Ativos Não-Correntes a Venda e Descontinuados      float64\n",
       "Lucros e Receitas a Apropriar                                     float64\n",
       "Participação dos Acionistas Não Controladores                     float64\n",
       "Patrimônio Líquido                                                float64\n",
       "Capital Social Realizado                                          float64\n",
       "Reservas de Capital                                               float64\n",
       "Reservas de Reavaliação                                           float64\n",
       "Reservas de Lucros                                                float64\n",
       "Lucros/Prejuízos Acumulados                                       float64\n",
       "Ajustes de Avaliação Patrimonial                                  float64\n",
       "Ajustes Acumulados de Conversão                                   float64\n",
       "Outros Resultados Abrangentes                                     float64\n",
       "Adiantamento para Futuro Aumento Capital                            int64\n",
       "Receita Líquida de Vendas e/ou Serviços                           float64\n",
       "Custo de Bens e/ou Serviços Vendidos                              float64\n",
       "Resultado Bruto                                                   float64\n",
       "Despesas Com Vendas                                               float64\n",
       "Despesas Gerais e Administrativas                                 float64\n",
       "Perdas pela Não Recuperabilidade de Ativos                        float64\n",
       "Outras Receitas Operacionais                                      float64\n",
       "Outras Despesas Operacionais                                      float64\n",
       "Resultado da Equivalência Patrimonial                             float64\n",
       "Financeiras                                                       float64\n",
       "Receitas Financeiras                                              float64\n",
       "Despesas Financeiras                                              float64\n",
       "Resultado Antes Tributação/Participações                          float64\n",
       "Provisão para IR e Contribuição Social                            float64\n",
       "IR Diferido                                                       float64\n",
       "Lucro/Prejuízo do Período                                         float64\n",
       "Adj Close                                                         float64\n",
       "Company                                                            object\n",
       "Perc                                                              float64\n",
       "Class                                                               int64\n",
       "dtype: object"
      ]
     },
     "execution_count": 14,
     "metadata": {},
     "output_type": "execute_result"
    }
   ],
   "source": [
    "df1.dtypes"
   ]
  },
  {
   "cell_type": "markdown",
   "metadata": {
    "heading_collapsed": true,
    "hidden": true
   },
   "source": [
    "## 1.3. Check NA"
   ]
  },
  {
   "cell_type": "code",
   "execution_count": 15,
   "metadata": {
    "ExecuteTime": {
     "end_time": "2022-04-06T12:58:14.026245Z",
     "start_time": "2022-04-06T12:58:13.981043Z"
    },
    "hidden": true,
    "hide_input": false
   },
   "outputs": [
    {
     "data": {
      "text/plain": [
       "Resultado Bruto                                                   3\n",
       "Receitas Financeiras                                              3\n",
       "Receita Líquida de Vendas e/ou Serviços                           3\n",
       "Custo de Bens e/ou Serviços Vendidos                              3\n",
       "Despesas Com Vendas                                               3\n",
       "Despesas Gerais e Administrativas                                 3\n",
       "Perdas pela Não Recuperabilidade de Ativos                        3\n",
       "Outras Receitas Operacionais                                      3\n",
       "Resultado da Equivalência Patrimonial                             3\n",
       "Financeiras                                                       3\n",
       "Outras Despesas Operacionais                                      3\n",
       "Despesas Financeiras                                              3\n",
       "Resultado Antes Tributação/Participações                          3\n",
       "Provisão para IR e Contribuição Social                            3\n",
       "IR Diferido                                                       3\n",
       "Lucro/Prejuízo do Período                                         3\n",
       "Reservas de Lucros                                                0\n",
       "Passivos sobre Ativos Não-Correntes a Venda e Descontinuados      0\n",
       "Lucros e Receitas a Apropriar                                     0\n",
       "Provisões                                                         0\n",
       "Adiantamento para Futuro Aumento Capital_1                        0\n",
       "Participação dos Acionistas Não Controladores                     0\n",
       "Patrimônio Líquido                                                0\n",
       "Capital Social Realizado                                          0\n",
       "Reservas de Capital                                               0\n",
       "Reservas de Reavaliação                                           0\n",
       "Ativo Total                                                       0\n",
       "Lucros/Prejuízos Acumulados                                       0\n",
       "Ajustes de Avaliação Patrimonial                                  0\n",
       "Ajustes Acumulados de Conversão                                   0\n",
       "Outros Resultados Abrangentes                                     0\n",
       "Adiantamento para Futuro Aumento Capital                          0\n",
       "Outros                                                            0\n",
       "Adj Close                                                         0\n",
       "Company                                                           0\n",
       "Perc                                                              0\n",
       "Tributos Diferidos                                                0\n",
       "Passivos com Partes Relacionadas                                  0\n",
       "Ativo Circulante                                                  0\n",
       "Créditos com Partes Relacionadas                                  0\n",
       "Tributos Diferidos_1                                              0\n",
       "Ativos Biológicos                                                 0\n",
       "Estoques                                                          0\n",
       "Contas a Receber                                                  0\n",
       "Aplicações Financeiras Avaliadas ao Custo Amortizado              0\n",
       "Aplicações Financeiras Avaliadas a Valor Justo                    0\n",
       "Ativo Realizável a Longo Prazo                                    0\n",
       "Outros Ativos Circulantes                                         0\n",
       "Despesas Antecipadas_1                                            0\n",
       "Tributos a Recuperar                                              0\n",
       "Ativos Biológicos_1                                               0\n",
       "Estoques_1                                                        0\n",
       "Contas a Receber_1                                                0\n",
       "Aplicações Financeiras                                            0\n",
       "Caixa e Equivalentes de Caixa                                     0\n",
       "Despesas Antecipadas                                              0\n",
       "Outros Ativos Não Circulantes                                     0\n",
       "Empréstimos e Financiamentos                                      0\n",
       "Investimentos                                                     0\n",
       "Passivo Não Circulante                                            0\n",
       "Passivos sobre Ativos Não-Correntes a Venda e Descontinuados_1    0\n",
       "Provisões_1                                                       0\n",
       "Outros_1                                                          0\n",
       "Dividendos e JCP a Pagar                                          0\n",
       "Passivos com Partes Relacionadas_1                                0\n",
       "Empréstimos e Financiamentos_1                                    0\n",
       "Obrigações Fiscais                                                0\n",
       "Fornecedores                                                      0\n",
       "Obrigações Sociais e Trabalhistas                                 0\n",
       "Passivo Circulante                                                0\n",
       "Passivo Total                                                     0\n",
       "Diferido                                                          0\n",
       "Intangível                                                        0\n",
       "Imobilizado                                                       0\n",
       "Class                                                             0\n",
       "dtype: int64"
      ]
     },
     "execution_count": 15,
     "metadata": {},
     "output_type": "execute_result"
    }
   ],
   "source": [
    "df1.isna().sum().sort_values( ascending=False )"
   ]
  },
  {
   "cell_type": "markdown",
   "metadata": {
    "heading_collapsed": true,
    "hidden": true
   },
   "source": [
    "## 1.4. Fillout Na"
   ]
  },
  {
   "cell_type": "code",
   "execution_count": 16,
   "metadata": {
    "ExecuteTime": {
     "end_time": "2022-04-06T12:58:32.190108Z",
     "start_time": "2022-04-06T12:58:32.157370Z"
    },
    "hidden": true
   },
   "outputs": [],
   "source": [
    "df1.fillna( 0, inplace=True )"
   ]
  },
  {
   "cell_type": "markdown",
   "metadata": {
    "heading_collapsed": true,
    "hidden": true
   },
   "source": [
    "## 1.5. Descriptive Statistical\n",
    "\n",
    "We will use two types of analysis:\n",
    "\n",
    "- Central tendency\n",
    "    - average\n",
    "    - median\n",
    "- Dispersion \n",
    "    - std - standard deviation\n",
    "    - min\n",
    "    - max\n",
    "    - range\n",
    "    - skew\n",
    "    - kurtosis"
   ]
  },
  {
   "cell_type": "code",
   "execution_count": 17,
   "metadata": {
    "ExecuteTime": {
     "end_time": "2022-04-06T12:58:39.630480Z",
     "start_time": "2022-04-06T12:58:38.972648Z"
    },
    "hidden": true,
    "hide_input": false,
    "scrolled": false
   },
   "outputs": [
    {
     "data": {
      "text/html": [
       "<div>\n",
       "<style scoped>\n",
       "    .dataframe tbody tr th:only-of-type {\n",
       "        vertical-align: middle;\n",
       "    }\n",
       "\n",
       "    .dataframe tbody tr th {\n",
       "        vertical-align: top;\n",
       "    }\n",
       "\n",
       "    .dataframe thead th {\n",
       "        text-align: right;\n",
       "    }\n",
       "</style>\n",
       "<table border=\"1\" class=\"dataframe\">\n",
       "  <thead>\n",
       "    <tr style=\"text-align: right;\">\n",
       "      <th></th>\n",
       "      <th>attributes</th>\n",
       "      <th>min</th>\n",
       "      <th>max</th>\n",
       "      <th>range</th>\n",
       "      <th>mean</th>\n",
       "      <th>median</th>\n",
       "      <th>std</th>\n",
       "      <th>skew</th>\n",
       "      <th>kurtosis</th>\n",
       "    </tr>\n",
       "  </thead>\n",
       "  <tbody>\n",
       "    <tr>\n",
       "      <th>0</th>\n",
       "      <td>Ativo Total</td>\n",
       "      <td>0.00</td>\n",
       "      <td>1015142023.17</td>\n",
       "      <td>1015142023.17</td>\n",
       "      <td>16034854.21</td>\n",
       "      <td>2831757.44</td>\n",
       "      <td>67503428.35</td>\n",
       "      <td>10.29</td>\n",
       "      <td>121.13</td>\n",
       "    </tr>\n",
       "    <tr>\n",
       "      <th>1</th>\n",
       "      <td>Ativo Circulante</td>\n",
       "      <td>0.00</td>\n",
       "      <td>292852989.95</td>\n",
       "      <td>292852989.95</td>\n",
       "      <td>4420517.43</td>\n",
       "      <td>877996.03</td>\n",
       "      <td>14552441.06</td>\n",
       "      <td>9.11</td>\n",
       "      <td>107.88</td>\n",
       "    </tr>\n",
       "    <tr>\n",
       "      <th>2</th>\n",
       "      <td>Caixa e Equivalentes de Caixa</td>\n",
       "      <td>-30.00</td>\n",
       "      <td>106597998.59</td>\n",
       "      <td>106598028.59</td>\n",
       "      <td>1085782.25</td>\n",
       "      <td>95478.00</td>\n",
       "      <td>4963608.69</td>\n",
       "      <td>12.27</td>\n",
       "      <td>179.94</td>\n",
       "    </tr>\n",
       "    <tr>\n",
       "      <th>3</th>\n",
       "      <td>Aplicações Financeiras</td>\n",
       "      <td>0.00</td>\n",
       "      <td>142760001.54</td>\n",
       "      <td>142760001.54</td>\n",
       "      <td>637934.24</td>\n",
       "      <td>7379.00</td>\n",
       "      <td>3965626.77</td>\n",
       "      <td>24.60</td>\n",
       "      <td>740.04</td>\n",
       "    </tr>\n",
       "    <tr>\n",
       "      <th>4</th>\n",
       "      <td>Contas a Receber_1</td>\n",
       "      <td>0.00</td>\n",
       "      <td>115283001.34</td>\n",
       "      <td>115283001.34</td>\n",
       "      <td>1106478.90</td>\n",
       "      <td>232051.00</td>\n",
       "      <td>3904960.32</td>\n",
       "      <td>14.96</td>\n",
       "      <td>306.56</td>\n",
       "    </tr>\n",
       "    <tr>\n",
       "      <th>5</th>\n",
       "      <td>Estoques_1</td>\n",
       "      <td>-968.00</td>\n",
       "      <td>39729999.87</td>\n",
       "      <td>39730967.87</td>\n",
       "      <td>759040.79</td>\n",
       "      <td>36021.00</td>\n",
       "      <td>2863192.39</td>\n",
       "      <td>7.88</td>\n",
       "      <td>76.34</td>\n",
       "    </tr>\n",
       "    <tr>\n",
       "      <th>6</th>\n",
       "      <td>Ativos Biológicos_1</td>\n",
       "      <td>0.00</td>\n",
       "      <td>6490744.83</td>\n",
       "      <td>6490744.83</td>\n",
       "      <td>15806.48</td>\n",
       "      <td>0.00</td>\n",
       "      <td>181834.84</td>\n",
       "      <td>18.29</td>\n",
       "      <td>437.44</td>\n",
       "    </tr>\n",
       "    <tr>\n",
       "      <th>7</th>\n",
       "      <td>Tributos a Recuperar</td>\n",
       "      <td>0.00</td>\n",
       "      <td>29788000.26</td>\n",
       "      <td>29788000.26</td>\n",
       "      <td>232932.57</td>\n",
       "      <td>18561.22</td>\n",
       "      <td>1021374.34</td>\n",
       "      <td>11.71</td>\n",
       "      <td>197.40</td>\n",
       "    </tr>\n",
       "    <tr>\n",
       "      <th>8</th>\n",
       "      <td>Despesas Antecipadas_1</td>\n",
       "      <td>0.00</td>\n",
       "      <td>2270287.10</td>\n",
       "      <td>2270287.10</td>\n",
       "      <td>17277.19</td>\n",
       "      <td>0.00</td>\n",
       "      <td>101778.04</td>\n",
       "      <td>12.79</td>\n",
       "      <td>200.58</td>\n",
       "    </tr>\n",
       "    <tr>\n",
       "      <th>9</th>\n",
       "      <td>Outros Ativos Circulantes</td>\n",
       "      <td>-85.00</td>\n",
       "      <td>56051998.72</td>\n",
       "      <td>56052083.72</td>\n",
       "      <td>565111.92</td>\n",
       "      <td>25194.00</td>\n",
       "      <td>2666508.27</td>\n",
       "      <td>8.46</td>\n",
       "      <td>88.83</td>\n",
       "    </tr>\n",
       "    <tr>\n",
       "      <th>10</th>\n",
       "      <td>Ativo Realizável a Longo Prazo</td>\n",
       "      <td>0.00</td>\n",
       "      <td>139095015.42</td>\n",
       "      <td>139095015.42</td>\n",
       "      <td>2635055.25</td>\n",
       "      <td>253514.50</td>\n",
       "      <td>9518887.28</td>\n",
       "      <td>7.50</td>\n",
       "      <td>65.01</td>\n",
       "    </tr>\n",
       "    <tr>\n",
       "      <th>11</th>\n",
       "      <td>Aplicações Financeiras Avaliadas a Valor Justo</td>\n",
       "      <td>0.00</td>\n",
       "      <td>67336998.91</td>\n",
       "      <td>67336998.91</td>\n",
       "      <td>71305.36</td>\n",
       "      <td>0.00</td>\n",
       "      <td>1375276.82</td>\n",
       "      <td>38.89</td>\n",
       "      <td>1597.70</td>\n",
       "    </tr>\n",
       "    <tr>\n",
       "      <th>12</th>\n",
       "      <td>Aplicações Financeiras Avaliadas ao Custo Amor...</td>\n",
       "      <td>0.00</td>\n",
       "      <td>6924444.16</td>\n",
       "      <td>6924444.16</td>\n",
       "      <td>20066.29</td>\n",
       "      <td>0.00</td>\n",
       "      <td>170496.97</td>\n",
       "      <td>16.19</td>\n",
       "      <td>375.69</td>\n",
       "    </tr>\n",
       "    <tr>\n",
       "      <th>13</th>\n",
       "      <td>Contas a Receber</td>\n",
       "      <td>0.00</td>\n",
       "      <td>54088998.91</td>\n",
       "      <td>54088998.91</td>\n",
       "      <td>174315.42</td>\n",
       "      <td>0.00</td>\n",
       "      <td>1600811.77</td>\n",
       "      <td>25.14</td>\n",
       "      <td>767.65</td>\n",
       "    </tr>\n",
       "    <tr>\n",
       "      <th>14</th>\n",
       "      <td>Estoques</td>\n",
       "      <td>-99.00</td>\n",
       "      <td>21280999.42</td>\n",
       "      <td>21281098.42</td>\n",
       "      <td>100086.57</td>\n",
       "      <td>0.00</td>\n",
       "      <td>831556.98</td>\n",
       "      <td>17.61</td>\n",
       "      <td>346.51</td>\n",
       "    </tr>\n",
       "    <tr>\n",
       "      <th>15</th>\n",
       "      <td>Ativos Biológicos</td>\n",
       "      <td>0.00</td>\n",
       "      <td>4860580.86</td>\n",
       "      <td>4860580.86</td>\n",
       "      <td>57631.22</td>\n",
       "      <td>0.00</td>\n",
       "      <td>386472.63</td>\n",
       "      <td>8.67</td>\n",
       "      <td>80.48</td>\n",
       "    </tr>\n",
       "    <tr>\n",
       "      <th>16</th>\n",
       "      <td>Tributos Diferidos_1</td>\n",
       "      <td>0.00</td>\n",
       "      <td>34507001.86</td>\n",
       "      <td>34507001.86</td>\n",
       "      <td>337421.30</td>\n",
       "      <td>0.00</td>\n",
       "      <td>1820417.27</td>\n",
       "      <td>10.90</td>\n",
       "      <td>143.47</td>\n",
       "    </tr>\n",
       "    <tr>\n",
       "      <th>17</th>\n",
       "      <td>Despesas Antecipadas</td>\n",
       "      <td>0.00</td>\n",
       "      <td>73057001.47</td>\n",
       "      <td>73057001.47</td>\n",
       "      <td>208276.83</td>\n",
       "      <td>0.00</td>\n",
       "      <td>2245950.38</td>\n",
       "      <td>22.53</td>\n",
       "      <td>582.96</td>\n",
       "    </tr>\n",
       "    <tr>\n",
       "      <th>18</th>\n",
       "      <td>Créditos com Partes Relacionadas</td>\n",
       "      <td>-1.00</td>\n",
       "      <td>8796201.98</td>\n",
       "      <td>8796202.98</td>\n",
       "      <td>28124.68</td>\n",
       "      <td>0.00</td>\n",
       "      <td>251065.28</td>\n",
       "      <td>25.88</td>\n",
       "      <td>797.06</td>\n",
       "    </tr>\n",
       "    <tr>\n",
       "      <th>19</th>\n",
       "      <td>Outros Ativos Não Circulantes</td>\n",
       "      <td>0.00</td>\n",
       "      <td>85537456.13</td>\n",
       "      <td>85537456.13</td>\n",
       "      <td>940413.61</td>\n",
       "      <td>16647.50</td>\n",
       "      <td>5100588.74</td>\n",
       "      <td>11.25</td>\n",
       "      <td>143.93</td>\n",
       "    </tr>\n",
       "    <tr>\n",
       "      <th>20</th>\n",
       "      <td>Investimentos</td>\n",
       "      <td>-37260.00</td>\n",
       "      <td>61331001.34</td>\n",
       "      <td>61368261.34</td>\n",
       "      <td>953668.80</td>\n",
       "      <td>6710.00</td>\n",
       "      <td>4133268.02</td>\n",
       "      <td>7.85</td>\n",
       "      <td>76.04</td>\n",
       "    </tr>\n",
       "    <tr>\n",
       "      <th>21</th>\n",
       "      <td>Imobilizado</td>\n",
       "      <td>0.00</td>\n",
       "      <td>709226987.52</td>\n",
       "      <td>709226987.52</td>\n",
       "      <td>6198202.53</td>\n",
       "      <td>179386.50</td>\n",
       "      <td>43250935.88</td>\n",
       "      <td>12.28</td>\n",
       "      <td>161.42</td>\n",
       "    </tr>\n",
       "    <tr>\n",
       "      <th>22</th>\n",
       "      <td>Intangível</td>\n",
       "      <td>0.00</td>\n",
       "      <td>83513065.47</td>\n",
       "      <td>83513065.47</td>\n",
       "      <td>1827132.98</td>\n",
       "      <td>67930.00</td>\n",
       "      <td>5923230.25</td>\n",
       "      <td>7.64</td>\n",
       "      <td>79.44</td>\n",
       "    </tr>\n",
       "    <tr>\n",
       "      <th>23</th>\n",
       "      <td>Diferido</td>\n",
       "      <td>0.00</td>\n",
       "      <td>0.00</td>\n",
       "      <td>0.00</td>\n",
       "      <td>0.00</td>\n",
       "      <td>0.00</td>\n",
       "      <td>0.00</td>\n",
       "      <td>0.00</td>\n",
       "      <td>0.00</td>\n",
       "    </tr>\n",
       "    <tr>\n",
       "      <th>24</th>\n",
       "      <td>Passivo Total</td>\n",
       "      <td>0.00</td>\n",
       "      <td>1015142023.17</td>\n",
       "      <td>1015142023.17</td>\n",
       "      <td>16034693.41</td>\n",
       "      <td>2831757.44</td>\n",
       "      <td>67503465.19</td>\n",
       "      <td>10.29</td>\n",
       "      <td>121.13</td>\n",
       "    </tr>\n",
       "    <tr>\n",
       "      <th>25</th>\n",
       "      <td>Passivo Circulante</td>\n",
       "      <td>0.00</td>\n",
       "      <td>270185988.10</td>\n",
       "      <td>270185988.10</td>\n",
       "      <td>3101478.08</td>\n",
       "      <td>618020.99</td>\n",
       "      <td>10630538.55</td>\n",
       "      <td>10.74</td>\n",
       "      <td>168.15</td>\n",
       "    </tr>\n",
       "    <tr>\n",
       "      <th>26</th>\n",
       "      <td>Obrigações Sociais e Trabalhistas</td>\n",
       "      <td>0.00</td>\n",
       "      <td>10609000.45</td>\n",
       "      <td>10609000.45</td>\n",
       "      <td>125527.53</td>\n",
       "      <td>20344.50</td>\n",
       "      <td>528135.55</td>\n",
       "      <td>11.06</td>\n",
       "      <td>148.73</td>\n",
       "    </tr>\n",
       "    <tr>\n",
       "      <th>27</th>\n",
       "      <td>Fornecedores</td>\n",
       "      <td>0.00</td>\n",
       "      <td>67991576.58</td>\n",
       "      <td>67991576.58</td>\n",
       "      <td>875711.22</td>\n",
       "      <td>72890.00</td>\n",
       "      <td>3169530.61</td>\n",
       "      <td>10.08</td>\n",
       "      <td>150.61</td>\n",
       "    </tr>\n",
       "    <tr>\n",
       "      <th>28</th>\n",
       "      <td>Obrigações Fiscais</td>\n",
       "      <td>0.00</td>\n",
       "      <td>12521621.50</td>\n",
       "      <td>12521621.50</td>\n",
       "      <td>168834.80</td>\n",
       "      <td>27905.00</td>\n",
       "      <td>614482.32</td>\n",
       "      <td>11.34</td>\n",
       "      <td>173.46</td>\n",
       "    </tr>\n",
       "    <tr>\n",
       "      <th>29</th>\n",
       "      <td>Empréstimos e Financiamentos_1</td>\n",
       "      <td>0.00</td>\n",
       "      <td>68367998.98</td>\n",
       "      <td>68367998.98</td>\n",
       "      <td>852181.17</td>\n",
       "      <td>159595.01</td>\n",
       "      <td>3299279.16</td>\n",
       "      <td>12.40</td>\n",
       "      <td>186.76</td>\n",
       "    </tr>\n",
       "    <tr>\n",
       "      <th>30</th>\n",
       "      <td>Passivos com Partes Relacionadas_1</td>\n",
       "      <td>-480.00</td>\n",
       "      <td>4449973.25</td>\n",
       "      <td>4450453.25</td>\n",
       "      <td>22484.05</td>\n",
       "      <td>0.00</td>\n",
       "      <td>171396.46</td>\n",
       "      <td>15.32</td>\n",
       "      <td>292.46</td>\n",
       "    </tr>\n",
       "    <tr>\n",
       "      <th>31</th>\n",
       "      <td>Dividendos e JCP a Pagar</td>\n",
       "      <td>-610.00</td>\n",
       "      <td>9526551.55</td>\n",
       "      <td>9527161.55</td>\n",
       "      <td>73967.06</td>\n",
       "      <td>1.00</td>\n",
       "      <td>401138.36</td>\n",
       "      <td>11.70</td>\n",
       "      <td>178.76</td>\n",
       "    </tr>\n",
       "    <tr>\n",
       "      <th>32</th>\n",
       "      <td>Outros_1</td>\n",
       "      <td>-459.00</td>\n",
       "      <td>259707011.07</td>\n",
       "      <td>259707470.07</td>\n",
       "      <td>749502.65</td>\n",
       "      <td>72066.00</td>\n",
       "      <td>5989100.10</td>\n",
       "      <td>30.94</td>\n",
       "      <td>1120.45</td>\n",
       "    </tr>\n",
       "    <tr>\n",
       "      <th>33</th>\n",
       "      <td>Provisões_1</td>\n",
       "      <td>0.00</td>\n",
       "      <td>32110516.22</td>\n",
       "      <td>32110516.22</td>\n",
       "      <td>158109.92</td>\n",
       "      <td>0.00</td>\n",
       "      <td>997843.30</td>\n",
       "      <td>13.57</td>\n",
       "      <td>265.20</td>\n",
       "    </tr>\n",
       "    <tr>\n",
       "      <th>34</th>\n",
       "      <td>Passivos sobre Ativos Não-Correntes a Venda e ...</td>\n",
       "      <td>-2649.00</td>\n",
       "      <td>26140149.76</td>\n",
       "      <td>26142798.76</td>\n",
       "      <td>72326.18</td>\n",
       "      <td>0.00</td>\n",
       "      <td>902137.15</td>\n",
       "      <td>17.70</td>\n",
       "      <td>351.13</td>\n",
       "    </tr>\n",
       "    <tr>\n",
       "      <th>35</th>\n",
       "      <td>Passivo Não Circulante</td>\n",
       "      <td>0.00</td>\n",
       "      <td>625251975.17</td>\n",
       "      <td>625251975.17</td>\n",
       "      <td>6899412.85</td>\n",
       "      <td>731777.50</td>\n",
       "      <td>34623471.40</td>\n",
       "      <td>11.85</td>\n",
       "      <td>160.17</td>\n",
       "    </tr>\n",
       "    <tr>\n",
       "      <th>36</th>\n",
       "      <td>Empréstimos e Financiamentos</td>\n",
       "      <td>0.00</td>\n",
       "      <td>453208014.85</td>\n",
       "      <td>453208014.85</td>\n",
       "      <td>4447026.96</td>\n",
       "      <td>324582.02</td>\n",
       "      <td>24177099.49</td>\n",
       "      <td>12.76</td>\n",
       "      <td>181.70</td>\n",
       "    </tr>\n",
       "    <tr>\n",
       "      <th>37</th>\n",
       "      <td>Passivos com Partes Relacionadas</td>\n",
       "      <td>-41933.00</td>\n",
       "      <td>5355123.20</td>\n",
       "      <td>5397056.20</td>\n",
       "      <td>21736.66</td>\n",
       "      <td>0.00</td>\n",
       "      <td>185471.75</td>\n",
       "      <td>17.68</td>\n",
       "      <td>373.75</td>\n",
       "    </tr>\n",
       "    <tr>\n",
       "      <th>38</th>\n",
       "      <td>Outros</td>\n",
       "      <td>-3937.00</td>\n",
       "      <td>107732000.77</td>\n",
       "      <td>107735937.77</td>\n",
       "      <td>800879.57</td>\n",
       "      <td>68685.00</td>\n",
       "      <td>3447074.84</td>\n",
       "      <td>18.95</td>\n",
       "      <td>519.97</td>\n",
       "    </tr>\n",
       "    <tr>\n",
       "      <th>39</th>\n",
       "      <td>Tributos Diferidos</td>\n",
       "      <td>0.00</td>\n",
       "      <td>45640089.60</td>\n",
       "      <td>45640089.60</td>\n",
       "      <td>339256.69</td>\n",
       "      <td>8498.50</td>\n",
       "      <td>1743050.99</td>\n",
       "      <td>15.58</td>\n",
       "      <td>313.79</td>\n",
       "    </tr>\n",
       "    <tr>\n",
       "      <th>40</th>\n",
       "      <td>Adiantamento para Futuro Aumento Capital_1</td>\n",
       "      <td>0.00</td>\n",
       "      <td>0.00</td>\n",
       "      <td>0.00</td>\n",
       "      <td>0.00</td>\n",
       "      <td>0.00</td>\n",
       "      <td>0.00</td>\n",
       "      <td>0.00</td>\n",
       "      <td>0.00</td>\n",
       "    </tr>\n",
       "    <tr>\n",
       "      <th>41</th>\n",
       "      <td>Provisões</td>\n",
       "      <td>-931.00</td>\n",
       "      <td>195929997.31</td>\n",
       "      <td>195930928.31</td>\n",
       "      <td>1273011.05</td>\n",
       "      <td>41381.00</td>\n",
       "      <td>9676381.34</td>\n",
       "      <td>13.89</td>\n",
       "      <td>222.55</td>\n",
       "    </tr>\n",
       "    <tr>\n",
       "      <th>42</th>\n",
       "      <td>Passivos sobre Ativos Não-Correntes a Venda e ...</td>\n",
       "      <td>0.00</td>\n",
       "      <td>1874525.95</td>\n",
       "      <td>1874525.95</td>\n",
       "      <td>1878.22</td>\n",
       "      <td>0.00</td>\n",
       "      <td>37444.74</td>\n",
       "      <td>27.17</td>\n",
       "      <td>900.59</td>\n",
       "    </tr>\n",
       "    <tr>\n",
       "      <th>43</th>\n",
       "      <td>Lucros e Receitas a Apropriar</td>\n",
       "      <td>0.00</td>\n",
       "      <td>1223000.06</td>\n",
       "      <td>1223000.06</td>\n",
       "      <td>5434.57</td>\n",
       "      <td>0.00</td>\n",
       "      <td>47308.52</td>\n",
       "      <td>11.98</td>\n",
       "      <td>179.50</td>\n",
       "    </tr>\n",
       "    <tr>\n",
       "      <th>44</th>\n",
       "      <td>Participação dos Acionistas Não Controladores</td>\n",
       "      <td>-7277833.22</td>\n",
       "      <td>24392937.47</td>\n",
       "      <td>31670770.69</td>\n",
       "      <td>306634.92</td>\n",
       "      <td>0.00</td>\n",
       "      <td>1500679.93</td>\n",
       "      <td>9.62</td>\n",
       "      <td>110.01</td>\n",
       "    </tr>\n",
       "    <tr>\n",
       "      <th>45</th>\n",
       "      <td>Patrimônio Líquido</td>\n",
       "      <td>-16908829.70</td>\n",
       "      <td>360700016.38</td>\n",
       "      <td>377608846.08</td>\n",
       "      <td>5727303.91</td>\n",
       "      <td>936454.02</td>\n",
       "      <td>25562675.60</td>\n",
       "      <td>9.69</td>\n",
       "      <td>106.64</td>\n",
       "    </tr>\n",
       "    <tr>\n",
       "      <th>46</th>\n",
       "      <td>Capital Social Realizado</td>\n",
       "      <td>-45793.00</td>\n",
       "      <td>205431996.42</td>\n",
       "      <td>205477789.42</td>\n",
       "      <td>3915694.77</td>\n",
       "      <td>590174.02</td>\n",
       "      <td>16809306.84</td>\n",
       "      <td>9.88</td>\n",
       "      <td>110.34</td>\n",
       "    </tr>\n",
       "    <tr>\n",
       "      <th>47</th>\n",
       "      <td>Reservas de Capital</td>\n",
       "      <td>-3940954.88</td>\n",
       "      <td>55776862.21</td>\n",
       "      <td>59717817.09</td>\n",
       "      <td>499738.57</td>\n",
       "      <td>826.00</td>\n",
       "      <td>3288607.83</td>\n",
       "      <td>11.98</td>\n",
       "      <td>170.62</td>\n",
       "    </tr>\n",
       "    <tr>\n",
       "      <th>48</th>\n",
       "      <td>Reservas de Reavaliação</td>\n",
       "      <td>-76508.00</td>\n",
       "      <td>1104690.94</td>\n",
       "      <td>1181198.94</td>\n",
       "      <td>8106.00</td>\n",
       "      <td>0.00</td>\n",
       "      <td>31803.29</td>\n",
       "      <td>7.76</td>\n",
       "      <td>138.94</td>\n",
       "    </tr>\n",
       "    <tr>\n",
       "      <th>49</th>\n",
       "      <td>Reservas de Lucros</td>\n",
       "      <td>-2930988.03</td>\n",
       "      <td>165672992.77</td>\n",
       "      <td>168603980.80</td>\n",
       "      <td>1618812.13</td>\n",
       "      <td>134640.99</td>\n",
       "      <td>9118526.42</td>\n",
       "      <td>11.91</td>\n",
       "      <td>157.15</td>\n",
       "    </tr>\n",
       "    <tr>\n",
       "      <th>50</th>\n",
       "      <td>Lucros/Prejuízos Acumulados</td>\n",
       "      <td>-42335924.22</td>\n",
       "      <td>67024945.15</td>\n",
       "      <td>109360869.38</td>\n",
       "      <td>-219060.13</td>\n",
       "      <td>0.00</td>\n",
       "      <td>2081531.33</td>\n",
       "      <td>-2.53</td>\n",
       "      <td>153.31</td>\n",
       "    </tr>\n",
       "    <tr>\n",
       "      <th>51</th>\n",
       "      <td>Ajustes de Avaliação Patrimonial</td>\n",
       "      <td>-77195952.13</td>\n",
       "      <td>11665770.50</td>\n",
       "      <td>88861722.62</td>\n",
       "      <td>-98404.85</td>\n",
       "      <td>0.00</td>\n",
       "      <td>3406570.39</td>\n",
       "      <td>-20.18</td>\n",
       "      <td>427.36</td>\n",
       "    </tr>\n",
       "    <tr>\n",
       "      <th>52</th>\n",
       "      <td>Ajustes Acumulados de Conversão</td>\n",
       "      <td>-12942515.20</td>\n",
       "      <td>109914480.64</td>\n",
       "      <td>122856995.84</td>\n",
       "      <td>178885.22</td>\n",
       "      <td>0.00</td>\n",
       "      <td>3122902.09</td>\n",
       "      <td>21.00</td>\n",
       "      <td>496.41</td>\n",
       "    </tr>\n",
       "    <tr>\n",
       "      <th>53</th>\n",
       "      <td>Outros Resultados Abrangentes</td>\n",
       "      <td>-52356001.79</td>\n",
       "      <td>3804741.12</td>\n",
       "      <td>56160742.91</td>\n",
       "      <td>-176595.27</td>\n",
       "      <td>0.00</td>\n",
       "      <td>1900992.46</td>\n",
       "      <td>-16.18</td>\n",
       "      <td>306.67</td>\n",
       "    </tr>\n",
       "    <tr>\n",
       "      <th>54</th>\n",
       "      <td>Adiantamento para Futuro Aumento Capital</td>\n",
       "      <td>0.00</td>\n",
       "      <td>0.00</td>\n",
       "      <td>0.00</td>\n",
       "      <td>0.00</td>\n",
       "      <td>0.00</td>\n",
       "      <td>0.00</td>\n",
       "      <td>0.00</td>\n",
       "      <td>0.00</td>\n",
       "    </tr>\n",
       "    <tr>\n",
       "      <th>55</th>\n",
       "      <td>Receita Líquida de Vendas e/ou Serviços</td>\n",
       "      <td>-10510444.54</td>\n",
       "      <td>110709997.57</td>\n",
       "      <td>121220442.11</td>\n",
       "      <td>1886587.38</td>\n",
       "      <td>263436.99</td>\n",
       "      <td>6848565.36</td>\n",
       "      <td>8.82</td>\n",
       "      <td>92.57</td>\n",
       "    </tr>\n",
       "    <tr>\n",
       "      <th>56</th>\n",
       "      <td>Custo de Bens e/ou Serviços Vendidos</td>\n",
       "      <td>-69145960.45</td>\n",
       "      <td>10954998.78</td>\n",
       "      <td>80100959.23</td>\n",
       "      <td>-1324905.47</td>\n",
       "      <td>-157060.54</td>\n",
       "      <td>4783530.17</td>\n",
       "      <td>-8.51</td>\n",
       "      <td>87.09</td>\n",
       "    </tr>\n",
       "    <tr>\n",
       "      <th>57</th>\n",
       "      <td>Resultado Bruto</td>\n",
       "      <td>-10510444.54</td>\n",
       "      <td>57272205.31</td>\n",
       "      <td>67782649.86</td>\n",
       "      <td>561682.21</td>\n",
       "      <td>77227.00</td>\n",
       "      <td>2406746.09</td>\n",
       "      <td>11.12</td>\n",
       "      <td>163.79</td>\n",
       "    </tr>\n",
       "    <tr>\n",
       "      <th>58</th>\n",
       "      <td>Despesas Com Vendas</td>\n",
       "      <td>-6752000.00</td>\n",
       "      <td>2312999.94</td>\n",
       "      <td>9064999.94</td>\n",
       "      <td>-113346.51</td>\n",
       "      <td>-8597.00</td>\n",
       "      <td>440029.37</td>\n",
       "      <td>-7.78</td>\n",
       "      <td>76.09</td>\n",
       "    </tr>\n",
       "    <tr>\n",
       "      <th>59</th>\n",
       "      <td>Despesas Gerais e Administrativas</td>\n",
       "      <td>-22355111.94</td>\n",
       "      <td>8568532.99</td>\n",
       "      <td>30923644.93</td>\n",
       "      <td>-135042.52</td>\n",
       "      <td>-25135.00</td>\n",
       "      <td>680589.72</td>\n",
       "      <td>-14.10</td>\n",
       "      <td>327.96</td>\n",
       "    </tr>\n",
       "    <tr>\n",
       "      <th>60</th>\n",
       "      <td>Perdas pela Não Recuperabilidade de Ativos</td>\n",
       "      <td>-36279488.51</td>\n",
       "      <td>1967107.97</td>\n",
       "      <td>38246596.48</td>\n",
       "      <td>-14560.65</td>\n",
       "      <td>0.00</td>\n",
       "      <td>490478.44</td>\n",
       "      <td>-60.11</td>\n",
       "      <td>4142.49</td>\n",
       "    </tr>\n",
       "    <tr>\n",
       "      <th>61</th>\n",
       "      <td>Outras Receitas Operacionais</td>\n",
       "      <td>-2139256.96</td>\n",
       "      <td>14356123.65</td>\n",
       "      <td>16495380.61</td>\n",
       "      <td>27812.98</td>\n",
       "      <td>326.00</td>\n",
       "      <td>225137.40</td>\n",
       "      <td>27.89</td>\n",
       "      <td>1414.76</td>\n",
       "    </tr>\n",
       "    <tr>\n",
       "      <th>62</th>\n",
       "      <td>Outras Despesas Operacionais</td>\n",
       "      <td>-67882000.38</td>\n",
       "      <td>33997998.08</td>\n",
       "      <td>101879998.46</td>\n",
       "      <td>-103738.22</td>\n",
       "      <td>-1310.00</td>\n",
       "      <td>1441666.67</td>\n",
       "      <td>-27.91</td>\n",
       "      <td>1226.82</td>\n",
       "    </tr>\n",
       "    <tr>\n",
       "      <th>63</th>\n",
       "      <td>Resultado da Equivalência Patrimonial</td>\n",
       "      <td>-3967902.21</td>\n",
       "      <td>5304999.94</td>\n",
       "      <td>9272902.14</td>\n",
       "      <td>17220.14</td>\n",
       "      <td>0.00</td>\n",
       "      <td>197969.40</td>\n",
       "      <td>9.78</td>\n",
       "      <td>200.25</td>\n",
       "    </tr>\n",
       "    <tr>\n",
       "      <th>64</th>\n",
       "      <td>Financeiras</td>\n",
       "      <td>-30748000.26</td>\n",
       "      <td>30179379.20</td>\n",
       "      <td>60927379.46</td>\n",
       "      <td>-103548.42</td>\n",
       "      <td>-7990.00</td>\n",
       "      <td>973975.66</td>\n",
       "      <td>-8.84</td>\n",
       "      <td>430.56</td>\n",
       "    </tr>\n",
       "    <tr>\n",
       "      <th>65</th>\n",
       "      <td>Receitas Financeiras</td>\n",
       "      <td>-9223328.77</td>\n",
       "      <td>28676761.60</td>\n",
       "      <td>37900090.37</td>\n",
       "      <td>111557.02</td>\n",
       "      <td>11433.00</td>\n",
       "      <td>687750.98</td>\n",
       "      <td>20.49</td>\n",
       "      <td>602.71</td>\n",
       "    </tr>\n",
       "    <tr>\n",
       "      <th>66</th>\n",
       "      <td>Despesas Financeiras</td>\n",
       "      <td>-34895237.12</td>\n",
       "      <td>9667000.32</td>\n",
       "      <td>44562237.44</td>\n",
       "      <td>-212960.54</td>\n",
       "      <td>-26097.00</td>\n",
       "      <td>1097200.06</td>\n",
       "      <td>-14.40</td>\n",
       "      <td>320.06</td>\n",
       "    </tr>\n",
       "    <tr>\n",
       "      <th>67</th>\n",
       "      <td>Resultado Antes Tributação/Participações</td>\n",
       "      <td>-66617999.36</td>\n",
       "      <td>74821001.22</td>\n",
       "      <td>141439000.58</td>\n",
       "      <td>136555.20</td>\n",
       "      <td>12378.50</td>\n",
       "      <td>2046147.80</td>\n",
       "      <td>5.39</td>\n",
       "      <td>613.17</td>\n",
       "    </tr>\n",
       "    <tr>\n",
       "      <th>68</th>\n",
       "      <td>Provisão para IR e Contribuição Social</td>\n",
       "      <td>-11397300.22</td>\n",
       "      <td>4843030.02</td>\n",
       "      <td>16240330.24</td>\n",
       "      <td>-40070.12</td>\n",
       "      <td>-1882.00</td>\n",
       "      <td>283813.45</td>\n",
       "      <td>-17.89</td>\n",
       "      <td>612.24</td>\n",
       "    </tr>\n",
       "    <tr>\n",
       "      <th>69</th>\n",
       "      <td>IR Diferido</td>\n",
       "      <td>-19395999.74</td>\n",
       "      <td>17490999.30</td>\n",
       "      <td>36886999.04</td>\n",
       "      <td>2292.83</td>\n",
       "      <td>0.00</td>\n",
       "      <td>528749.57</td>\n",
       "      <td>3.35</td>\n",
       "      <td>678.66</td>\n",
       "    </tr>\n",
       "    <tr>\n",
       "      <th>70</th>\n",
       "      <td>Lucro/Prejuízo do Período</td>\n",
       "      <td>-48523001.86</td>\n",
       "      <td>59889999.87</td>\n",
       "      <td>108413001.73</td>\n",
       "      <td>94755.70</td>\n",
       "      <td>8669.50</td>\n",
       "      <td>1580626.67</td>\n",
       "      <td>5.28</td>\n",
       "      <td>595.32</td>\n",
       "    </tr>\n",
       "    <tr>\n",
       "      <th>71</th>\n",
       "      <td>Adj Close</td>\n",
       "      <td>-47490771946831872.00</td>\n",
       "      <td>4901700146036736.00</td>\n",
       "      <td>52392472092868608.00</td>\n",
       "      <td>-11349745489262.90</td>\n",
       "      <td>10.00</td>\n",
       "      <td>773151031854461.25</td>\n",
       "      <td>-60.67</td>\n",
       "      <td>3728.06</td>\n",
       "    </tr>\n",
       "    <tr>\n",
       "      <th>72</th>\n",
       "      <td>Perc</td>\n",
       "      <td>-1.16</td>\n",
       "      <td>1154.90</td>\n",
       "      <td>1156.07</td>\n",
       "      <td>0.13</td>\n",
       "      <td>0.00</td>\n",
       "      <td>9.38</td>\n",
       "      <td>122.35</td>\n",
       "      <td>15060.05</td>\n",
       "    </tr>\n",
       "    <tr>\n",
       "      <th>73</th>\n",
       "      <td>Class</td>\n",
       "      <td>0.00</td>\n",
       "      <td>1.00</td>\n",
       "      <td>1.00</td>\n",
       "      <td>0.41</td>\n",
       "      <td>0.00</td>\n",
       "      <td>0.49</td>\n",
       "      <td>0.37</td>\n",
       "      <td>-1.86</td>\n",
       "    </tr>\n",
       "  </tbody>\n",
       "</table>\n",
       "</div>"
      ],
      "text/plain": [
       "                                           attributes                   min                 max                range               mean     median                std   skew  kurtosis\n",
       "0                                         Ativo Total                  0.00       1015142023.17        1015142023.17        16034854.21 2831757.44        67503428.35  10.29    121.13\n",
       "1                                    Ativo Circulante                  0.00        292852989.95         292852989.95         4420517.43  877996.03        14552441.06   9.11    107.88\n",
       "2                       Caixa e Equivalentes de Caixa                -30.00        106597998.59         106598028.59         1085782.25   95478.00         4963608.69  12.27    179.94\n",
       "3                              Aplicações Financeiras                  0.00        142760001.54         142760001.54          637934.24    7379.00         3965626.77  24.60    740.04\n",
       "4                                  Contas a Receber_1                  0.00        115283001.34         115283001.34         1106478.90  232051.00         3904960.32  14.96    306.56\n",
       "5                                          Estoques_1               -968.00         39729999.87          39730967.87          759040.79   36021.00         2863192.39   7.88     76.34\n",
       "6                                 Ativos Biológicos_1                  0.00          6490744.83           6490744.83           15806.48       0.00          181834.84  18.29    437.44\n",
       "7                                Tributos a Recuperar                  0.00         29788000.26          29788000.26          232932.57   18561.22         1021374.34  11.71    197.40\n",
       "8                              Despesas Antecipadas_1                  0.00          2270287.10           2270287.10           17277.19       0.00          101778.04  12.79    200.58\n",
       "9                           Outros Ativos Circulantes                -85.00         56051998.72          56052083.72          565111.92   25194.00         2666508.27   8.46     88.83\n",
       "10                     Ativo Realizável a Longo Prazo                  0.00        139095015.42         139095015.42         2635055.25  253514.50         9518887.28   7.50     65.01\n",
       "11     Aplicações Financeiras Avaliadas a Valor Justo                  0.00         67336998.91          67336998.91           71305.36       0.00         1375276.82  38.89   1597.70\n",
       "12  Aplicações Financeiras Avaliadas ao Custo Amor...                  0.00          6924444.16           6924444.16           20066.29       0.00          170496.97  16.19    375.69\n",
       "13                                   Contas a Receber                  0.00         54088998.91          54088998.91          174315.42       0.00         1600811.77  25.14    767.65\n",
       "14                                           Estoques                -99.00         21280999.42          21281098.42          100086.57       0.00          831556.98  17.61    346.51\n",
       "15                                  Ativos Biológicos                  0.00          4860580.86           4860580.86           57631.22       0.00          386472.63   8.67     80.48\n",
       "16                               Tributos Diferidos_1                  0.00         34507001.86          34507001.86          337421.30       0.00         1820417.27  10.90    143.47\n",
       "17                               Despesas Antecipadas                  0.00         73057001.47          73057001.47          208276.83       0.00         2245950.38  22.53    582.96\n",
       "18                   Créditos com Partes Relacionadas                 -1.00          8796201.98           8796202.98           28124.68       0.00          251065.28  25.88    797.06\n",
       "19                      Outros Ativos Não Circulantes                  0.00         85537456.13          85537456.13          940413.61   16647.50         5100588.74  11.25    143.93\n",
       "20                                      Investimentos             -37260.00         61331001.34          61368261.34          953668.80    6710.00         4133268.02   7.85     76.04\n",
       "21                                        Imobilizado                  0.00        709226987.52         709226987.52         6198202.53  179386.50        43250935.88  12.28    161.42\n",
       "22                                         Intangível                  0.00         83513065.47          83513065.47         1827132.98   67930.00         5923230.25   7.64     79.44\n",
       "23                                           Diferido                  0.00                0.00                 0.00               0.00       0.00               0.00   0.00      0.00\n",
       "24                                      Passivo Total                  0.00       1015142023.17        1015142023.17        16034693.41 2831757.44        67503465.19  10.29    121.13\n",
       "25                                 Passivo Circulante                  0.00        270185988.10         270185988.10         3101478.08  618020.99        10630538.55  10.74    168.15\n",
       "26                  Obrigações Sociais e Trabalhistas                  0.00         10609000.45          10609000.45          125527.53   20344.50          528135.55  11.06    148.73\n",
       "27                                       Fornecedores                  0.00         67991576.58          67991576.58          875711.22   72890.00         3169530.61  10.08    150.61\n",
       "28                                 Obrigações Fiscais                  0.00         12521621.50          12521621.50          168834.80   27905.00          614482.32  11.34    173.46\n",
       "29                     Empréstimos e Financiamentos_1                  0.00         68367998.98          68367998.98          852181.17  159595.01         3299279.16  12.40    186.76\n",
       "30                 Passivos com Partes Relacionadas_1               -480.00          4449973.25           4450453.25           22484.05       0.00          171396.46  15.32    292.46\n",
       "31                           Dividendos e JCP a Pagar               -610.00          9526551.55           9527161.55           73967.06       1.00          401138.36  11.70    178.76\n",
       "32                                           Outros_1               -459.00        259707011.07         259707470.07          749502.65   72066.00         5989100.10  30.94   1120.45\n",
       "33                                        Provisões_1                  0.00         32110516.22          32110516.22          158109.92       0.00          997843.30  13.57    265.20\n",
       "34  Passivos sobre Ativos Não-Correntes a Venda e ...              -2649.00         26140149.76          26142798.76           72326.18       0.00          902137.15  17.70    351.13\n",
       "35                             Passivo Não Circulante                  0.00        625251975.17         625251975.17         6899412.85  731777.50        34623471.40  11.85    160.17\n",
       "36                       Empréstimos e Financiamentos                  0.00        453208014.85         453208014.85         4447026.96  324582.02        24177099.49  12.76    181.70\n",
       "37                   Passivos com Partes Relacionadas             -41933.00          5355123.20           5397056.20           21736.66       0.00          185471.75  17.68    373.75\n",
       "38                                             Outros              -3937.00        107732000.77         107735937.77          800879.57   68685.00         3447074.84  18.95    519.97\n",
       "39                                 Tributos Diferidos                  0.00         45640089.60          45640089.60          339256.69    8498.50         1743050.99  15.58    313.79\n",
       "40         Adiantamento para Futuro Aumento Capital_1                  0.00                0.00                 0.00               0.00       0.00               0.00   0.00      0.00\n",
       "41                                          Provisões               -931.00        195929997.31         195930928.31         1273011.05   41381.00         9676381.34  13.89    222.55\n",
       "42  Passivos sobre Ativos Não-Correntes a Venda e ...                  0.00          1874525.95           1874525.95            1878.22       0.00           37444.74  27.17    900.59\n",
       "43                      Lucros e Receitas a Apropriar                  0.00          1223000.06           1223000.06            5434.57       0.00           47308.52  11.98    179.50\n",
       "44      Participação dos Acionistas Não Controladores           -7277833.22         24392937.47          31670770.69          306634.92       0.00         1500679.93   9.62    110.01\n",
       "45                                 Patrimônio Líquido          -16908829.70        360700016.38         377608846.08         5727303.91  936454.02        25562675.60   9.69    106.64\n",
       "46                           Capital Social Realizado             -45793.00        205431996.42         205477789.42         3915694.77  590174.02        16809306.84   9.88    110.34\n",
       "47                                Reservas de Capital           -3940954.88         55776862.21          59717817.09          499738.57     826.00         3288607.83  11.98    170.62\n",
       "48                            Reservas de Reavaliação             -76508.00          1104690.94           1181198.94            8106.00       0.00           31803.29   7.76    138.94\n",
       "49                                 Reservas de Lucros           -2930988.03        165672992.77         168603980.80         1618812.13  134640.99         9118526.42  11.91    157.15\n",
       "50                        Lucros/Prejuízos Acumulados          -42335924.22         67024945.15         109360869.38         -219060.13       0.00         2081531.33  -2.53    153.31\n",
       "51                   Ajustes de Avaliação Patrimonial          -77195952.13         11665770.50          88861722.62          -98404.85       0.00         3406570.39 -20.18    427.36\n",
       "52                    Ajustes Acumulados de Conversão          -12942515.20        109914480.64         122856995.84          178885.22       0.00         3122902.09  21.00    496.41\n",
       "53                      Outros Resultados Abrangentes          -52356001.79          3804741.12          56160742.91         -176595.27       0.00         1900992.46 -16.18    306.67\n",
       "54           Adiantamento para Futuro Aumento Capital                  0.00                0.00                 0.00               0.00       0.00               0.00   0.00      0.00\n",
       "55            Receita Líquida de Vendas e/ou Serviços          -10510444.54        110709997.57         121220442.11         1886587.38  263436.99         6848565.36   8.82     92.57\n",
       "56               Custo de Bens e/ou Serviços Vendidos          -69145960.45         10954998.78          80100959.23        -1324905.47 -157060.54         4783530.17  -8.51     87.09\n",
       "57                                    Resultado Bruto          -10510444.54         57272205.31          67782649.86          561682.21   77227.00         2406746.09  11.12    163.79\n",
       "58                                Despesas Com Vendas           -6752000.00          2312999.94           9064999.94         -113346.51   -8597.00          440029.37  -7.78     76.09\n",
       "59                  Despesas Gerais e Administrativas          -22355111.94          8568532.99          30923644.93         -135042.52  -25135.00          680589.72 -14.10    327.96\n",
       "60        Perdas pela Não Recuperabilidade de Ativos           -36279488.51          1967107.97          38246596.48          -14560.65       0.00          490478.44 -60.11   4142.49\n",
       "61                       Outras Receitas Operacionais           -2139256.96         14356123.65          16495380.61           27812.98     326.00          225137.40  27.89   1414.76\n",
       "62                       Outras Despesas Operacionais          -67882000.38         33997998.08         101879998.46         -103738.22   -1310.00         1441666.67 -27.91   1226.82\n",
       "63              Resultado da Equivalência Patrimonial           -3967902.21          5304999.94           9272902.14           17220.14       0.00          197969.40   9.78    200.25\n",
       "64                                        Financeiras          -30748000.26         30179379.20          60927379.46         -103548.42   -7990.00          973975.66  -8.84    430.56\n",
       "65                               Receitas Financeiras           -9223328.77         28676761.60          37900090.37          111557.02   11433.00          687750.98  20.49    602.71\n",
       "66                               Despesas Financeiras          -34895237.12          9667000.32          44562237.44         -212960.54  -26097.00         1097200.06 -14.40    320.06\n",
       "67           Resultado Antes Tributação/Participações          -66617999.36         74821001.22         141439000.58          136555.20   12378.50         2046147.80   5.39    613.17\n",
       "68             Provisão para IR e Contribuição Social          -11397300.22          4843030.02          16240330.24          -40070.12   -1882.00          283813.45 -17.89    612.24\n",
       "69                                        IR Diferido          -19395999.74         17490999.30          36886999.04            2292.83       0.00          528749.57   3.35    678.66\n",
       "70                          Lucro/Prejuízo do Período          -48523001.86         59889999.87         108413001.73           94755.70    8669.50         1580626.67   5.28    595.32\n",
       "71                                          Adj Close -47490771946831872.00 4901700146036736.00 52392472092868608.00 -11349745489262.90      10.00 773151031854461.25 -60.67   3728.06\n",
       "72                                               Perc                 -1.16             1154.90              1156.07               0.13       0.00               9.38 122.35  15060.05\n",
       "73                                              Class                  0.00                1.00                 1.00               0.41       0.00               0.49   0.37     -1.86"
      ]
     },
     "execution_count": 17,
     "metadata": {},
     "output_type": "execute_result"
    }
   ],
   "source": [
    "num_attributes = df1.select_dtypes( include=['int64', 'float64'] )\n",
    "\n",
    "# Central Tendency - mean, median\n",
    "ct1 = pd.DataFrame( num_attributes.apply( np.mean ) ).T\n",
    "ct2 = pd.DataFrame( num_attributes.apply( np.median ) ).T\n",
    "\n",
    "# Dispersion - std, min, max, range, skew, kurtosis\n",
    "d1 = pd.DataFrame( num_attributes.apply( np.std ) ).T\n",
    "d2 = pd.DataFrame( num_attributes.apply( min ) ).T\n",
    "d3 = pd.DataFrame( num_attributes.apply( max ) ).T\n",
    "d4 = pd.DataFrame( num_attributes.apply( lambda x: x.max() - x.min() ) ).T\n",
    "d5 = pd.DataFrame( num_attributes.apply( lambda x: x.skew() ) ).T\n",
    "d6 = pd.DataFrame( num_attributes.apply( lambda x: x.kurtosis() ) ).T\n",
    "\n",
    "# concat\n",
    "m = pd.concat( [d2, d3, d4, ct1, ct2, d1, d5, d6] ).T.reset_index()\n",
    "m.columns = ['attributes', 'min', 'max', 'range', 'mean', 'median', 'std', 'skew', 'kurtosis']\n",
    "m"
   ]
  },
  {
   "cell_type": "markdown",
   "metadata": {
    "hidden": true
   },
   "source": [
    "It seems that some lines have abnormal values, and this may affect the performance of our models. So, let's check which lines have these values, to eliminate them later."
   ]
  },
  {
   "cell_type": "code",
   "execution_count": 179,
   "metadata": {
    "hidden": true
   },
   "outputs": [
    {
     "data": {
      "text/plain": [
       "'MMAQ3'"
      ]
     },
     "execution_count": 179,
     "metadata": {},
     "output_type": "execute_result"
    }
   ],
   "source": [
    "list( df1.loc[df1['Adj Close'] == df1['Adj Close'].min(), 'Company'] )[0] "
   ]
  },
  {
   "cell_type": "code",
   "execution_count": 180,
   "metadata": {
    "hidden": true
   },
   "outputs": [
    {
     "data": {
      "text/plain": [
       "'MMAQ3'"
      ]
     },
     "execution_count": 180,
     "metadata": {},
     "output_type": "execute_result"
    }
   ],
   "source": [
    "list( df1.loc[df1['Adj Close'] == df1['Adj Close'].max(), 'Company'] )[0]"
   ]
  },
  {
   "cell_type": "markdown",
   "metadata": {
    "hidden": true
   },
   "source": [
    "**The Company *MMAQ3* has abnormal values, and will be excluded from the dataset in section 3.0.**"
   ]
  },
  {
   "cell_type": "markdown",
   "metadata": {
    "heading_collapsed": true
   },
   "source": [
    "# 2.0. Feature Engineering"
   ]
  },
  {
   "cell_type": "code",
   "execution_count": 18,
   "metadata": {
    "ExecuteTime": {
     "end_time": "2022-04-06T12:59:03.998244Z",
     "start_time": "2022-04-06T12:59:03.965505Z"
    },
    "hidden": true,
    "hide_input": false
   },
   "outputs": [],
   "source": [
    "df2 = df1.copy()"
   ]
  },
  {
   "cell_type": "code",
   "execution_count": 19,
   "metadata": {
    "ExecuteTime": {
     "end_time": "2022-04-06T12:59:09.113393Z",
     "start_time": "2022-04-06T12:59:08.962130Z"
    },
    "hidden": true
   },
   "outputs": [],
   "source": [
    "# Reading the dataset of the number of papers available\n",
    "df_qnt = pd.read_csv( 'Data/quantity.csv' )\n",
    "\n",
    "# merge\n",
    "df2 = pd.merge( df2, df_qnt, how='inner', on=['Company'] )\n",
    "\n",
    "# change data type\n",
    "df2['quantity'] = df2['quantity'].astype( 'int64' )"
   ]
  },
  {
   "cell_type": "code",
   "execution_count": 20,
   "metadata": {
    "ExecuteTime": {
     "end_time": "2022-04-06T12:59:28.941055Z",
     "start_time": "2022-04-06T12:59:23.165653Z"
    },
    "hidden": true
   },
   "outputs": [],
   "source": [
    "# Liquidez Corrente\n",
    "df2['Liquidez Corrente'] = df2[['Ativo Circulante', 'Passivo Circulante']].apply( lambda x: 0 if x['Passivo Circulante'] == 0 \n",
    "                                                                else x['Ativo Circulante'] / x['Passivo Circulante'], axis=1 )\n",
    "# LPA\n",
    "df2['LPA'] = df2['Lucro/Prejuízo do Período'] / df2['quantity'] \n",
    "\n",
    "# P/L\n",
    "df2['P/L'] = df2[['Adj Close', 'LPA']].apply( lambda x: 0 if x['LPA'] == 0 else x['Adj Close'] / x['LPA'], axis=1 )\n",
    "\n",
    "# VPA\n",
    "df2['VPA'] = df2['Patrimônio Líquido'] / df2['quantity']\n",
    "\n",
    "# P/VP \n",
    "df2['P/VP'] = df2[['Adj Close', 'VPA']].apply( lambda x: 0 if x['VPA'] == 0 else x['Adj Close'] / x['VPA'], axis=1 )\n",
    "\n",
    "# EBIT\n",
    "df2['EBIT'] = df2['Receita Líquida de Vendas e/ou Serviços'] - df2['Custo de Bens e/ou Serviços Vendidos'] - ( df2['Despesas Com Vendas'] + df2['Despesas Gerais e Administrativas'] )\n",
    "\n",
    "# EV/EBIT\n",
    "df2['EV/EBIT'] = df2[['Adj Close', 'quantity', 'Empréstimos e Financiamentos_1', 'Ativo Circulante', 'EBIT']].apply( lambda x: 0 \n",
    "                                                    if x['EBIT'] == 0 else ( ( x['Adj Close'] * x['quantity'] ) \n",
    "                                                                            + ( x['Empréstimos e Financiamentos_1'] \n",
    "                                                                            - x['Ativo Circulante'] ) ) \n",
    "                                                                            / x['EBIT'] , axis=1 )\n",
    "# NOPLAT\n",
    "df2['NOPLAT'] = df2['EBIT'] - df2['IR Diferido']\n",
    "\n",
    "# ROIC\n",
    "df2['ROIC'] = df2[['NOPLAT', 'Investimentos']].apply( lambda x: 0 if x['Investimentos'] == 0 else x['NOPLAT'] / x['Investimentos'], axis=1 )\n",
    "\n",
    "# ROE\n",
    "df2['ROE'] = df2[['Reservas de Lucros', 'Patrimônio Líquido']].apply( lambda x: 0 \n",
    "                                                if x['Patrimônio Líquido'] == 0 \n",
    "                                                else x['Reservas de Lucros'] / x['Patrimônio Líquido'], axis=1 )\n",
    "\n",
    "# Pay-Out\n",
    "df2['Pay-Out'] = df2[['Dividendos e JCP a Pagar', 'Lucro/Prejuízo do Período']].apply( lambda x: 0 \n",
    "                                   if x['Lucro/Prejuízo do Período'] == 0 \n",
    "                                   else ( x['Dividendos e JCP a Pagar'] / x['Lucro/Prejuízo do Período'] ) * 100, axis=1 )\n",
    "\n",
    "# Dividend Yield\n",
    "df2['Dividend Yield'] = ( ( df2['Dividendos e JCP a Pagar'] / df2['quantity'] ) / df2['Adj Close'] ) * 100\n",
    "\n",
    "# Marg. Ebit\n",
    "df2['MargEbit'] = df2[['EBIT', 'Receita Líquida de Vendas e/ou Serviços']].apply( lambda x: 0 \n",
    "                                                        if x['Receita Líquida de Vendas e/ou Serviços'] == 0 \n",
    "                                                        else x['EBIT'] / x['Receita Líquida de Vendas e/ou Serviços'], axis=1 )\n",
    "\n",
    "# Marg. Liquida\n",
    "df2['MargLiquida'] = df2[['Lucro/Prejuízo do Período', 'Receita Líquida de Vendas e/ou Serviços']].apply( lambda x: 0 \n",
    "                                  if x['Receita Líquida de Vendas e/ou Serviços'] == 0 \n",
    "                                  else x['Lucro/Prejuízo do Período'] / x['Receita Líquida de Vendas e/ou Serviços'], axis=1 )\n",
    "\n",
    "# P/Ebit\n",
    "df2['P/Ebit'] = df2[['Adj Close', 'EBIT']].apply( lambda x: 0 if x['EBIT'] == 0 else x['Adj Close'] / x['EBIT'], axis=1 )\n",
    "\n",
    "# PSR\n",
    "df2['P/Ebit'] = df2[['Adj Close', 'Receita Líquida de Vendas e/ou Serviços', 'quantity']].apply( lambda x: 0 \n",
    "                                if x['Receita Líquida de Vendas e/ou Serviços'] == 0 \n",
    "                                else x['Adj Close'] / ( x['Receita Líquida de Vendas e/ou Serviços'] / x['quantity'] ), axis=1 )\n",
    "\n",
    "# P/Ativos\n",
    "df2['P/Ebit'] = df2[['Adj Close', 'Ativo Total', 'quantity']].apply( lambda x: 0 if x['Ativo Total'] == 0 \n",
    "                                                            else x['Adj Close'] / ( x['Ativo Total'] / x['quantity'] ), axis=1 )"
   ]
  },
  {
   "cell_type": "markdown",
   "metadata": {
    "heading_collapsed": true
   },
   "source": [
    "# 3.0. Data Filtering"
   ]
  },
  {
   "cell_type": "code",
   "execution_count": 21,
   "metadata": {
    "ExecuteTime": {
     "end_time": "2022-04-06T12:59:39.034844Z",
     "start_time": "2022-04-06T12:59:38.978173Z"
    },
    "hidden": true
   },
   "outputs": [],
   "source": [
    "df3 = df2.copy()"
   ]
  },
  {
   "cell_type": "markdown",
   "metadata": {
    "hidden": true
   },
   "source": [
    "In this section, we'll filter out the rows and columns that are not needed or that could damage the model training. Therefore, we will separate this step into two:\n",
    "\n",
    "**1.** Filtering Rows\n",
    "\n",
    "**2.** Filtering Columns"
   ]
  },
  {
   "cell_type": "markdown",
   "metadata": {
    "heading_collapsed": true,
    "hidden": true
   },
   "source": [
    "## 3.1. Filtering Rows\n",
    "\n",
    "As previously stated, here we will filter the lines of company **MMAQ3**, which have abnormal values. Also, we will also remove the lines that have the negative quotes, after all, it makes no sense for a quote to have a price lower than 0, right"
   ]
  },
  {
   "cell_type": "code",
   "execution_count": 22,
   "metadata": {
    "ExecuteTime": {
     "end_time": "2022-04-06T12:59:47.186235Z",
     "start_time": "2022-04-06T12:59:47.160476Z"
    },
    "hidden": true
   },
   "outputs": [],
   "source": [
    "df3 = df3.loc[ ( df3['Company'] != 'MMAQ3' ) & ( df3['Company'] != 'MMAQ4' ) &\n",
    "               ( df3['Company'] != 'VSPT3' ) & ( df3['Adj Close'] > 0 ) ]   "
   ]
  },
  {
   "cell_type": "markdown",
   "metadata": {
    "heading_collapsed": true,
    "hidden": true
   },
   "source": [
    "## 3.2. Filtering Columns\n",
    "\n",
    "Now, we are going to delete some columns that are no longer needed. These will be:\n",
    "\n",
    "**1.** Adj Close - The quotes column was used only to label the stocks. However, right now, it will not help us.\n",
    "\n",
    "**2.** quantity - the quantity of papers was useful to create other features, however, it will not be necessary to create the model."
   ]
  },
  {
   "cell_type": "code",
   "execution_count": 24,
   "metadata": {
    "ExecuteTime": {
     "end_time": "2022-04-06T13:00:35.188449Z",
     "start_time": "2022-04-06T13:00:35.166420Z"
    },
    "hidden": true
   },
   "outputs": [],
   "source": [
    "df3.drop( ['Perc', 'quantity', 'Adj Close'], axis=1, inplace=True )"
   ]
  },
  {
   "cell_type": "markdown",
   "metadata": {
    "heading_collapsed": true
   },
   "source": [
    "# 4.0.Exploratory Data Analysis"
   ]
  },
  {
   "cell_type": "code",
   "execution_count": 25,
   "metadata": {
    "ExecuteTime": {
     "end_time": "2022-04-06T13:02:01.680777Z",
     "start_time": "2022-04-06T13:02:01.672320Z"
    },
    "hidden": true
   },
   "outputs": [],
   "source": [
    "df4 = df3.copy()"
   ]
  },
  {
   "cell_type": "markdown",
   "metadata": {
    "hidden": true
   },
   "source": [
    "In this section, in order to become more familiar with our data, we will have to perform some simple Exploratory Data Analysis. We do this to better understand our data and make sure there are no lingering issues we may have missed when we transformed the data. So let’s begin coding it out with some visualizations."
   ]
  },
  {
   "cell_type": "markdown",
   "metadata": {
    "heading_collapsed": true,
    "hidden": true
   },
   "source": [
    "## 4.1. Response Variable\n",
    "\n",
    "First, we'll build a countplot to see the number of observations for each class.\n",
    "\n",
    "**As we can see, our data is a little imbalanced...**"
   ]
  },
  {
   "cell_type": "code",
   "execution_count": 26,
   "metadata": {
    "ExecuteTime": {
     "end_time": "2022-04-06T13:02:14.630433Z",
     "start_time": "2022-04-06T13:02:13.965847Z"
    },
    "hidden": true,
    "hide_input": false,
    "scrolled": true
   },
   "outputs": [
    {
     "name": "stdout",
     "output_type": "stream",
     "text": [
      "0    59.02%\n",
      "1    40.98%\n",
      "Name: Class, dtype: object\n"
     ]
    },
    {
     "data": {
      "image/png": "[encoded data removed]",
      "text/plain": [
       "<Figure size 432x288 with 1 Axes>"
      ]
     },
     "metadata": {},
     "output_type": "display_data"
    }
   ],
   "source": [
    "print( df4['Class'].value_counts( normalize=True ).map( \"{:.2%}\".format ) )\n",
    "sns.countplot( x=df4['Class'] );"
   ]
  },
  {
   "cell_type": "markdown",
   "metadata": {
    "heading_collapsed": true,
    "hidden": true
   },
   "source": [
    "## 4.2. Multivariate Analysis"
   ]
  },
  {
   "cell_type": "code",
   "execution_count": 31,
   "metadata": {
    "ExecuteTime": {
     "end_time": "2022-04-06T13:48:18.981974Z",
     "start_time": "2022-04-06T13:48:18.973950Z"
    },
    "hidden": true,
    "hide_input": false,
    "scrolled": true
   },
   "outputs": [],
   "source": [
    "# transform\n",
    "df4 = transform_to_percentage_changes( df4 )\n",
    "\n",
    "# Delete Nan values\n",
    "df4.dropna( inplace=True )"
   ]
  },
  {
   "cell_type": "code",
   "execution_count": 32,
   "metadata": {
    "ExecuteTime": {
     "end_time": "2022-04-06T13:48:42.168411Z",
     "start_time": "2022-04-06T13:48:38.176023Z"
    },
    "hidden": true,
    "hide_input": false
   },
   "outputs": [
    {
     "data": {
      "image/png": "[encoded data removed]",
      "text/plain": [
       "<Figure size 1440x864 with 2 Axes>"
      ]
     },
     "metadata": {},
     "output_type": "display_data"
    }
   ],
   "source": [
    "# correlations\n",
    "k = 20\n",
    "df_corr = df4.corr()\n",
    "cols = df_corr.nlargest( k, 'Class' )['Class'].index\n",
    "cm = np.corrcoef( df4[cols].values.T )\n",
    "\n",
    "fig, ax = plt.subplots( figsize=(20, 12) )\n",
    "sns.set( font_scale=1.25 )\n",
    "hm = sns.heatmap( cm, cbar=True, annot=True, fmt='.2f', annot_kws={'size': 10}, yticklabels=cols.values,  xticklabels=cols.values )\n",
    "plt.tight_layout()"
   ]
  },
  {
   "cell_type": "code",
   "execution_count": 100,
   "metadata": {
    "ExecuteTime": {
     "end_time": "2022-03-24T17:57:35.218146Z",
     "start_time": "2022-03-24T17:57:35.207171Z"
    },
    "hidden": true,
    "hide_input": true
   },
   "outputs": [],
   "source": [
    "df4_aux['Date'] = df4['Date']"
   ]
  },
  {
   "cell_type": "markdown",
   "metadata": {
    "heading_collapsed": true
   },
   "source": [
    "# 5.0. Data Preparation"
   ]
  },
  {
   "cell_type": "markdown",
   "metadata": {
    "hidden": true
   },
   "source": [
    "in this section we will prepare the data so that it can be submitted to classification models. First, we will transform all indicators into percentage changes, similar to what we did with quotes. However, let's look backwards and see what the percentage change of an indicator has been from the previous quarter to the current one. We will do this for every quarter. The idea is to verify whether the increase or decrease of an indicator from the previous quarter to the current one can influence the appreciation or devaluation of the share price for the next quarter. In our case, we will see if the stock will appreciate more than 3% by the next quarter.\n",
    "\n",
    "Later, we will scale the data to improve the overall performance of most of our models."
   ]
  },
  {
   "cell_type": "code",
   "execution_count": 81,
   "metadata": {
    "ExecuteTime": {
     "end_time": "2022-04-06T15:44:08.195844Z",
     "start_time": "2022-04-06T15:44:08.170428Z"
    },
    "hidden": true,
    "hide_input": false
   },
   "outputs": [],
   "source": [
    "df5 = df4.copy()"
   ]
  },
  {
   "cell_type": "markdown",
   "metadata": {
    "heading_collapsed": true,
    "hidden": true
   },
   "source": [
    "## 5.1. Rescaling"
   ]
  },
  {
   "cell_type": "code",
   "execution_count": 85,
   "metadata": {
    "ExecuteTime": {
     "end_time": "2022-04-06T15:46:44.140090Z",
     "start_time": "2022-04-06T15:46:43.962300Z"
    },
    "hidden": true,
    "scrolled": true
   },
   "outputs": [],
   "source": [
    "df5 = rescaling( df5 )"
   ]
  },
  {
   "cell_type": "code",
   "execution_count": 86,
   "metadata": {
    "ExecuteTime": {
     "end_time": "2022-04-06T15:46:48.683728Z",
     "start_time": "2022-04-06T15:46:46.524400Z"
    },
    "hidden": true,
    "hide_input": false
   },
   "outputs": [],
   "source": [
    "# df5.to_csv( 'Data/df5.csv', index=False )"
   ]
  },
  {
   "cell_type": "code",
   "execution_count": 5,
   "metadata": {
    "ExecuteTime": {
     "end_time": "2022-04-06T12:47:45.317363Z",
     "start_time": "2022-04-06T12:47:43.973095Z"
    },
    "hidden": true,
    "hide_input": false
   },
   "outputs": [],
   "source": [
    "df5 = pd.read_csv( 'Data/df5.csv' )"
   ]
  },
  {
   "cell_type": "markdown",
   "metadata": {
    "heading_collapsed": true
   },
   "source": [
    "# 6.0. Feature Selection"
   ]
  },
  {
   "cell_type": "code",
   "execution_count": 87,
   "metadata": {
    "ExecuteTime": {
     "end_time": "2022-04-06T15:47:11.217808Z",
     "start_time": "2022-04-06T15:47:11.183636Z"
    },
    "hidden": true
   },
   "outputs": [],
   "source": [
    "df6 = df5.copy()"
   ]
  },
  {
   "cell_type": "markdown",
   "metadata": {
    "heading_collapsed": true,
    "hidden": true
   },
   "source": [
    "## 6.1. Split dataframe into training and test"
   ]
  },
  {
   "cell_type": "code",
   "execution_count": 96,
   "metadata": {
    "ExecuteTime": {
     "end_time": "2022-04-06T15:54:53.291284Z",
     "start_time": "2022-04-06T15:54:53.162016Z"
    },
    "hidden": true
   },
   "outputs": [],
   "source": [
    "train_df = df6.sample( frac=0.8, random_state=13 )\n",
    "test_df = df6.drop( train.index )\n",
    "\n",
    "train_df.drop( 'Company', axis=1, inplace=True )\n",
    "\n",
    "X = train_df.drop( 'Class', axis=1 )\n",
    "y = train_df['Class']\n",
    "\n",
    "X_train, X_test, y_train, y_test = train_test_split( X, y, test_size=0.3, random_state=13 )"
   ]
  },
  {
   "cell_type": "markdown",
   "metadata": {
    "heading_collapsed": true,
    "hidden": true
   },
   "source": [
    "## 6.2. Finding the best features"
   ]
  },
  {
   "cell_type": "markdown",
   "metadata": {
    "heading_collapsed": true,
    "hidden": true
   },
   "source": [
    "### 6.2.1. Based on Correlation Values"
   ]
  },
  {
   "cell_type": "code",
   "execution_count": 26,
   "metadata": {
    "ExecuteTime": {
     "end_time": "2022-03-25T15:29:42.317383Z",
     "start_time": "2022-03-25T15:29:41.414405Z"
    },
    "hidden": true,
    "hide_input": false,
    "scrolled": true
   },
   "outputs": [
    {
     "data": {
      "text/html": [
       "<div>\n",
       "<style scoped>\n",
       "    .dataframe tbody tr th:only-of-type {\n",
       "        vertical-align: middle;\n",
       "    }\n",
       "\n",
       "    .dataframe tbody tr th {\n",
       "        vertical-align: top;\n",
       "    }\n",
       "\n",
       "    .dataframe thead th {\n",
       "        text-align: right;\n",
       "    }\n",
       "</style>\n",
       "<table border=\"1\" class=\"dataframe\">\n",
       "  <thead>\n",
       "    <tr style=\"text-align: right;\">\n",
       "      <th></th>\n",
       "      <th>Lucros/Prejuízos Acumulados</th>\n",
       "      <th>Outros Resultados Abrangentes</th>\n",
       "      <th>Aplicações Financeiras Avaliadas a Valor Justo</th>\n",
       "      <th>Patrimônio Líquido</th>\n",
       "      <th>VPA</th>\n",
       "      <th>MargLiquida</th>\n",
       "      <th>Ajustes Acumulados de Conversão</th>\n",
       "      <th>Caixa e Equivalentes de Caixa</th>\n",
       "      <th>Financeiras</th>\n",
       "      <th>Despesas Financeiras</th>\n",
       "    </tr>\n",
       "  </thead>\n",
       "  <tbody>\n",
       "    <tr>\n",
       "      <th>0</th>\n",
       "      <td>0.024054</td>\n",
       "      <td>-0.049928</td>\n",
       "      <td>-0.028022</td>\n",
       "      <td>0.008542</td>\n",
       "      <td>0.008542</td>\n",
       "      <td>-0.012815</td>\n",
       "      <td>-0.007638</td>\n",
       "      <td>-0.044556</td>\n",
       "      <td>0.027627</td>\n",
       "      <td>0.013527</td>\n",
       "    </tr>\n",
       "    <tr>\n",
       "      <th>1</th>\n",
       "      <td>0.024123</td>\n",
       "      <td>0.008691</td>\n",
       "      <td>-0.031411</td>\n",
       "      <td>0.009305</td>\n",
       "      <td>0.009305</td>\n",
       "      <td>-0.011694</td>\n",
       "      <td>-0.007638</td>\n",
       "      <td>-0.036897</td>\n",
       "      <td>0.009819</td>\n",
       "      <td>0.018785</td>\n",
       "    </tr>\n",
       "    <tr>\n",
       "      <th>2</th>\n",
       "      <td>0.037703</td>\n",
       "      <td>-0.025742</td>\n",
       "      <td>-0.025951</td>\n",
       "      <td>0.008610</td>\n",
       "      <td>0.008610</td>\n",
       "      <td>-0.005147</td>\n",
       "      <td>-0.007638</td>\n",
       "      <td>-0.036439</td>\n",
       "      <td>0.024545</td>\n",
       "      <td>0.018785</td>\n",
       "    </tr>\n",
       "    <tr>\n",
       "      <th>3</th>\n",
       "      <td>-0.002662</td>\n",
       "      <td>0.048419</td>\n",
       "      <td>-0.050660</td>\n",
       "      <td>0.007960</td>\n",
       "      <td>0.007960</td>\n",
       "      <td>-0.019843</td>\n",
       "      <td>-0.007638</td>\n",
       "      <td>-0.026441</td>\n",
       "      <td>0.017618</td>\n",
       "      <td>0.018785</td>\n",
       "    </tr>\n",
       "    <tr>\n",
       "      <th>4</th>\n",
       "      <td>0.030297</td>\n",
       "      <td>-0.049928</td>\n",
       "      <td>-0.035056</td>\n",
       "      <td>0.008573</td>\n",
       "      <td>0.008573</td>\n",
       "      <td>-0.004621</td>\n",
       "      <td>-0.007638</td>\n",
       "      <td>-0.039465</td>\n",
       "      <td>0.027110</td>\n",
       "      <td>0.018785</td>\n",
       "    </tr>\n",
       "  </tbody>\n",
       "</table>\n",
       "</div>"
      ],
      "text/plain": [
       "   Lucros/Prejuízos Acumulados  Outros Resultados Abrangentes  Aplicações Financeiras Avaliadas a Valor Justo  Patrimônio Líquido       VPA  MargLiquida  Ajustes Acumulados de Conversão  Caixa e Equivalentes de Caixa  Financeiras  Despesas Financeiras\n",
       "0                     0.024054                      -0.049928                                       -0.028022            0.008542  0.008542    -0.012815                        -0.007638                      -0.044556     0.027627              0.013527\n",
       "1                     0.024123                       0.008691                                       -0.031411            0.009305  0.009305    -0.011694                        -0.007638                      -0.036897     0.009819              0.018785\n",
       "2                     0.037703                      -0.025742                                       -0.025951            0.008610  0.008610    -0.005147                        -0.007638                      -0.036439     0.024545              0.018785\n",
       "3                    -0.002662                       0.048419                                       -0.050660            0.007960  0.007960    -0.019843                        -0.007638                      -0.026441     0.017618              0.018785\n",
       "4                     0.030297                      -0.049928                                       -0.035056            0.008573  0.008573    -0.004621                        -0.007638                      -0.039465     0.027110              0.018785"
      ]
     },
     "execution_count": 26,
     "metadata": {},
     "output_type": "execute_result"
    }
   ],
   "source": [
    "# Correlation of all classes\n",
    "corr = df6.drop( 'Date', axis=1 ).corr().iloc[[-1], :-1]\n",
    "\n",
    "# Sorting our correlations by their absolute values and selecting the top 10\n",
    "top10_corr = corr.transpose().sort_values(by='Class', ascending=False)[:10]\n",
    "\n",
    "df6[top10_corr.index].head()"
   ]
  },
  {
   "cell_type": "markdown",
   "metadata": {
    "heading_collapsed": true,
    "hidden": true
   },
   "source": [
    "### 6.2.2. Based on a Tree Classifier"
   ]
  },
  {
   "cell_type": "code",
   "execution_count": 53,
   "metadata": {
    "ExecuteTime": {
     "end_time": "2022-03-30T19:33:47.557546Z",
     "start_time": "2022-03-30T19:33:38.968256Z"
    },
    "hidden": true,
    "hide_input": false
   },
   "outputs": [
    {
     "data": {
      "text/html": [
       "<div>\n",
       "<style scoped>\n",
       "    .dataframe tbody tr th:only-of-type {\n",
       "        vertical-align: middle;\n",
       "    }\n",
       "\n",
       "    .dataframe tbody tr th {\n",
       "        vertical-align: top;\n",
       "    }\n",
       "\n",
       "    .dataframe thead th {\n",
       "        text-align: right;\n",
       "    }\n",
       "</style>\n",
       "<table border=\"1\" class=\"dataframe\">\n",
       "  <thead>\n",
       "    <tr style=\"text-align: right;\">\n",
       "      <th></th>\n",
       "      <th>EV/EBIT</th>\n",
       "      <th>P/Ebit</th>\n",
       "      <th>P/VP</th>\n",
       "      <th>P/L</th>\n",
       "      <th>Dividend Yield</th>\n",
       "      <th>Ativo Total</th>\n",
       "      <th>Lucros/Prejuízos Acumulados</th>\n",
       "      <th>Passivo Total</th>\n",
       "      <th>Patrimônio Líquido</th>\n",
       "      <th>Fornecedores</th>\n",
       "      <th>Class</th>\n",
       "    </tr>\n",
       "  </thead>\n",
       "  <tbody>\n",
       "    <tr>\n",
       "      <th>0</th>\n",
       "      <td>0.26</td>\n",
       "      <td>0.18</td>\n",
       "      <td>0.18</td>\n",
       "      <td>1.32</td>\n",
       "      <td>0.00</td>\n",
       "      <td>0.25</td>\n",
       "      <td>0.29</td>\n",
       "      <td>0.25</td>\n",
       "      <td>0.02</td>\n",
       "      <td>-0.80</td>\n",
       "      <td>1</td>\n",
       "    </tr>\n",
       "    <tr>\n",
       "      <th>1</th>\n",
       "      <td>0.25</td>\n",
       "      <td>0.41</td>\n",
       "      <td>0.30</td>\n",
       "      <td>0.42</td>\n",
       "      <td>0.00</td>\n",
       "      <td>0.24</td>\n",
       "      <td>0.29</td>\n",
       "      <td>0.24</td>\n",
       "      <td>0.36</td>\n",
       "      <td>0.65</td>\n",
       "      <td>0</td>\n",
       "    </tr>\n",
       "    <tr>\n",
       "      <th>2</th>\n",
       "      <td>-0.25</td>\n",
       "      <td>-0.18</td>\n",
       "      <td>-0.19</td>\n",
       "      <td>-0.44</td>\n",
       "      <td>0.00</td>\n",
       "      <td>0.12</td>\n",
       "      <td>0.88</td>\n",
       "      <td>0.12</td>\n",
       "      <td>0.05</td>\n",
       "      <td>0.36</td>\n",
       "      <td>0</td>\n",
       "    </tr>\n",
       "    <tr>\n",
       "      <th>3</th>\n",
       "      <td>-0.06</td>\n",
       "      <td>-0.51</td>\n",
       "      <td>-0.51</td>\n",
       "      <td>-1.15</td>\n",
       "      <td>0.00</td>\n",
       "      <td>-0.34</td>\n",
       "      <td>-0.88</td>\n",
       "      <td>-0.34</td>\n",
       "      <td>-0.24</td>\n",
       "      <td>-0.00</td>\n",
       "      <td>1</td>\n",
       "    </tr>\n",
       "    <tr>\n",
       "      <th>4</th>\n",
       "      <td>0.23</td>\n",
       "      <td>0.39</td>\n",
       "      <td>0.26</td>\n",
       "      <td>2.05</td>\n",
       "      <td>0.00</td>\n",
       "      <td>-0.24</td>\n",
       "      <td>0.56</td>\n",
       "      <td>-0.24</td>\n",
       "      <td>0.03</td>\n",
       "      <td>-0.33</td>\n",
       "      <td>0</td>\n",
       "    </tr>\n",
       "  </tbody>\n",
       "</table>\n",
       "</div>"
      ],
      "text/plain": [
       "   EV/EBIT  P/Ebit  P/VP   P/L  Dividend Yield  Ativo Total  Lucros/Prejuízos Acumulados  Passivo Total  Patrimônio Líquido  Fornecedores  Class\n",
       "0     0.26    0.18  0.18  1.32            0.00         0.25                         0.29           0.25                0.02         -0.80      1\n",
       "1     0.25    0.41  0.30  0.42            0.00         0.24                         0.29           0.24                0.36          0.65      0\n",
       "2    -0.25   -0.18 -0.19 -0.44            0.00         0.12                         0.88           0.12                0.05          0.36      0\n",
       "3    -0.06   -0.51 -0.51 -1.15            0.00        -0.34                        -0.88          -0.34               -0.24         -0.00      1\n",
       "4     0.23    0.39  0.26  2.05            0.00        -0.24                         0.56          -0.24                0.03         -0.33      0"
      ]
     },
     "execution_count": 53,
     "metadata": {},
     "output_type": "execute_result"
    }
   ],
   "source": [
    "# let's train a decision tree and get the most important features of it\n",
    "model = ExtraTreesClassifier( random_state=1 )\n",
    "X = df6.drop( ['Class'], axis=1 )\n",
    "y = df6['Class']\n",
    "model.fit( X, y )\n",
    "\n",
    "important_features = pd.DataFrame( model.feature_importances_, X.columns ).sort_values( by=0, ascending=False )\n",
    "top10 = list( important_features.index )[:10]\n",
    "\n",
    "top10.append( 'Class' )\n",
    "df6[top10].head()"
   ]
  },
  {
   "cell_type": "markdown",
   "metadata": {
    "heading_collapsed": true,
    "hidden": true
   },
   "source": [
    "### 6.2.3. Random Forest"
   ]
  },
  {
   "cell_type": "code",
   "execution_count": 47,
   "metadata": {
    "ExecuteTime": {
     "end_time": "2022-03-31T16:42:43.345640Z",
     "start_time": "2022-03-31T16:42:31.321249Z"
    },
    "hidden": true
   },
   "outputs": [],
   "source": [
    "sel = SelectFromModel( RandomForestClassifier( n_estimators=100 ) )\n",
    "sel.fit( X_train, y_train )\n",
    "\n",
    "selected_features = X_train.columns[ ( sel.get_support() ) ]\n",
    "\n",
    "X_train = X_train[selected_features]\n",
    "X_test = X_test[selected_features]"
   ]
  },
  {
   "cell_type": "markdown",
   "metadata": {
    "heading_collapsed": true,
    "hidden": true
   },
   "source": [
    "### 6.2.4. Boruta as Feature Selector"
   ]
  },
  {
   "cell_type": "code",
   "execution_count": 111,
   "metadata": {
    "ExecuteTime": {
     "end_time": "2022-04-05T16:43:56.653184Z",
     "start_time": "2022-04-05T16:43:56.637341Z"
    },
    "hidden": true
   },
   "outputs": [],
   "source": [
    "# # training and test dataset for Boruta\n",
    "# X_train_n = X_train.values\n",
    "# y_train_n = y_train.values.ravel()\n",
    "\n",
    "# # define RandomForestRegressor\n",
    "# rf = RandomForestClassifier( n_jobs=-1 )\n",
    "\n",
    "# # define boruta\n",
    "# boruta = BorutaPy( rf, n_estimators='auto', verbose=2, random_state=42 ).fit( X_train_n, y_train_n )"
   ]
  },
  {
   "cell_type": "code",
   "execution_count": 14,
   "metadata": {
    "ExecuteTime": {
     "end_time": "2022-04-05T13:16:41.687728Z",
     "start_time": "2022-04-05T13:16:41.628886Z"
    },
    "hidden": true
   },
   "outputs": [],
   "source": [
    "# cols_selected = boruta.support_.tolist()\n",
    "\n",
    "# # best features\n",
    "# X_train_fs = X_train\n",
    "# cols_selected_boruta = X_train_fs.iloc[:, cols_selected].columns.to_list()\n",
    "\n",
    "# # not selected boruta\n",
    "# cols_not_selected_boruta = list( np.setdiff1d( X_train_fs.columns, cols_selected_boruta ) )"
   ]
  },
  {
   "cell_type": "code",
   "execution_count": 76,
   "metadata": {
    "ExecuteTime": {
     "end_time": "2022-04-06T15:24:58.996171Z",
     "start_time": "2022-04-06T15:24:58.973555Z"
    },
    "hidden": true
   },
   "outputs": [],
   "source": [
    "cols_selected_boruta = ['Ativo Circulante',\n",
    " 'Caixa e Equivalentes de Caixa',\n",
    " 'Imobilizado',\n",
    " 'Outros_1',\n",
    " 'Patrimônio Líquido',\n",
    " 'P/L',\n",
    " 'VPA',\n",
    " 'P/VP',\n",
    " 'ROE',\n",
    " 'MargEbit',\n",
    " 'P/Ebit' ]\n",
    "\n",
    "X_train = X_train.loc[:, cols_selected_boruta]\n",
    "X_test = X_test.loc[:, cols_selected_boruta]"
   ]
  },
  {
   "cell_type": "markdown",
   "metadata": {
    "heading_collapsed": true
   },
   "source": [
    "# 7.0. Machine Learning Modeling"
   ]
  },
  {
   "cell_type": "markdown",
   "metadata": {
    "hidden": true
   },
   "source": [
    "Logistic Regression, Decision Tree, K-Nearest Neighbors, Naive Bayes and Multilayer Perceptron"
   ]
  },
  {
   "cell_type": "markdown",
   "metadata": {
    "heading_collapsed": true,
    "hidden": true
   },
   "source": [
    "## 7.1. Baseline"
   ]
  },
  {
   "cell_type": "code",
   "execution_count": 52,
   "metadata": {
    "ExecuteTime": {
     "end_time": "2022-04-06T15:10:59.487111Z",
     "start_time": "2022-04-06T15:10:58.976261Z"
    },
    "hidden": true
   },
   "outputs": [
    {
     "name": "stdout",
     "output_type": "stream",
     "text": [
      "Model: Dummy\n",
      "              precision    recall  f1-score   support\n",
      "\n",
      "Not reliable       0.57      0.58      0.57      2013\n",
      "    Reliable       0.42      0.41      0.41      1492\n",
      "\n",
      "    accuracy                           0.51      3505\n",
      "   macro avg       0.49      0.49      0.49      3505\n",
      "weighted avg       0.50      0.51      0.50      3505\n",
      "\n"
     ]
    },
    {
     "data": {
      "image/png": "[encoded data removed]",
      "text/plain": [
       "<Figure size 432x288 with 2 Axes>"
      ]
     },
     "metadata": {},
     "output_type": "display_data"
    }
   ],
   "source": [
    "# Hold-out\n",
    "dummy = DummyClassifier( strategy='stratified', random_state=13 )\n",
    "dummy.fit( X_train, y_train )\n",
    "dummy_pred = dummy.predict( X_test )\n",
    "\n",
    "ml_metrics( y_test, dummy_pred, \"Dummy\" )"
   ]
  },
  {
   "cell_type": "code",
   "execution_count": 53,
   "metadata": {
    "ExecuteTime": {
     "end_time": "2022-04-06T15:11:11.433823Z",
     "start_time": "2022-04-06T15:11:11.164218Z"
    },
    "hidden": true
   },
   "outputs": [
    {
     "data": {
      "text/html": [
       "<div>\n",
       "<style scoped>\n",
       "    .dataframe tbody tr th:only-of-type {\n",
       "        vertical-align: middle;\n",
       "    }\n",
       "\n",
       "    .dataframe tbody tr th {\n",
       "        vertical-align: top;\n",
       "    }\n",
       "\n",
       "    .dataframe thead th {\n",
       "        text-align: right;\n",
       "    }\n",
       "</style>\n",
       "<table border=\"1\" class=\"dataframe\">\n",
       "  <thead>\n",
       "    <tr style=\"text-align: right;\">\n",
       "      <th></th>\n",
       "      <th>Model</th>\n",
       "      <th>Accuracy</th>\n",
       "      <th>Precision</th>\n",
       "      <th>Recall</th>\n",
       "      <th>F1</th>\n",
       "    </tr>\n",
       "  </thead>\n",
       "  <tbody>\n",
       "    <tr>\n",
       "      <th>0</th>\n",
       "      <td>Dummy</td>\n",
       "      <td>0.52+/-0.02</td>\n",
       "      <td>0.41+/-0.02</td>\n",
       "      <td>0.41+/-0.02</td>\n",
       "      <td>0.41+/-0.02</td>\n",
       "    </tr>\n",
       "  </tbody>\n",
       "</table>\n",
       "</div>"
      ],
      "text/plain": [
       "   Model     Accuracy    Precision       Recall           F1\n",
       "0  Dummy  0.52+/-0.02  0.41+/-0.02  0.41+/-0.02  0.41+/-0.02"
      ]
     },
     "execution_count": 53,
     "metadata": {},
     "output_type": "execute_result"
    }
   ],
   "source": [
    "# Cross Validation\n",
    "dummy = DummyClassifier( strategy='stratified', random_state=13 )\n",
    "\n",
    "dummy_cv = cross_validation( dummy, X_train, y_train, 'Dummy' )\n",
    "dummy_cv"
   ]
  },
  {
   "cell_type": "markdown",
   "metadata": {
    "heading_collapsed": true,
    "hidden": true
   },
   "source": [
    "## 7.2. Logistic Regression"
   ]
  },
  {
   "cell_type": "code",
   "execution_count": 55,
   "metadata": {
    "ExecuteTime": {
     "end_time": "2022-04-06T15:11:29.413215Z",
     "start_time": "2022-04-06T15:11:29.179357Z"
    },
    "hidden": true
   },
   "outputs": [
    {
     "name": "stdout",
     "output_type": "stream",
     "text": [
      "Model: Logistic Regression\n",
      "              precision    recall  f1-score   support\n",
      "\n",
      "Not reliable       0.57      1.00      0.73      2013\n",
      "    Reliable       0.22      0.00      0.00      1492\n",
      "\n",
      "    accuracy                           0.57      3505\n",
      "   macro avg       0.40      0.50      0.37      3505\n",
      "weighted avg       0.42      0.57      0.42      3505\n",
      "\n"
     ]
    },
    {
     "data": {
      "image/png": "[encoded data removed]",
      "text/plain": [
       "<Figure size 432x288 with 2 Axes>"
      ]
     },
     "metadata": {},
     "output_type": "display_data"
    }
   ],
   "source": [
    "lr = LogisticRegression( random_state=13 )\n",
    "lr.fit( X_train, y_train )\n",
    "lr_pred = lr.predict( X_test )\n",
    "\n",
    "ml_metrics( y_test, lr_pred, 'Logistic Regression' )"
   ]
  },
  {
   "cell_type": "code",
   "execution_count": 56,
   "metadata": {
    "ExecuteTime": {
     "end_time": "2022-04-06T15:11:35.651457Z",
     "start_time": "2022-04-06T15:11:33.962535Z"
    },
    "hidden": true
   },
   "outputs": [
    {
     "data": {
      "text/html": [
       "<div>\n",
       "<style scoped>\n",
       "    .dataframe tbody tr th:only-of-type {\n",
       "        vertical-align: middle;\n",
       "    }\n",
       "\n",
       "    .dataframe tbody tr th {\n",
       "        vertical-align: top;\n",
       "    }\n",
       "\n",
       "    .dataframe thead th {\n",
       "        text-align: right;\n",
       "    }\n",
       "</style>\n",
       "<table border=\"1\" class=\"dataframe\">\n",
       "  <thead>\n",
       "    <tr style=\"text-align: right;\">\n",
       "      <th></th>\n",
       "      <th>Model</th>\n",
       "      <th>Accuracy</th>\n",
       "      <th>Precision</th>\n",
       "      <th>Recall</th>\n",
       "      <th>F1</th>\n",
       "    </tr>\n",
       "  </thead>\n",
       "  <tbody>\n",
       "    <tr>\n",
       "      <th>0</th>\n",
       "      <td>Logistic Regression</td>\n",
       "      <td>0.59+/-0.0</td>\n",
       "      <td>0.27+/-0.18</td>\n",
       "      <td>0.0+/-0.0</td>\n",
       "      <td>0.0+/-0.0</td>\n",
       "    </tr>\n",
       "  </tbody>\n",
       "</table>\n",
       "</div>"
      ],
      "text/plain": [
       "                 Model    Accuracy    Precision     Recall         F1\n",
       "0  Logistic Regression  0.59+/-0.0  0.27+/-0.18  0.0+/-0.0  0.0+/-0.0"
      ]
     },
     "execution_count": 56,
     "metadata": {},
     "output_type": "execute_result"
    }
   ],
   "source": [
    "# Cross Validation\n",
    "lr = LogisticRegression( random_state=13 )\n",
    "\n",
    "lr_cv = cross_validation( lr, X_train, y_train, 'Logistic Regression' )\n",
    "lr_cv"
   ]
  },
  {
   "cell_type": "markdown",
   "metadata": {
    "heading_collapsed": true,
    "hidden": true
   },
   "source": [
    "## 7.3. Decision Tree"
   ]
  },
  {
   "cell_type": "code",
   "execution_count": 57,
   "metadata": {
    "ExecuteTime": {
     "end_time": "2022-04-06T15:11:45.475113Z",
     "start_time": "2022-04-06T15:11:45.041073Z"
    },
    "hidden": true
   },
   "outputs": [
    {
     "name": "stdout",
     "output_type": "stream",
     "text": [
      "Model: Decision Tree\n",
      "              precision    recall  f1-score   support\n",
      "\n",
      "Not reliable       0.64      0.65      0.64      2013\n",
      "    Reliable       0.51      0.50      0.51      1492\n",
      "\n",
      "    accuracy                           0.58      3505\n",
      "   macro avg       0.57      0.57      0.57      3505\n",
      "weighted avg       0.58      0.58      0.58      3505\n",
      "\n"
     ]
    },
    {
     "data": {
      "image/png": "[encoded data removed]",
      "text/plain": [
       "<Figure size 432x288 with 2 Axes>"
      ]
     },
     "metadata": {},
     "output_type": "display_data"
    }
   ],
   "source": [
    "dt = DecisionTreeClassifier( random_state=13 )\n",
    "dt.fit( X_train, y_train )\n",
    "dt_prev = dt.predict( X_test )\n",
    "ml_metrics( y_test, dt_prev, 'Decision Tree' )"
   ]
  },
  {
   "cell_type": "code",
   "execution_count": 58,
   "metadata": {
    "ExecuteTime": {
     "end_time": "2022-04-06T15:11:52.608667Z",
     "start_time": "2022-04-06T15:11:50.156439Z"
    },
    "hidden": true
   },
   "outputs": [
    {
     "data": {
      "text/html": [
       "<div>\n",
       "<style scoped>\n",
       "    .dataframe tbody tr th:only-of-type {\n",
       "        vertical-align: middle;\n",
       "    }\n",
       "\n",
       "    .dataframe tbody tr th {\n",
       "        vertical-align: top;\n",
       "    }\n",
       "\n",
       "    .dataframe thead th {\n",
       "        text-align: right;\n",
       "    }\n",
       "</style>\n",
       "<table border=\"1\" class=\"dataframe\">\n",
       "  <thead>\n",
       "    <tr style=\"text-align: right;\">\n",
       "      <th></th>\n",
       "      <th>Model</th>\n",
       "      <th>Accuracy</th>\n",
       "      <th>Precision</th>\n",
       "      <th>Recall</th>\n",
       "      <th>F1</th>\n",
       "    </tr>\n",
       "  </thead>\n",
       "  <tbody>\n",
       "    <tr>\n",
       "      <th>0</th>\n",
       "      <td>Decision Tree</td>\n",
       "      <td>0.57+/-0.01</td>\n",
       "      <td>0.48+/-0.01</td>\n",
       "      <td>0.5+/-0.02</td>\n",
       "      <td>0.49+/-0.01</td>\n",
       "    </tr>\n",
       "  </tbody>\n",
       "</table>\n",
       "</div>"
      ],
      "text/plain": [
       "           Model     Accuracy    Precision      Recall           F1\n",
       "0  Decision Tree  0.57+/-0.01  0.48+/-0.01  0.5+/-0.02  0.49+/-0.01"
      ]
     },
     "execution_count": 58,
     "metadata": {},
     "output_type": "execute_result"
    }
   ],
   "source": [
    "# Cross Validation\n",
    "dt = DecisionTreeClassifier( random_state=13 )\n",
    "dt_cv = cross_validation( dt, X_train, y_train, 'Decision Tree' )\n",
    "dt_cv"
   ]
  },
  {
   "cell_type": "markdown",
   "metadata": {
    "heading_collapsed": true,
    "hidden": true
   },
   "source": [
    "## 7.4. K-Nearest Neighbors"
   ]
  },
  {
   "cell_type": "code",
   "execution_count": 59,
   "metadata": {
    "ExecuteTime": {
     "end_time": "2022-04-06T15:12:03.111379Z",
     "start_time": "2022-04-06T15:12:02.163670Z"
    },
    "hidden": true
   },
   "outputs": [
    {
     "name": "stdout",
     "output_type": "stream",
     "text": [
      "Model: K-Nearest Neighbors\n",
      "              precision    recall  f1-score   support\n",
      "\n",
      "Not reliable       0.62      0.70      0.66      2013\n",
      "    Reliable       0.51      0.43      0.47      1492\n",
      "\n",
      "    accuracy                           0.58      3505\n",
      "   macro avg       0.57      0.56      0.56      3505\n",
      "weighted avg       0.58      0.58      0.58      3505\n",
      "\n"
     ]
    },
    {
     "data": {
      "image/png": "[encoded data removed]",
      "text/plain": [
       "<Figure size 432x288 with 2 Axes>"
      ]
     },
     "metadata": {},
     "output_type": "display_data"
    }
   ],
   "source": [
    "knn = KNeighborsClassifier()\n",
    "knn.fit( X_train, y_train )\n",
    "knn_prev = knn.predict( X_test )\n",
    "ml_metrics( y_test, knn_prev, \"K-Nearest Neighbors\" )"
   ]
  },
  {
   "cell_type": "code",
   "execution_count": 60,
   "metadata": {
    "ExecuteTime": {
     "end_time": "2022-04-06T15:12:13.593113Z",
     "start_time": "2022-04-06T15:12:08.157692Z"
    },
    "hidden": true
   },
   "outputs": [
    {
     "data": {
      "text/html": [
       "<div>\n",
       "<style scoped>\n",
       "    .dataframe tbody tr th:only-of-type {\n",
       "        vertical-align: middle;\n",
       "    }\n",
       "\n",
       "    .dataframe tbody tr th {\n",
       "        vertical-align: top;\n",
       "    }\n",
       "\n",
       "    .dataframe thead th {\n",
       "        text-align: right;\n",
       "    }\n",
       "</style>\n",
       "<table border=\"1\" class=\"dataframe\">\n",
       "  <thead>\n",
       "    <tr style=\"text-align: right;\">\n",
       "      <th></th>\n",
       "      <th>Model</th>\n",
       "      <th>Accuracy</th>\n",
       "      <th>Precision</th>\n",
       "      <th>Recall</th>\n",
       "      <th>F1</th>\n",
       "    </tr>\n",
       "  </thead>\n",
       "  <tbody>\n",
       "    <tr>\n",
       "      <th>0</th>\n",
       "      <td>K-Nearest Neighbors</td>\n",
       "      <td>0.57+/-0.01</td>\n",
       "      <td>0.48+/-0.01</td>\n",
       "      <td>0.41+/-0.01</td>\n",
       "      <td>0.44+/-0.01</td>\n",
       "    </tr>\n",
       "  </tbody>\n",
       "</table>\n",
       "</div>"
      ],
      "text/plain": [
       "                 Model     Accuracy    Precision       Recall           F1\n",
       "0  K-Nearest Neighbors  0.57+/-0.01  0.48+/-0.01  0.41+/-0.01  0.44+/-0.01"
      ]
     },
     "execution_count": 60,
     "metadata": {},
     "output_type": "execute_result"
    }
   ],
   "source": [
    "# Cross Validation\n",
    "knn = KNeighborsClassifier()\n",
    "knn_cv = cross_validation( knn, X_train, y_train, \"K-Nearest Neighbors\" )\n",
    "knn_cv"
   ]
  },
  {
   "cell_type": "markdown",
   "metadata": {
    "heading_collapsed": true,
    "hidden": true
   },
   "source": [
    "## 7.5. Naive Bayes"
   ]
  },
  {
   "cell_type": "code",
   "execution_count": 61,
   "metadata": {
    "ExecuteTime": {
     "end_time": "2022-04-06T15:12:23.454894Z",
     "start_time": "2022-04-06T15:12:23.177434Z"
    },
    "hidden": true
   },
   "outputs": [
    {
     "name": "stdout",
     "output_type": "stream",
     "text": [
      "Model: Naive Bayes\n",
      "              precision    recall  f1-score   support\n",
      "\n",
      "Not reliable       0.70      0.05      0.09      2013\n",
      "    Reliable       0.43      0.97      0.60      1492\n",
      "\n",
      "    accuracy                           0.44      3505\n",
      "   macro avg       0.57      0.51      0.34      3505\n",
      "weighted avg       0.59      0.44      0.31      3505\n",
      "\n"
     ]
    },
    {
     "data": {
      "image/png": "[encoded data removed]",
      "text/plain": [
       "<Figure size 432x288 with 2 Axes>"
      ]
     },
     "metadata": {},
     "output_type": "display_data"
    }
   ],
   "source": [
    "nb = GaussianNB()\n",
    "nb.fit( X_train, y_train )\n",
    "nb_pred = nb.predict( X_test )\n",
    "ml_metrics( y_test, nb_pred, \"Naive Bayes\" )"
   ]
  },
  {
   "cell_type": "code",
   "execution_count": 62,
   "metadata": {
    "ExecuteTime": {
     "end_time": "2022-04-06T15:12:32.469119Z",
     "start_time": "2022-04-06T15:12:32.162670Z"
    },
    "hidden": true
   },
   "outputs": [
    {
     "data": {
      "text/html": [
       "<div>\n",
       "<style scoped>\n",
       "    .dataframe tbody tr th:only-of-type {\n",
       "        vertical-align: middle;\n",
       "    }\n",
       "\n",
       "    .dataframe tbody tr th {\n",
       "        vertical-align: top;\n",
       "    }\n",
       "\n",
       "    .dataframe thead th {\n",
       "        text-align: right;\n",
       "    }\n",
       "</style>\n",
       "<table border=\"1\" class=\"dataframe\">\n",
       "  <thead>\n",
       "    <tr style=\"text-align: right;\">\n",
       "      <th></th>\n",
       "      <th>Model</th>\n",
       "      <th>Accuracy</th>\n",
       "      <th>Precision</th>\n",
       "      <th>Recall</th>\n",
       "      <th>F1</th>\n",
       "    </tr>\n",
       "  </thead>\n",
       "  <tbody>\n",
       "    <tr>\n",
       "      <th>0</th>\n",
       "      <td>Naive Bayes</td>\n",
       "      <td>0.51+/-0.08</td>\n",
       "      <td>0.37+/-0.1</td>\n",
       "      <td>0.43+/-0.46</td>\n",
       "      <td>0.28+/-0.25</td>\n",
       "    </tr>\n",
       "  </tbody>\n",
       "</table>\n",
       "</div>"
      ],
      "text/plain": [
       "         Model     Accuracy   Precision       Recall           F1\n",
       "0  Naive Bayes  0.51+/-0.08  0.37+/-0.1  0.43+/-0.46  0.28+/-0.25"
      ]
     },
     "execution_count": 62,
     "metadata": {},
     "output_type": "execute_result"
    }
   ],
   "source": [
    "# Cross Validation\n",
    "nb = GaussianNB()\n",
    "nb_cv = cross_validation( nb, X_train, y_train, \"Naive Bayes\" )\n",
    "nb_cv"
   ]
  },
  {
   "cell_type": "markdown",
   "metadata": {
    "heading_collapsed": true,
    "hidden": true
   },
   "source": [
    "## 7.6. Multilayer Perceptron"
   ]
  },
  {
   "cell_type": "code",
   "execution_count": 63,
   "metadata": {
    "ExecuteTime": {
     "end_time": "2022-04-06T15:13:09.707204Z",
     "start_time": "2022-04-06T15:13:08.181880Z"
    },
    "hidden": true
   },
   "outputs": [
    {
     "name": "stdout",
     "output_type": "stream",
     "text": [
      "Model: Multilayer Perceptron\n",
      "              precision    recall  f1-score   support\n",
      "\n",
      "Not reliable       0.59      0.84      0.69      2013\n",
      "    Reliable       0.49      0.22      0.30      1492\n",
      "\n",
      "    accuracy                           0.57      3505\n",
      "   macro avg       0.54      0.53      0.50      3505\n",
      "weighted avg       0.55      0.57      0.53      3505\n",
      "\n"
     ]
    },
    {
     "data": {
      "image/png": "[encoded data removed]",
      "text/plain": [
       "<Figure size 432x288 with 2 Axes>"
      ]
     },
     "metadata": {},
     "output_type": "display_data"
    }
   ],
   "source": [
    "mlp = MLPClassifier( random_state=13 )\n",
    "mlp.fit( X_train, y_train )\n",
    "mlp_pred = mlp.predict( X_test )\n",
    "ml_metrics( y_test, mlp_pred, \"Multilayer Perceptron\" )"
   ]
  },
  {
   "cell_type": "code",
   "execution_count": 64,
   "metadata": {
    "ExecuteTime": {
     "end_time": "2022-04-06T15:13:34.962810Z",
     "start_time": "2022-04-06T15:13:14.872024Z"
    },
    "hidden": true
   },
   "outputs": [
    {
     "data": {
      "text/html": [
       "<div>\n",
       "<style scoped>\n",
       "    .dataframe tbody tr th:only-of-type {\n",
       "        vertical-align: middle;\n",
       "    }\n",
       "\n",
       "    .dataframe tbody tr th {\n",
       "        vertical-align: top;\n",
       "    }\n",
       "\n",
       "    .dataframe thead th {\n",
       "        text-align: right;\n",
       "    }\n",
       "</style>\n",
       "<table border=\"1\" class=\"dataframe\">\n",
       "  <thead>\n",
       "    <tr style=\"text-align: right;\">\n",
       "      <th></th>\n",
       "      <th>Model</th>\n",
       "      <th>Accuracy</th>\n",
       "      <th>Precision</th>\n",
       "      <th>Recall</th>\n",
       "      <th>F1</th>\n",
       "    </tr>\n",
       "  </thead>\n",
       "  <tbody>\n",
       "    <tr>\n",
       "      <th>0</th>\n",
       "      <td>Multilayer Perceptron</td>\n",
       "      <td>0.59+/-0.01</td>\n",
       "      <td>0.52+/-0.04</td>\n",
       "      <td>0.19+/-0.03</td>\n",
       "      <td>0.27+/-0.03</td>\n",
       "    </tr>\n",
       "  </tbody>\n",
       "</table>\n",
       "</div>"
      ],
      "text/plain": [
       "                   Model     Accuracy    Precision       Recall           F1\n",
       "0  Multilayer Perceptron  0.59+/-0.01  0.52+/-0.04  0.19+/-0.03  0.27+/-0.03"
      ]
     },
     "execution_count": 64,
     "metadata": {},
     "output_type": "execute_result"
    }
   ],
   "source": [
    "# Cross Validation\n",
    "mlp = MLPClassifier( random_state=13 )\n",
    "mlp_cv = cross_validation( mlp, X_train, y_train, 'Multilayer Perceptron' )\n",
    "mlp_cv"
   ]
  },
  {
   "cell_type": "markdown",
   "metadata": {
    "heading_collapsed": true,
    "hidden": true
   },
   "source": [
    "## 7.7. Random Forest"
   ]
  },
  {
   "cell_type": "code",
   "execution_count": 65,
   "metadata": {
    "ExecuteTime": {
     "end_time": "2022-04-06T15:13:52.295414Z",
     "start_time": "2022-04-06T15:13:48.960859Z"
    },
    "hidden": true
   },
   "outputs": [
    {
     "name": "stdout",
     "output_type": "stream",
     "text": [
      "Model: Random Forest\n",
      "              precision    recall  f1-score   support\n",
      "\n",
      "Not reliable       0.64      0.80      0.71      2013\n",
      "    Reliable       0.60      0.39      0.47      1492\n",
      "\n",
      "    accuracy                           0.63      3505\n",
      "   macro avg       0.62      0.60      0.59      3505\n",
      "weighted avg       0.62      0.63      0.61      3505\n",
      "\n"
     ]
    },
    {
     "data": {
      "image/png": "[encoded data removed]",
      "text/plain": [
       "<Figure size 432x288 with 2 Axes>"
      ]
     },
     "metadata": {},
     "output_type": "display_data"
    }
   ],
   "source": [
    "rf = RandomForestClassifier( random_state=13 )\n",
    "rf.fit( X_train, y_train )\n",
    "rf_pred = rf.predict( X_test )\n",
    "ml_metrics( y_test, rf_pred, 'Random Forest')"
   ]
  },
  {
   "cell_type": "code",
   "execution_count": 66,
   "metadata": {
    "ExecuteTime": {
     "end_time": "2022-04-06T15:14:45.047469Z",
     "start_time": "2022-04-06T15:13:58.977451Z"
    },
    "hidden": true
   },
   "outputs": [
    {
     "data": {
      "text/html": [
       "<div>\n",
       "<style scoped>\n",
       "    .dataframe tbody tr th:only-of-type {\n",
       "        vertical-align: middle;\n",
       "    }\n",
       "\n",
       "    .dataframe tbody tr th {\n",
       "        vertical-align: top;\n",
       "    }\n",
       "\n",
       "    .dataframe thead th {\n",
       "        text-align: right;\n",
       "    }\n",
       "</style>\n",
       "<table border=\"1\" class=\"dataframe\">\n",
       "  <thead>\n",
       "    <tr style=\"text-align: right;\">\n",
       "      <th></th>\n",
       "      <th>Model</th>\n",
       "      <th>Accuracy</th>\n",
       "      <th>Precision</th>\n",
       "      <th>Recall</th>\n",
       "      <th>F1</th>\n",
       "    </tr>\n",
       "  </thead>\n",
       "  <tbody>\n",
       "    <tr>\n",
       "      <th>0</th>\n",
       "      <td>Random Forest</td>\n",
       "      <td>0.63+/-0.01</td>\n",
       "      <td>0.58+/-0.02</td>\n",
       "      <td>0.39+/-0.01</td>\n",
       "      <td>0.47+/-0.01</td>\n",
       "    </tr>\n",
       "  </tbody>\n",
       "</table>\n",
       "</div>"
      ],
      "text/plain": [
       "           Model     Accuracy    Precision       Recall           F1\n",
       "0  Random Forest  0.63+/-0.01  0.58+/-0.02  0.39+/-0.01  0.47+/-0.01"
      ]
     },
     "execution_count": 66,
     "metadata": {},
     "output_type": "execute_result"
    }
   ],
   "source": [
    "# Cross Validation\n",
    "rf = RandomForestClassifier( random_state=13 )\n",
    "rf_cv = cross_validation( rf, X_train, y_train, 'Random Forest' )\n",
    "rf_cv"
   ]
  },
  {
   "cell_type": "markdown",
   "metadata": {
    "heading_collapsed": true,
    "hidden": true
   },
   "source": [
    "## 7.8. AdaBoost Classifier"
   ]
  },
  {
   "cell_type": "code",
   "execution_count": 67,
   "metadata": {
    "ExecuteTime": {
     "end_time": "2022-04-06T15:15:05.611219Z",
     "start_time": "2022-04-06T15:15:03.965208Z"
    },
    "hidden": true
   },
   "outputs": [
    {
     "name": "stdout",
     "output_type": "stream",
     "text": [
      "Model: AdaBoostClassifier\n",
      "              precision    recall  f1-score   support\n",
      "\n",
      "Not reliable       0.61      0.84      0.71      2013\n",
      "    Reliable       0.57      0.29      0.38      1492\n",
      "\n",
      "    accuracy                           0.60      3505\n",
      "   macro avg       0.59      0.56      0.55      3505\n",
      "weighted avg       0.60      0.60      0.57      3505\n",
      "\n"
     ]
    },
    {
     "data": {
      "image/png": "[encoded data removed]",
      "text/plain": [
       "<Figure size 432x288 with 2 Axes>"
      ]
     },
     "metadata": {},
     "output_type": "display_data"
    }
   ],
   "source": [
    "clf = AdaBoostClassifier()\n",
    "clf.fit( X_train, y_train )\n",
    "clf_pred = clf.predict( X_test )\n",
    "ml_metrics( y_test, clf_pred, 'AdaBoostClassifier' )"
   ]
  },
  {
   "cell_type": "code",
   "execution_count": 68,
   "metadata": {
    "ExecuteTime": {
     "end_time": "2022-04-06T15:15:28.206933Z",
     "start_time": "2022-04-06T15:15:13.972821Z"
    },
    "hidden": true
   },
   "outputs": [
    {
     "data": {
      "text/html": [
       "<div>\n",
       "<style scoped>\n",
       "    .dataframe tbody tr th:only-of-type {\n",
       "        vertical-align: middle;\n",
       "    }\n",
       "\n",
       "    .dataframe tbody tr th {\n",
       "        vertical-align: top;\n",
       "    }\n",
       "\n",
       "    .dataframe thead th {\n",
       "        text-align: right;\n",
       "    }\n",
       "</style>\n",
       "<table border=\"1\" class=\"dataframe\">\n",
       "  <thead>\n",
       "    <tr style=\"text-align: right;\">\n",
       "      <th></th>\n",
       "      <th>Model</th>\n",
       "      <th>Accuracy</th>\n",
       "      <th>Precision</th>\n",
       "      <th>Recall</th>\n",
       "      <th>F1</th>\n",
       "    </tr>\n",
       "  </thead>\n",
       "  <tbody>\n",
       "    <tr>\n",
       "      <th>0</th>\n",
       "      <td>AdaBoostClassifier</td>\n",
       "      <td>0.59+/-0.01</td>\n",
       "      <td>0.5+/-0.02</td>\n",
       "      <td>0.29+/-0.01</td>\n",
       "      <td>0.36+/-0.02</td>\n",
       "    </tr>\n",
       "  </tbody>\n",
       "</table>\n",
       "</div>"
      ],
      "text/plain": [
       "                Model     Accuracy   Precision       Recall           F1\n",
       "0  AdaBoostClassifier  0.59+/-0.01  0.5+/-0.02  0.29+/-0.01  0.36+/-0.02"
      ]
     },
     "execution_count": 68,
     "metadata": {},
     "output_type": "execute_result"
    }
   ],
   "source": [
    "# Cross Validation\n",
    "clf = AdaBoostClassifier( random_state=13 )\n",
    "clf_cv = cross_validation( clf, X_train, y_train, 'AdaBoostClassifier' )\n",
    "clf_cv"
   ]
  },
  {
   "cell_type": "markdown",
   "metadata": {
    "heading_collapsed": true,
    "hidden": true
   },
   "source": [
    "## 7.9. Compare Model Performance"
   ]
  },
  {
   "cell_type": "code",
   "execution_count": 69,
   "metadata": {
    "ExecuteTime": {
     "end_time": "2022-04-06T15:15:43.999090Z",
     "start_time": "2022-04-06T15:15:43.954936Z"
    },
    "hidden": true
   },
   "outputs": [
    {
     "data": {
      "text/html": [
       "<div>\n",
       "<style scoped>\n",
       "    .dataframe tbody tr th:only-of-type {\n",
       "        vertical-align: middle;\n",
       "    }\n",
       "\n",
       "    .dataframe tbody tr th {\n",
       "        vertical-align: top;\n",
       "    }\n",
       "\n",
       "    .dataframe thead th {\n",
       "        text-align: right;\n",
       "    }\n",
       "</style>\n",
       "<table border=\"1\" class=\"dataframe\">\n",
       "  <thead>\n",
       "    <tr style=\"text-align: right;\">\n",
       "      <th></th>\n",
       "      <th>Model</th>\n",
       "      <th>Accuracy</th>\n",
       "      <th>Precision</th>\n",
       "      <th>Recall</th>\n",
       "      <th>F1</th>\n",
       "    </tr>\n",
       "  </thead>\n",
       "  <tbody>\n",
       "    <tr>\n",
       "      <th>0</th>\n",
       "      <td>Random Forest</td>\n",
       "      <td>0.63+/-0.01</td>\n",
       "      <td>0.58+/-0.02</td>\n",
       "      <td>0.39+/-0.01</td>\n",
       "      <td>0.47+/-0.01</td>\n",
       "    </tr>\n",
       "    <tr>\n",
       "      <th>1</th>\n",
       "      <td>Multilayer Perceptron</td>\n",
       "      <td>0.59+/-0.01</td>\n",
       "      <td>0.52+/-0.04</td>\n",
       "      <td>0.19+/-0.03</td>\n",
       "      <td>0.27+/-0.03</td>\n",
       "    </tr>\n",
       "    <tr>\n",
       "      <th>2</th>\n",
       "      <td>AdaBoostClassifier</td>\n",
       "      <td>0.59+/-0.01</td>\n",
       "      <td>0.5+/-0.02</td>\n",
       "      <td>0.29+/-0.01</td>\n",
       "      <td>0.36+/-0.02</td>\n",
       "    </tr>\n",
       "    <tr>\n",
       "      <th>3</th>\n",
       "      <td>Decision Tree</td>\n",
       "      <td>0.57+/-0.01</td>\n",
       "      <td>0.48+/-0.01</td>\n",
       "      <td>0.5+/-0.02</td>\n",
       "      <td>0.49+/-0.01</td>\n",
       "    </tr>\n",
       "    <tr>\n",
       "      <th>4</th>\n",
       "      <td>K-Nearest Neighbors</td>\n",
       "      <td>0.57+/-0.01</td>\n",
       "      <td>0.48+/-0.01</td>\n",
       "      <td>0.41+/-0.01</td>\n",
       "      <td>0.44+/-0.01</td>\n",
       "    </tr>\n",
       "    <tr>\n",
       "      <th>5</th>\n",
       "      <td>Dummy</td>\n",
       "      <td>0.52+/-0.02</td>\n",
       "      <td>0.41+/-0.02</td>\n",
       "      <td>0.41+/-0.02</td>\n",
       "      <td>0.41+/-0.02</td>\n",
       "    </tr>\n",
       "    <tr>\n",
       "      <th>6</th>\n",
       "      <td>Naive Bayes</td>\n",
       "      <td>0.51+/-0.08</td>\n",
       "      <td>0.37+/-0.1</td>\n",
       "      <td>0.43+/-0.46</td>\n",
       "      <td>0.28+/-0.25</td>\n",
       "    </tr>\n",
       "    <tr>\n",
       "      <th>7</th>\n",
       "      <td>Logistic Regression</td>\n",
       "      <td>0.59+/-0.0</td>\n",
       "      <td>0.27+/-0.18</td>\n",
       "      <td>0.0+/-0.0</td>\n",
       "      <td>0.0+/-0.0</td>\n",
       "    </tr>\n",
       "  </tbody>\n",
       "</table>\n",
       "</div>"
      ],
      "text/plain": [
       "                   Model     Accuracy    Precision       Recall           F1\n",
       "0          Random Forest  0.63+/-0.01  0.58+/-0.02  0.39+/-0.01  0.47+/-0.01\n",
       "1  Multilayer Perceptron  0.59+/-0.01  0.52+/-0.04  0.19+/-0.03  0.27+/-0.03\n",
       "2     AdaBoostClassifier  0.59+/-0.01   0.5+/-0.02  0.29+/-0.01  0.36+/-0.02\n",
       "3          Decision Tree  0.57+/-0.01  0.48+/-0.01   0.5+/-0.02  0.49+/-0.01\n",
       "4    K-Nearest Neighbors  0.57+/-0.01  0.48+/-0.01  0.41+/-0.01  0.44+/-0.01\n",
       "5                  Dummy  0.52+/-0.02  0.41+/-0.02  0.41+/-0.02  0.41+/-0.02\n",
       "6            Naive Bayes  0.51+/-0.08   0.37+/-0.1  0.43+/-0.46  0.28+/-0.25\n",
       "7    Logistic Regression   0.59+/-0.0  0.27+/-0.18    0.0+/-0.0    0.0+/-0.0"
      ]
     },
     "execution_count": 69,
     "metadata": {},
     "output_type": "execute_result"
    }
   ],
   "source": [
    "modeling_result = pd.concat( [dummy_cv, lr_cv, dt_cv, knn_cv, nb_cv, mlp_cv, rf_cv, clf_cv] )\n",
    "modeling_result.sort_values( ['Precision', 'Recall'], ascending=False ).reset_index( drop=True )"
   ]
  },
  {
   "cell_type": "markdown",
   "metadata": {
    "heading_collapsed": true
   },
   "source": [
    "# 8.0. Hyperparameter Fine Tuning"
   ]
  },
  {
   "cell_type": "code",
   "execution_count": 114,
   "metadata": {
    "ExecuteTime": {
     "end_time": "2022-04-05T19:45:33.354099Z",
     "start_time": "2022-04-05T16:45:34.789002Z"
    },
    "hidden": true
   },
   "outputs": [
    {
     "name": "stdout",
     "output_type": "stream",
     "text": [
      "Fitting 5 folds for each of 100 candidates, totalling 500 fits\n"
     ]
    }
   ],
   "source": [
    "params = {'n_estimators': [200, 400, 600, 800, 1000, 1200, 1400, 1600, 1800, 2000],\n",
    "          'max_features': ['auto', 'sqrt'],\n",
    "          'max_depth': [10, 20, 30, 40, 50, 60, 70, 80, 90, 100, None],\n",
    "          'min_samples_split': [2, 5, 10],\n",
    "          'min_samples_leaf': [1, 2, 4],\n",
    "          'bootstrap': [True, False] }\n",
    "\n",
    "\n",
    "precision2_score = make_scorer( precision_score, labels=[1], average='macro' )\n",
    "\n",
    "search = RandomizedSearchCV(\n",
    "        estimator = RandomForestClassifier( random_state=13 ),\n",
    "        param_distributions=params,\n",
    "        n_iter=100,\n",
    "        scoring=precision2_score,\n",
    "        n_jobs=-1,\n",
    "        random_state=13,\n",
    "        verbose=2\n",
    ")\n",
    "\n",
    "result = search.fit( X_train, y_train )"
   ]
  },
  {
   "cell_type": "code",
   "execution_count": 116,
   "metadata": {
    "ExecuteTime": {
     "end_time": "2022-04-05T21:54:08.635236Z",
     "start_time": "2022-04-05T21:54:08.619797Z"
    },
    "hidden": true
   },
   "outputs": [
    {
     "data": {
      "text/plain": [
       "{'n_estimators': 800,\n",
       " 'min_samples_split': 10,\n",
       " 'min_samples_leaf': 2,\n",
       " 'max_features': 'auto',\n",
       " 'max_depth': 20,\n",
       " 'bootstrap': True}"
      ]
     },
     "execution_count": 116,
     "metadata": {},
     "output_type": "execute_result"
    }
   ],
   "source": [
    "# The best params\n",
    "result.best_params_"
   ]
  },
  {
   "cell_type": "code",
   "execution_count": 115,
   "metadata": {
    "ExecuteTime": {
     "end_time": "2022-04-05T21:52:45.636035Z",
     "start_time": "2022-04-05T21:52:44.613559Z"
    },
    "hidden": true
   },
   "outputs": [
    {
     "name": "stdout",
     "output_type": "stream",
     "text": [
      "Model: Random Forest\n",
      "              precision    recall  f1-score   support\n",
      "\n",
      "Not reliable       0.67      0.82      0.74      2549\n",
      "    Reliable       0.63      0.43      0.51      1832\n",
      "\n",
      "    accuracy                           0.66      4381\n",
      "   macro avg       0.65      0.62      0.62      4381\n",
      "weighted avg       0.65      0.66      0.64      4381\n",
      "\n"
     ]
    },
    {
     "data": {
      "image/png": "[encoded data removed]",
      "text/plain": [
       "<Figure size 432x288 with 2 Axes>"
      ]
     },
     "metadata": {},
     "output_type": "display_data"
    }
   ],
   "source": [
    "tuned_model = result.best_estimator_\n",
    "predictions = tuned_model.predict( X_test )\n",
    "ml_metrics( y_test, predictions, \"Random Forest\" )"
   ]
  },
  {
   "cell_type": "code",
   "execution_count": 71,
   "metadata": {
    "ExecuteTime": {
     "end_time": "2022-04-06T15:20:06.131355Z",
     "start_time": "2022-04-06T15:19:43.966497Z"
    },
    "hidden": true
   },
   "outputs": [
    {
     "name": "stdout",
     "output_type": "stream",
     "text": [
      "Model: Tuned Model\n",
      "              precision    recall  f1-score   support\n",
      "\n",
      "Not reliable       0.64      0.83      0.72      2013\n",
      "    Reliable       0.62      0.37      0.46      1492\n",
      "\n",
      "    accuracy                           0.63      3505\n",
      "   macro avg       0.63      0.60      0.59      3505\n",
      "weighted avg       0.63      0.63      0.61      3505\n",
      "\n"
     ]
    },
    {
     "data": {
      "image/png": "[encoded data removed]",
      "text/plain": [
       "<Figure size 432x288 with 2 Axes>"
      ]
     },
     "metadata": {},
     "output_type": "display_data"
    }
   ],
   "source": [
    "tuned_model = RandomForestClassifier(\n",
    " n_estimators=800,\n",
    " min_samples_split=10,\n",
    " min_samples_leaf=2,\n",
    " max_features='auto',\n",
    " max_depth=20,\n",
    " bootstrap=True,\n",
    " random_state=13 )\n",
    "\n",
    "tuned_model.fit( X_train, y_train )\n",
    "predictions = tuned_model.predict( X_test )\n",
    "ml_metrics( y_test, predictions, 'Tuned Model' )"
   ]
  },
  {
   "cell_type": "code",
   "execution_count": 194,
   "metadata": {
    "ExecuteTime": {
     "end_time": "2022-04-05T23:43:06.471113Z",
     "start_time": "2022-04-05T23:43:04.763845Z"
    },
    "hidden": true
   },
   "outputs": [
    {
     "data": {
      "text/plain": [
       "['model/random_forest.joblib']"
      ]
     },
     "execution_count": 194,
     "metadata": {},
     "output_type": "execute_result"
    }
   ],
   "source": [
    "# Saving the classification model\n",
    "dump( tuned_model, 'model/random_forest.joblib' )"
   ]
  },
  {
   "cell_type": "markdown",
   "metadata": {},
   "source": [
    "# 9.0. Machine Learning Performance"
   ]
  },
  {
   "cell_type": "code",
   "execution_count": 98,
   "metadata": {
    "ExecuteTime": {
     "end_time": "2022-04-06T15:55:29.510390Z",
     "start_time": "2022-04-06T15:55:28.966682Z"
    }
   },
   "outputs": [],
   "source": [
    "# test_df.to_csv( 'data/test.csv', index=False )"
   ]
  },
  {
   "cell_type": "code",
   "execution_count": 99,
   "metadata": {
    "ExecuteTime": {
     "end_time": "2022-04-06T15:55:38.395798Z",
     "start_time": "2022-04-06T15:55:38.170604Z"
    }
   },
   "outputs": [],
   "source": [
    "test_df = pd.read_csv( 'data/test.csv' )\n",
    "X = test_df.loc[:, cols_selected_boruta]\n",
    "y = test_df['Class']"
   ]
  },
  {
   "cell_type": "code",
   "execution_count": 102,
   "metadata": {
    "ExecuteTime": {
     "end_time": "2022-04-06T15:56:25.309247Z",
     "start_time": "2022-04-06T15:56:23.981608Z"
    }
   },
   "outputs": [
    {
     "name": "stdout",
     "output_type": "stream",
     "text": [
      "Model: Tuned Model\n",
      "              precision    recall  f1-score   support\n",
      "\n",
      "Not reliable       0.65      0.84      0.74      1707\n",
      "    Reliable       0.62      0.38      0.47      1213\n",
      "\n",
      "    accuracy                           0.65      2920\n",
      "   macro avg       0.64      0.61      0.60      2920\n",
      "weighted avg       0.64      0.65      0.63      2920\n",
      "\n"
     ]
    },
    {
     "data": {
      "image/png": "[encoded data removed]",
      "text/plain": [
       "<Figure size 432x288 with 2 Axes>"
      ]
     },
     "metadata": {},
     "output_type": "display_data"
    }
   ],
   "source": [
    "predictions = tuned_model.predict( X )\n",
    "ml_metrics( y, predictions, 'Tuned Model' )"
   ]
  },
  {
   "cell_type": "code",
   "execution_count": null,
   "metadata": {},
   "outputs": [],
   "source": []
  },
  {
   "cell_type": "code",
   "execution_count": null,
   "metadata": {},
   "outputs": [],
   "source": []
  },
  {
   "cell_type": "code",
   "execution_count": null,
   "metadata": {},
   "outputs": [],
   "source": []
  },
  {
   "cell_type": "markdown",
   "metadata": {
    "heading_collapsed": true
   },
   "source": [
    "# 10.0. Deploy Model to Production"
   ]
  },
  {
   "cell_type": "markdown",
   "metadata": {
    "heading_collapsed": true
   },
   "source": [
    "# 11.0. Conclusions"
   ]
  },
  {
   "cell_type": "code",
   "execution_count": null,
   "metadata": {
    "hidden": true
   },
   "outputs": [],
   "source": []
  }
 ],
 "metadata": {
  "kernelspec": {
   "display_name": "Python 3",
   "language": "python",
   "name": "python3"
  },
  "language_info": {
   "codemirror_mode": {
    "name": "ipython",
    "version": 3
   },
   "file_extension": ".py",
   "mimetype": "text/x-python",
   "name": "python",
   "nbconvert_exporter": "python",
   "pygments_lexer": "ipython3",
   "version": "3.8.3"
  },
  "varInspector": {
   "cols": {
    "lenName": 16,
    "lenType": 16,
    "lenVar": 40
   },
   "kernels_config": {
    "python": {
     "delete_cmd_postfix": "",
     "delete_cmd_prefix": "del ",
     "library": "var_list.py",
     "varRefreshCmd": "print(var_dic_list())"
    },
    "r": {
     "delete_cmd_postfix": ") ",
     "delete_cmd_prefix": "rm(",
     "library": "var_list.r",
     "varRefreshCmd": "cat(var_dic_list()) "
    }
   },
   "types_to_exclude": [
    "module",
    "function",
    "builtin_function_or_method",
    "instance",
    "_Feature"
   ],
   "window_display": false
  }
 },
 "nbformat": 4,
 "nbformat_minor": 4
}
